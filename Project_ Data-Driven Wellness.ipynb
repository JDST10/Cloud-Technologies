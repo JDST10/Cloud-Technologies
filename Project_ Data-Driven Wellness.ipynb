{
 "cells": [
  {
   "cell_type": "markdown",
   "metadata": {
    "application/vnd.databricks.v1+cell": {
     "cellMetadata": {
      "byteLimit": 2048000,
      "rowLimit": 10000
     },
     "inputWidgets": {},
     "nuid": "96816ed7-b08a-4ca3-abb9-f99880c3535d",
     "showTitle": false,
     "title": ""
    }
   },
   "source": [
    "\n",
    "## Overview\n",
    "\n",
    "This notebook will show you how to create and query a table or DataFrame that you uploaded to DBFS. [DBFS](https://docs.databricks.com/user-guide/dbfs-databricks-file-system.html) is a Databricks File System that allows you to store data for querying inside of Databricks. This notebook assumes that you have a file already inside of DBFS that you would like to read from.\n",
    "\n",
    "This notebook is written in **Python** so the default cell type is Python. However, you can use different languages by using the `%LANGUAGE` syntax. Python, Scala, SQL, and R are all supported.\n",
    "\n",
    "\n",
    "## Source of the data\n",
    "Kaggle: https://www.kaggle.com/datasets/deepalisukhdeve/bellabeat"
   ]
  },
  {
   "cell_type": "markdown",
   "metadata": {
    "application/vnd.databricks.v1+cell": {
     "cellMetadata": {
      "byteLimit": 2048000,
      "rowLimit": 10000
     },
     "inputWidgets": {},
     "nuid": "e62f29ff-6a62-446f-acc1-f28720fd279c",
     "showTitle": false,
     "title": ""
    }
   },
   "source": [
    "## Dataframes:\n",
    "1. dailyActivity_merged\n",
    "2. heartrate_seconds_merged\n",
    "3. sleepDay_merged\n",
    "4. weightLogInfo_merged\n"
   ]
  },
  {
   "cell_type": "markdown",
   "metadata": {
    "application/vnd.databricks.v1+cell": {
     "cellMetadata": {
      "byteLimit": 2048000,
      "rowLimit": 10000
     },
     "inputWidgets": {},
     "nuid": "768a7afe-173c-47d6-af4a-6b28609884d3",
     "showTitle": false,
     "title": ""
    }
   },
   "source": [
    "## Loading"
   ]
  },
  {
   "cell_type": "code",
   "execution_count": 0,
   "metadata": {
    "application/vnd.databricks.v1+cell": {
     "cellMetadata": {
      "byteLimit": 2048000,
      "rowLimit": 10000
     },
     "inputWidgets": {},
     "nuid": "6ea98183-d3e9-45be-96f3-711e5c5b6951",
     "showTitle": false,
     "title": ""
    }
   },
   "outputs": [],
   "source": [
    "from pyspark.sql.functions import isnan, when, count, col"
   ]
  },
  {
   "cell_type": "code",
   "execution_count": 0,
   "metadata": {
    "application/vnd.databricks.v1+cell": {
     "cellMetadata": {
      "byteLimit": 2048000,
      "rowLimit": 10000
     },
     "inputWidgets": {},
     "nuid": "6482be4c-f067-47c9-b0ac-35c938b94601",
     "showTitle": false,
     "title": ""
    }
   },
   "outputs": [],
   "source": [
    "df_dailyActivity_merged = spark.read.format(\"csv\").option(\"header\", \"true\").load(\"/FileStore/tables/dailyActivity_merged.csv\")"
   ]
  },
  {
   "cell_type": "code",
   "execution_count": 0,
   "metadata": {
    "application/vnd.databricks.v1+cell": {
     "cellMetadata": {
      "byteLimit": 2048000,
      "rowLimit": 10000
     },
     "inputWidgets": {},
     "nuid": "c4ff630f-91d4-40e4-bfcc-484c9162498e",
     "showTitle": false,
     "title": ""
    }
   },
   "outputs": [],
   "source": [
    "df_sleepDay_merged = spark.read.format(\"csv\").option(\"header\", \"true\").load(\"/FileStore/tables/sleepDay_merged.csv\")"
   ]
  },
  {
   "cell_type": "code",
   "execution_count": 0,
   "metadata": {
    "application/vnd.databricks.v1+cell": {
     "cellMetadata": {
      "byteLimit": 2048000,
      "rowLimit": 10000
     },
     "inputWidgets": {},
     "nuid": "aeedda75-e996-4c4d-8424-f984a6869af0",
     "showTitle": false,
     "title": ""
    }
   },
   "outputs": [],
   "source": [
    "df_heartrate_seconds_merged = spark.read.format(\"csv\").option(\"header\", \"true\").load(\"/FileStore/tables/heartrate_seconds_merged.csv\")"
   ]
  },
  {
   "cell_type": "code",
   "execution_count": 0,
   "metadata": {
    "application/vnd.databricks.v1+cell": {
     "cellMetadata": {
      "byteLimit": 2048000,
      "rowLimit": 10000
     },
     "inputWidgets": {},
     "nuid": "811d4dd2-0c95-4eb3-af84-3efe48dfe887",
     "showTitle": false,
     "title": ""
    }
   },
   "outputs": [],
   "source": [
    "df_weightLogInfo_merged = spark.read.format(\"csv\").option(\"header\", \"true\").load(\"/FileStore/tables/weightLogInfo_merged.csv\")"
   ]
  },
  {
   "cell_type": "code",
   "execution_count": 0,
   "metadata": {
    "application/vnd.databricks.v1+cell": {
     "cellMetadata": {
      "byteLimit": 2048000,
      "rowLimit": 10000
     },
     "inputWidgets": {},
     "nuid": "f7b5fbbe-4ff6-40e2-a041-ff22032b2cb3",
     "showTitle": false,
     "title": ""
    }
   },
   "outputs": [],
   "source": [
    "from pyspark.sql.functions import to_date, to_timestamp, col, regexp_replace, date_format"
   ]
  },
  {
   "cell_type": "code",
   "execution_count": 0,
   "metadata": {
    "application/vnd.databricks.v1+cell": {
     "cellMetadata": {
      "byteLimit": 2048000,
      "rowLimit": 10000
     },
     "inputWidgets": {},
     "nuid": "ad24cd07-61ef-4c42-9787-ebc83290e68e",
     "showTitle": false,
     "title": ""
    }
   },
   "outputs": [],
   "source": [
    "df_dailyActivity_merged = df_dailyActivity_merged.withColumn(\"ActivityDate\", to_date(\"ActivityDate\", \"M/d/y\"))\n",
    "\n",
    "for c in ['TotalSteps',\n",
    " 'TotalDistance',\n",
    " 'TrackerDistance',\n",
    " 'LoggedActivitiesDistance',\n",
    " 'VeryActiveDistance',\n",
    " 'ModeratelyActiveDistance',\n",
    " 'LightActiveDistance',\n",
    " 'SedentaryActiveDistance',\n",
    " 'VeryActiveMinutes',\n",
    " 'FairlyActiveMinutes',\n",
    " 'LightlyActiveMinutes',\n",
    " 'SedentaryMinutes',\n",
    " 'Calories']:\n",
    "    df_dailyActivity_merged = df_dailyActivity_merged.withColumn(c, regexp_replace(col(c), \",\", \".\").cast(\"double\"))"
   ]
  },
  {
   "cell_type": "code",
   "execution_count": 0,
   "metadata": {
    "application/vnd.databricks.v1+cell": {
     "cellMetadata": {
      "byteLimit": 2048000,
      "rowLimit": 10000
     },
     "inputWidgets": {},
     "nuid": "d89de528-41b5-4c39-8287-96e92212f247",
     "showTitle": false,
     "title": ""
    }
   },
   "outputs": [],
   "source": [
    "df_dailyActivity_merged = df_dailyActivity_merged.filter(df_dailyActivity_merged.Calories != 0).select(\"*\")"
   ]
  },
  {
   "cell_type": "code",
   "execution_count": 0,
   "metadata": {
    "application/vnd.databricks.v1+cell": {
     "cellMetadata": {
      "byteLimit": 2048000,
      "rowLimit": 10000
     },
     "inputWidgets": {},
     "nuid": "14c77513-9036-4761-812b-0a9d6ca72a34",
     "showTitle": false,
     "title": ""
    }
   },
   "outputs": [],
   "source": [
    "display(df_sleepDay_merged)"
   ]
  },
  {
   "cell_type": "code",
   "execution_count": 0,
   "metadata": {
    "application/vnd.databricks.v1+cell": {
     "cellMetadata": {
      "byteLimit": 2048000,
      "rowLimit": 10000
     },
     "inputWidgets": {},
     "nuid": "bdb2e777-75ef-46df-a350-c978bb511ec0",
     "showTitle": false,
     "title": ""
    }
   },
   "outputs": [],
   "source": [
    "df_sleepDay_merged = df_sleepDay_merged.withColumn(\n",
    "    \"SleepDay\",\n",
    "    to_timestamp(\"SleepDay\", \"M/d/y h:mm:ss a\")\n",
    ")\n",
    "\n",
    "for c in ['TotalSleepRecords',\n",
    " 'TotalMinutesAsleep',\n",
    " 'TotalTimeInBed']:\n",
    "    df_sleepDay_merged = df_sleepDay_merged.withColumn(c, regexp_replace(col(c), \",\", \".\").cast(\"double\"))"
   ]
  },
  {
   "cell_type": "code",
   "execution_count": 0,
   "metadata": {
    "application/vnd.databricks.v1+cell": {
     "cellMetadata": {
      "byteLimit": 2048000,
      "rowLimit": 10000
     },
     "inputWidgets": {},
     "nuid": "843148ab-2d23-4c0c-9663-49f516a7b0b4",
     "showTitle": false,
     "title": ""
    }
   },
   "outputs": [
    {
     "output_type": "stream",
     "name": "stdout",
     "output_type": "stream",
     "text": [
      "root\n |-- Id: string (nullable = true)\n |-- SleepDay: timestamp (nullable = true)\n |-- TotalSleepRecords: double (nullable = true)\n |-- TotalMinutesAsleep: double (nullable = true)\n |-- TotalTimeInBed: double (nullable = true)\n\n"
     ]
    }
   ],
   "source": [
    "df_sleepDay_merged.printSchema()"
   ]
  },
  {
   "cell_type": "code",
   "execution_count": 0,
   "metadata": {
    "application/vnd.databricks.v1+cell": {
     "cellMetadata": {
      "byteLimit": 2048000,
      "rowLimit": 10000
     },
     "inputWidgets": {},
     "nuid": "bd82bb99-1479-4d5c-be10-8c36df0f1d44",
     "showTitle": false,
     "title": ""
    }
   },
   "outputs": [],
   "source": [
    "display(df_dailyActivity_merged)"
   ]
  },
  {
   "cell_type": "code",
   "execution_count": 0,
   "metadata": {
    "application/vnd.databricks.v1+cell": {
     "cellMetadata": {
      "byteLimit": 2048000,
      "rowLimit": 10000
     },
     "inputWidgets": {},
     "nuid": "afba765b-a10d-431e-b43b-9040e40ced95",
     "showTitle": false,
     "title": ""
    }
   },
   "outputs": [
    {
     "output_type": "stream",
     "name": "stdout",
     "output_type": "stream",
     "text": [
      "root\n |-- Id: string (nullable = true)\n |-- ActivityDate: date (nullable = true)\n |-- TotalSteps: double (nullable = true)\n |-- TotalDistance: double (nullable = true)\n |-- TrackerDistance: double (nullable = true)\n |-- LoggedActivitiesDistance: double (nullable = true)\n |-- VeryActiveDistance: double (nullable = true)\n |-- ModeratelyActiveDistance: double (nullable = true)\n |-- LightActiveDistance: double (nullable = true)\n |-- SedentaryActiveDistance: double (nullable = true)\n |-- VeryActiveMinutes: double (nullable = true)\n |-- FairlyActiveMinutes: double (nullable = true)\n |-- LightlyActiveMinutes: double (nullable = true)\n |-- SedentaryMinutes: double (nullable = true)\n |-- Calories: double (nullable = true)\n\n"
     ]
    }
   ],
   "source": [
    "df_dailyActivity_merged.printSchema()"
   ]
  },
  {
   "cell_type": "code",
   "execution_count": 0,
   "metadata": {
    "application/vnd.databricks.v1+cell": {
     "cellMetadata": {
      "byteLimit": 2048000,
      "rowLimit": 10000
     },
     "inputWidgets": {},
     "nuid": "db9631f6-bb4a-42ca-8a3c-0d48af932331",
     "showTitle": false,
     "title": ""
    }
   },
   "outputs": [],
   "source": [
    "display(df_heartrate_seconds_merged)"
   ]
  },
  {
   "cell_type": "code",
   "execution_count": 0,
   "metadata": {
    "application/vnd.databricks.v1+cell": {
     "cellMetadata": {
      "byteLimit": 2048000,
      "rowLimit": 10000
     },
     "inputWidgets": {},
     "nuid": "e0f870c1-65a4-4535-8cab-9e726c424682",
     "showTitle": false,
     "title": ""
    }
   },
   "outputs": [],
   "source": [
    "df_heartrate_seconds_merged = df_heartrate_seconds_merged.withColumn(\n",
    "    \"Time\",\n",
    "    to_timestamp(\"Time\", \"M/d/y h:mm:ss a\")\n",
    ")\n",
    "\n",
    "df_heartrate_seconds_merged = df_heartrate_seconds_merged.withColumn(\"Value\", regexp_replace(col(\"Value\"), \",\", \".\").cast(\"double\"))"
   ]
  },
  {
   "cell_type": "code",
   "execution_count": 0,
   "metadata": {
    "application/vnd.databricks.v1+cell": {
     "cellMetadata": {
      "byteLimit": 2048000,
      "rowLimit": 10000
     },
     "inputWidgets": {},
     "nuid": "84834f28-3be0-4b03-b215-301a981c3985",
     "showTitle": false,
     "title": ""
    }
   },
   "outputs": [
    {
     "output_type": "stream",
     "name": "stdout",
     "output_type": "stream",
     "text": [
      "root\n |-- Id: string (nullable = true)\n |-- Time: timestamp (nullable = true)\n |-- Value: double (nullable = true)\n\n"
     ]
    }
   ],
   "source": [
    "df_heartrate_seconds_merged.printSchema()"
   ]
  },
  {
   "cell_type": "code",
   "execution_count": 0,
   "metadata": {
    "application/vnd.databricks.v1+cell": {
     "cellMetadata": {
      "byteLimit": 2048000,
      "rowLimit": 10000
     },
     "inputWidgets": {},
     "nuid": "8feb1f3b-4678-45db-9550-e761bfad69d5",
     "showTitle": false,
     "title": ""
    }
   },
   "outputs": [
    {
     "output_type": "display_data",
     "data": {
      "text/html": [
       "<style scoped>\n",
       "  .table-result-container {\n",
       "    max-height: 300px;\n",
       "    overflow: auto;\n",
       "  }\n",
       "  table, th, td {\n",
       "    border: 1px solid black;\n",
       "    border-collapse: collapse;\n",
       "  }\n",
       "  th, td {\n",
       "    padding: 5px;\n",
       "  }\n",
       "  th {\n",
       "    text-align: left;\n",
       "  }\n",
       "</style><div class='table-result-container'><table class='table-result'><thead style='background-color: white'><tr><th>Id</th><th>Date</th><th>WeightKg</th><th>WeightPounds</th><th>Fat</th><th>BMI</th><th>IsManualReport</th><th>LogId</th></tr></thead><tbody><tr><td>1503960366</td><td>5/2/2016 11:59:59 PM</td><td>52.5999984741211</td><td>115.963146545323</td><td>22</td><td>22.6499996185303</td><td>True</td><td>1462233599000</td></tr><tr><td>1503960366</td><td>5/3/2016 11:59:59 PM</td><td>52.5999984741211</td><td>115.963146545323</td><td>null</td><td>22.6499996185303</td><td>True</td><td>1462319999000</td></tr><tr><td>1927972279</td><td>4/13/2016 1:08:52 AM</td><td>133.5</td><td>294.317120016975</td><td>null</td><td>47.5400009155273</td><td>False</td><td>1460509732000</td></tr><tr><td>2873212765</td><td>4/21/2016 11:59:59 PM</td><td>56.7000007629395</td><td>125.002104340889</td><td>null</td><td>21.4500007629395</td><td>True</td><td>1461283199000</td></tr><tr><td>2873212765</td><td>5/12/2016 11:59:59 PM</td><td>57.2999992370605</td><td>126.324874550011</td><td>null</td><td>21.6900005340576</td><td>True</td><td>1463097599000</td></tr><tr><td>4319703577</td><td>4/17/2016 11:59:59 PM</td><td>72.4000015258789</td><td>159.614681185927</td><td>25</td><td>27.4500007629395</td><td>True</td><td>1460937599000</td></tr><tr><td>4319703577</td><td>5/4/2016 11:59:59 PM</td><td>72.3000030517578</td><td>159.394222287729</td><td>null</td><td>27.3799991607666</td><td>True</td><td>1462406399000</td></tr><tr><td>4558609924</td><td>4/18/2016 11:59:59 PM</td><td>69.6999969482422</td><td>153.662190014971</td><td>null</td><td>27.25</td><td>True</td><td>1461023999000</td></tr><tr><td>4558609924</td><td>4/25/2016 11:59:59 PM</td><td>70.3000030517578</td><td>154.984977044029</td><td>null</td><td>27.4599990844727</td><td>True</td><td>1461628799000</td></tr><tr><td>4558609924</td><td>5/1/2016 11:59:59 PM</td><td>69.9000015258789</td><td>154.103124631302</td><td>null</td><td>27.3199996948242</td><td>True</td><td>1462147199000</td></tr><tr><td>4558609924</td><td>5/2/2016 11:59:59 PM</td><td>69.1999969482422</td><td>152.559878704046</td><td>null</td><td>27.0400009155273</td><td>True</td><td>1462233599000</td></tr><tr><td>4558609924</td><td>5/9/2016 11:59:59 PM</td><td>69.0999984741211</td><td>152.339419805848</td><td>null</td><td>27</td><td>True</td><td>1462838399000</td></tr><tr><td>5577150313</td><td>4/17/2016 9:17:55 AM</td><td>90.6999969482422</td><td>199.959265073821</td><td>null</td><td>28</td><td>False</td><td>1460884675000</td></tr><tr><td>6962181067</td><td>4/12/2016 11:59:59 PM</td><td>62.5</td><td>137.788913865625</td><td>null</td><td>24.3899993896484</td><td>True</td><td>1460505599000</td></tr><tr><td>6962181067</td><td>4/13/2016 11:59:59 PM</td><td>62.0999984741211</td><td>136.907061452898</td><td>null</td><td>24.2399997711182</td><td>True</td><td>1460591999000</td></tr><tr><td>6962181067</td><td>4/14/2016 11:59:59 PM</td><td>61.7000007629395</td><td>136.025217450139</td><td>null</td><td>24.1000003814697</td><td>True</td><td>1460678399000</td></tr><tr><td>6962181067</td><td>4/15/2016 11:59:59 PM</td><td>61.5</td><td>135.584291243775</td><td>null</td><td>24</td><td>True</td><td>1460764799000</td></tr><tr><td>6962181067</td><td>4/16/2016 11:59:59 PM</td><td>62</td><td>136.6866025547</td><td>null</td><td>24.2099990844727</td><td>True</td><td>1460851199000</td></tr><tr><td>6962181067</td><td>4/17/2016 11:59:59 PM</td><td>61.4000015258789</td><td>135.363832345577</td><td>null</td><td>23.9599990844727</td><td>True</td><td>1460937599000</td></tr><tr><td>6962181067</td><td>4/18/2016 11:59:59 PM</td><td>61.2000007629395</td><td>134.922906139214</td><td>null</td><td>23.8899993896484</td><td>True</td><td>1461023999000</td></tr><tr><td>6962181067</td><td>4/19/2016 11:59:59 PM</td><td>61.4000015258789</td><td>135.363832345577</td><td>null</td><td>23.9599990844727</td><td>True</td><td>1461110399000</td></tr><tr><td>6962181067</td><td>4/20/2016 11:59:59 PM</td><td>61.7000007629395</td><td>136.025217450139</td><td>null</td><td>24.1000003814697</td><td>True</td><td>1461196799000</td></tr><tr><td>6962181067</td><td>4/21/2016 11:59:59 PM</td><td>61.4000015258789</td><td>135.363832345577</td><td>null</td><td>23.9599990844727</td><td>True</td><td>1461283199000</td></tr><tr><td>6962181067</td><td>4/22/2016 11:59:59 PM</td><td>61.4000015258789</td><td>135.363832345577</td><td>null</td><td>23.9599990844727</td><td>True</td><td>1461369599000</td></tr><tr><td>6962181067</td><td>4/23/2016 11:59:59 PM</td><td>61.5</td><td>135.584291243775</td><td>null</td><td>24</td><td>True</td><td>1461455999000</td></tr><tr><td>6962181067</td><td>4/24/2016 11:59:59 PM</td><td>61.5</td><td>135.584291243775</td><td>null</td><td>24</td><td>True</td><td>1461542399000</td></tr><tr><td>6962181067</td><td>4/25/2016 11:59:59 PM</td><td>61.7000007629395</td><td>136.025217450139</td><td>null</td><td>24.1000003814697</td><td>True</td><td>1461628799000</td></tr><tr><td>6962181067</td><td>4/27/2016 11:59:59 PM</td><td>61.2000007629395</td><td>134.922906139214</td><td>null</td><td>23.8899993896484</td><td>True</td><td>1461801599000</td></tr><tr><td>6962181067</td><td>4/28/2016 11:59:59 PM</td><td>61.2000007629395</td><td>134.922906139214</td><td>null</td><td>23.8899993896484</td><td>True</td><td>1461887999000</td></tr><tr><td>6962181067</td><td>4/29/2016 11:59:59 PM</td><td>61.4000015258789</td><td>135.363832345577</td><td>null</td><td>23.9599990844727</td><td>True</td><td>1461974399000</td></tr><tr><td>6962181067</td><td>4/30/2016 11:59:59 PM</td><td>61</td><td>134.48197993285</td><td>null</td><td>23.8199996948242</td><td>True</td><td>1462060799000</td></tr><tr><td>6962181067</td><td>5/1/2016 11:59:59 PM</td><td>61.7000007629395</td><td>136.025217450139</td><td>null</td><td>24.1000003814697</td><td>True</td><td>1462147199000</td></tr><tr><td>6962181067</td><td>5/2/2016 11:59:59 PM</td><td>61.5</td><td>135.584291243775</td><td>null</td><td>24</td><td>True</td><td>1462233599000</td></tr><tr><td>6962181067</td><td>5/3/2016 11:59:59 PM</td><td>61</td><td>134.48197993285</td><td>null</td><td>23.8199996948242</td><td>True</td><td>1462319999000</td></tr><tr><td>6962181067</td><td>5/4/2016 11:59:59 PM</td><td>61.0999984741211</td><td>134.702438831048</td><td>null</td><td>23.8500003814697</td><td>True</td><td>1462406399000</td></tr><tr><td>6962181067</td><td>5/5/2016 11:59:59 PM</td><td>61.2999992370605</td><td>135.143365037411</td><td>null</td><td>23.9300003051758</td><td>True</td><td>1462492799000</td></tr><tr><td>6962181067</td><td>5/6/2016 11:59:59 PM</td><td>61.5</td><td>135.584291243775</td><td>null</td><td>24</td><td>True</td><td>1462579199000</td></tr><tr><td>6962181067</td><td>5/7/2016 11:59:59 PM</td><td>61.2000007629395</td><td>134.922906139214</td><td>null</td><td>23.8899993896484</td><td>True</td><td>1462665599000</td></tr><tr><td>6962181067</td><td>5/8/2016 11:59:59 PM</td><td>61.2000007629395</td><td>134.922906139214</td><td>null</td><td>23.8899993896484</td><td>True</td><td>1462751999000</td></tr><tr><td>6962181067</td><td>5/9/2016 11:59:59 PM</td><td>62.4000015258789</td><td>137.568454967427</td><td>null</td><td>24.3500003814697</td><td>True</td><td>1462838399000</td></tr><tr><td>6962181067</td><td>5/10/2016 11:59:59 PM</td><td>62.0999984741211</td><td>136.907061452898</td><td>null</td><td>24.2399997711182</td><td>True</td><td>1462924799000</td></tr><tr><td>6962181067</td><td>5/11/2016 11:59:59 PM</td><td>61.9000015258789</td><td>136.466143656502</td><td>null</td><td>24.1700000762939</td><td>True</td><td>1463011199000</td></tr><tr><td>6962181067</td><td>5/12/2016 11:59:59 PM</td><td>61.9000015258789</td><td>136.466143656502</td><td>null</td><td>24.1700000762939</td><td>True</td><td>1463097599000</td></tr><tr><td>8877689391</td><td>4/12/2016 6:47:11 AM</td><td>85.8000030517578</td><td>189.156627682704</td><td>null</td><td>25.6800003051758</td><td>False</td><td>1460443631000</td></tr><tr><td>8877689391</td><td>4/13/2016 6:55:00 AM</td><td>84.9000015258789</td><td>187.172463959052</td><td>null</td><td>25.4099998474121</td><td>False</td><td>1460530500000</td></tr><tr><td>8877689391</td><td>4/14/2016 6:48:43 AM</td><td>84.5</td><td>186.290611546325</td><td>null</td><td>25.3099994659424</td><td>False</td><td>1460616523000</td></tr><tr><td>8877689391</td><td>4/16/2016 1:39:25 PM</td><td>85.5</td><td>188.495234168175</td><td>null</td><td>25.5900001525879</td><td>False</td><td>1460813965000</td></tr><tr><td>8877689391</td><td>4/18/2016 6:51:14 AM</td><td>85.8000030517578</td><td>189.156627682704</td><td>null</td><td>25.6800003051758</td><td>False</td><td>1460962274000</td></tr><tr><td>8877689391</td><td>4/19/2016 6:39:31 AM</td><td>85.3000030517578</td><td>188.054316371779</td><td>null</td><td>25.5300006866455</td><td>False</td><td>1461047971000</td></tr><tr><td>8877689391</td><td>4/20/2016 6:44:54 AM</td><td>84.9000015258789</td><td>187.172463959052</td><td>null</td><td>25.4099998474121</td><td>False</td><td>1461134694000</td></tr><tr><td>8877689391</td><td>4/21/2016 6:50:27 AM</td><td>84.5</td><td>186.290611546325</td><td>null</td><td>25.2900009155273</td><td>False</td><td>1461221427000</td></tr><tr><td>8877689391</td><td>4/23/2016 7:22:28 AM</td><td>85.5</td><td>188.495234168175</td><td>null</td><td>25.5900001525879</td><td>False</td><td>1461396148000</td></tr><tr><td>8877689391</td><td>4/24/2016 7:38:05 AM</td><td>85.5</td><td>188.495234168175</td><td>null</td><td>25.5900001525879</td><td>False</td><td>1461483485000</td></tr><tr><td>8877689391</td><td>4/25/2016 6:40:16 AM</td><td>85.4000015258789</td><td>188.274775269977</td><td>null</td><td>25.5599994659424</td><td>False</td><td>1461566416000</td></tr><tr><td>8877689391</td><td>4/26/2016 6:50:27 AM</td><td>85.0999984741211</td><td>187.613381755448</td><td>null</td><td>25.4899997711182</td><td>False</td><td>1461653427000</td></tr><tr><td>8877689391</td><td>4/27/2016 6:51:05 AM</td><td>85.4000015258789</td><td>188.274775269977</td><td>null</td><td>25.5599994659424</td><td>False</td><td>1461739865000</td></tr><tr><td>8877689391</td><td>4/28/2016 6:50:03 AM</td><td>85.0999984741211</td><td>187.613381755448</td><td>null</td><td>25.4899997711182</td><td>False</td><td>1461826203000</td></tr><tr><td>8877689391</td><td>4/29/2016 6:49:55 AM</td><td>84.9000015258789</td><td>187.172463959052</td><td>null</td><td>25.4099998474121</td><td>False</td><td>1461912595000</td></tr><tr><td>8877689391</td><td>4/30/2016 7:49:03 AM</td><td>85.5</td><td>188.495234168175</td><td>null</td><td>25.5900001525879</td><td>False</td><td>1462002543000</td></tr><tr><td>8877689391</td><td>5/1/2016 8:47:49 AM</td><td>85.3000030517578</td><td>188.054316371779</td><td>null</td><td>25.5300006866455</td><td>False</td><td>1462092469000</td></tr><tr><td>8877689391</td><td>5/3/2016 6:49:41 AM</td><td>84.9000015258789</td><td>187.172463959052</td><td>null</td><td>25.4099998474121</td><td>False</td><td>1462258181000</td></tr><tr><td>8877689391</td><td>5/4/2016 6:48:22 AM</td><td>84.4000015258789</td><td>186.070152648127</td><td>null</td><td>25.2600002288818</td><td>False</td><td>1462344502000</td></tr><tr><td>8877689391</td><td>5/6/2016 6:43:35 AM</td><td>85</td><td>187.39292285725</td><td>null</td><td>25.4400005340576</td><td>False</td><td>1462517015000</td></tr><tr><td>8877689391</td><td>5/8/2016 7:35:53 AM</td><td>85.4000015258789</td><td>188.274775269977</td><td>null</td><td>25.5599994659424</td><td>False</td><td>1462692953000</td></tr><tr><td>8877689391</td><td>5/9/2016 6:39:44 AM</td><td>85.5</td><td>188.495234168175</td><td>null</td><td>25.6100006103516</td><td>False</td><td>1462775984000</td></tr><tr><td>8877689391</td><td>5/11/2016 6:51:47 AM</td><td>85.4000015258789</td><td>188.274775269977</td><td>null</td><td>25.5599994659424</td><td>False</td><td>1462949507000</td></tr><tr><td>8877689391</td><td>5/12/2016 6:42:53 AM</td><td>84</td><td>185.1883002354</td><td>null</td><td>25.1399993896484</td><td>False</td><td>1463035373000</td></tr></tbody></table></div>"
      ]
     },
     "metadata": {
      "application/vnd.databricks.v1+output": {
       "addedWidgets": {},
       "aggData": [],
       "aggError": "",
       "aggOverflow": false,
       "aggSchema": [],
       "aggSeriesLimitReached": false,
       "aggType": "",
       "arguments": {},
       "columnCustomDisplayInfos": {},
       "data": [
        [
         "1503960366",
         "5/2/2016 11:59:59 PM",
         "52.5999984741211",
         "115.963146545323",
         "22",
         "22.6499996185303",
         "True",
         "1462233599000"
        ],
        [
         "1503960366",
         "5/3/2016 11:59:59 PM",
         "52.5999984741211",
         "115.963146545323",
         null,
         "22.6499996185303",
         "True",
         "1462319999000"
        ],
        [
         "1927972279",
         "4/13/2016 1:08:52 AM",
         "133.5",
         "294.317120016975",
         null,
         "47.5400009155273",
         "False",
         "1460509732000"
        ],
        [
         "2873212765",
         "4/21/2016 11:59:59 PM",
         "56.7000007629395",
         "125.002104340889",
         null,
         "21.4500007629395",
         "True",
         "1461283199000"
        ],
        [
         "2873212765",
         "5/12/2016 11:59:59 PM",
         "57.2999992370605",
         "126.324874550011",
         null,
         "21.6900005340576",
         "True",
         "1463097599000"
        ],
        [
         "4319703577",
         "4/17/2016 11:59:59 PM",
         "72.4000015258789",
         "159.614681185927",
         "25",
         "27.4500007629395",
         "True",
         "1460937599000"
        ],
        [
         "4319703577",
         "5/4/2016 11:59:59 PM",
         "72.3000030517578",
         "159.394222287729",
         null,
         "27.3799991607666",
         "True",
         "1462406399000"
        ],
        [
         "4558609924",
         "4/18/2016 11:59:59 PM",
         "69.6999969482422",
         "153.662190014971",
         null,
         "27.25",
         "True",
         "1461023999000"
        ],
        [
         "4558609924",
         "4/25/2016 11:59:59 PM",
         "70.3000030517578",
         "154.984977044029",
         null,
         "27.4599990844727",
         "True",
         "1461628799000"
        ],
        [
         "4558609924",
         "5/1/2016 11:59:59 PM",
         "69.9000015258789",
         "154.103124631302",
         null,
         "27.3199996948242",
         "True",
         "1462147199000"
        ],
        [
         "4558609924",
         "5/2/2016 11:59:59 PM",
         "69.1999969482422",
         "152.559878704046",
         null,
         "27.0400009155273",
         "True",
         "1462233599000"
        ],
        [
         "4558609924",
         "5/9/2016 11:59:59 PM",
         "69.0999984741211",
         "152.339419805848",
         null,
         "27",
         "True",
         "1462838399000"
        ],
        [
         "5577150313",
         "4/17/2016 9:17:55 AM",
         "90.6999969482422",
         "199.959265073821",
         null,
         "28",
         "False",
         "1460884675000"
        ],
        [
         "6962181067",
         "4/12/2016 11:59:59 PM",
         "62.5",
         "137.788913865625",
         null,
         "24.3899993896484",
         "True",
         "1460505599000"
        ],
        [
         "6962181067",
         "4/13/2016 11:59:59 PM",
         "62.0999984741211",
         "136.907061452898",
         null,
         "24.2399997711182",
         "True",
         "1460591999000"
        ],
        [
         "6962181067",
         "4/14/2016 11:59:59 PM",
         "61.7000007629395",
         "136.025217450139",
         null,
         "24.1000003814697",
         "True",
         "1460678399000"
        ],
        [
         "6962181067",
         "4/15/2016 11:59:59 PM",
         "61.5",
         "135.584291243775",
         null,
         "24",
         "True",
         "1460764799000"
        ],
        [
         "6962181067",
         "4/16/2016 11:59:59 PM",
         "62",
         "136.6866025547",
         null,
         "24.2099990844727",
         "True",
         "1460851199000"
        ],
        [
         "6962181067",
         "4/17/2016 11:59:59 PM",
         "61.4000015258789",
         "135.363832345577",
         null,
         "23.9599990844727",
         "True",
         "1460937599000"
        ],
        [
         "6962181067",
         "4/18/2016 11:59:59 PM",
         "61.2000007629395",
         "134.922906139214",
         null,
         "23.8899993896484",
         "True",
         "1461023999000"
        ],
        [
         "6962181067",
         "4/19/2016 11:59:59 PM",
         "61.4000015258789",
         "135.363832345577",
         null,
         "23.9599990844727",
         "True",
         "1461110399000"
        ],
        [
         "6962181067",
         "4/20/2016 11:59:59 PM",
         "61.7000007629395",
         "136.025217450139",
         null,
         "24.1000003814697",
         "True",
         "1461196799000"
        ],
        [
         "6962181067",
         "4/21/2016 11:59:59 PM",
         "61.4000015258789",
         "135.363832345577",
         null,
         "23.9599990844727",
         "True",
         "1461283199000"
        ],
        [
         "6962181067",
         "4/22/2016 11:59:59 PM",
         "61.4000015258789",
         "135.363832345577",
         null,
         "23.9599990844727",
         "True",
         "1461369599000"
        ],
        [
         "6962181067",
         "4/23/2016 11:59:59 PM",
         "61.5",
         "135.584291243775",
         null,
         "24",
         "True",
         "1461455999000"
        ],
        [
         "6962181067",
         "4/24/2016 11:59:59 PM",
         "61.5",
         "135.584291243775",
         null,
         "24",
         "True",
         "1461542399000"
        ],
        [
         "6962181067",
         "4/25/2016 11:59:59 PM",
         "61.7000007629395",
         "136.025217450139",
         null,
         "24.1000003814697",
         "True",
         "1461628799000"
        ],
        [
         "6962181067",
         "4/27/2016 11:59:59 PM",
         "61.2000007629395",
         "134.922906139214",
         null,
         "23.8899993896484",
         "True",
         "1461801599000"
        ],
        [
         "6962181067",
         "4/28/2016 11:59:59 PM",
         "61.2000007629395",
         "134.922906139214",
         null,
         "23.8899993896484",
         "True",
         "1461887999000"
        ],
        [
         "6962181067",
         "4/29/2016 11:59:59 PM",
         "61.4000015258789",
         "135.363832345577",
         null,
         "23.9599990844727",
         "True",
         "1461974399000"
        ],
        [
         "6962181067",
         "4/30/2016 11:59:59 PM",
         "61",
         "134.48197993285",
         null,
         "23.8199996948242",
         "True",
         "1462060799000"
        ],
        [
         "6962181067",
         "5/1/2016 11:59:59 PM",
         "61.7000007629395",
         "136.025217450139",
         null,
         "24.1000003814697",
         "True",
         "1462147199000"
        ],
        [
         "6962181067",
         "5/2/2016 11:59:59 PM",
         "61.5",
         "135.584291243775",
         null,
         "24",
         "True",
         "1462233599000"
        ],
        [
         "6962181067",
         "5/3/2016 11:59:59 PM",
         "61",
         "134.48197993285",
         null,
         "23.8199996948242",
         "True",
         "1462319999000"
        ],
        [
         "6962181067",
         "5/4/2016 11:59:59 PM",
         "61.0999984741211",
         "134.702438831048",
         null,
         "23.8500003814697",
         "True",
         "1462406399000"
        ],
        [
         "6962181067",
         "5/5/2016 11:59:59 PM",
         "61.2999992370605",
         "135.143365037411",
         null,
         "23.9300003051758",
         "True",
         "1462492799000"
        ],
        [
         "6962181067",
         "5/6/2016 11:59:59 PM",
         "61.5",
         "135.584291243775",
         null,
         "24",
         "True",
         "1462579199000"
        ],
        [
         "6962181067",
         "5/7/2016 11:59:59 PM",
         "61.2000007629395",
         "134.922906139214",
         null,
         "23.8899993896484",
         "True",
         "1462665599000"
        ],
        [
         "6962181067",
         "5/8/2016 11:59:59 PM",
         "61.2000007629395",
         "134.922906139214",
         null,
         "23.8899993896484",
         "True",
         "1462751999000"
        ],
        [
         "6962181067",
         "5/9/2016 11:59:59 PM",
         "62.4000015258789",
         "137.568454967427",
         null,
         "24.3500003814697",
         "True",
         "1462838399000"
        ],
        [
         "6962181067",
         "5/10/2016 11:59:59 PM",
         "62.0999984741211",
         "136.907061452898",
         null,
         "24.2399997711182",
         "True",
         "1462924799000"
        ],
        [
         "6962181067",
         "5/11/2016 11:59:59 PM",
         "61.9000015258789",
         "136.466143656502",
         null,
         "24.1700000762939",
         "True",
         "1463011199000"
        ],
        [
         "6962181067",
         "5/12/2016 11:59:59 PM",
         "61.9000015258789",
         "136.466143656502",
         null,
         "24.1700000762939",
         "True",
         "1463097599000"
        ],
        [
         "8877689391",
         "4/12/2016 6:47:11 AM",
         "85.8000030517578",
         "189.156627682704",
         null,
         "25.6800003051758",
         "False",
         "1460443631000"
        ],
        [
         "8877689391",
         "4/13/2016 6:55:00 AM",
         "84.9000015258789",
         "187.172463959052",
         null,
         "25.4099998474121",
         "False",
         "1460530500000"
        ],
        [
         "8877689391",
         "4/14/2016 6:48:43 AM",
         "84.5",
         "186.290611546325",
         null,
         "25.3099994659424",
         "False",
         "1460616523000"
        ],
        [
         "8877689391",
         "4/16/2016 1:39:25 PM",
         "85.5",
         "188.495234168175",
         null,
         "25.5900001525879",
         "False",
         "1460813965000"
        ],
        [
         "8877689391",
         "4/18/2016 6:51:14 AM",
         "85.8000030517578",
         "189.156627682704",
         null,
         "25.6800003051758",
         "False",
         "1460962274000"
        ],
        [
         "8877689391",
         "4/19/2016 6:39:31 AM",
         "85.3000030517578",
         "188.054316371779",
         null,
         "25.5300006866455",
         "False",
         "1461047971000"
        ],
        [
         "8877689391",
         "4/20/2016 6:44:54 AM",
         "84.9000015258789",
         "187.172463959052",
         null,
         "25.4099998474121",
         "False",
         "1461134694000"
        ],
        [
         "8877689391",
         "4/21/2016 6:50:27 AM",
         "84.5",
         "186.290611546325",
         null,
         "25.2900009155273",
         "False",
         "1461221427000"
        ],
        [
         "8877689391",
         "4/23/2016 7:22:28 AM",
         "85.5",
         "188.495234168175",
         null,
         "25.5900001525879",
         "False",
         "1461396148000"
        ],
        [
         "8877689391",
         "4/24/2016 7:38:05 AM",
         "85.5",
         "188.495234168175",
         null,
         "25.5900001525879",
         "False",
         "1461483485000"
        ],
        [
         "8877689391",
         "4/25/2016 6:40:16 AM",
         "85.4000015258789",
         "188.274775269977",
         null,
         "25.5599994659424",
         "False",
         "1461566416000"
        ],
        [
         "8877689391",
         "4/26/2016 6:50:27 AM",
         "85.0999984741211",
         "187.613381755448",
         null,
         "25.4899997711182",
         "False",
         "1461653427000"
        ],
        [
         "8877689391",
         "4/27/2016 6:51:05 AM",
         "85.4000015258789",
         "188.274775269977",
         null,
         "25.5599994659424",
         "False",
         "1461739865000"
        ],
        [
         "8877689391",
         "4/28/2016 6:50:03 AM",
         "85.0999984741211",
         "187.613381755448",
         null,
         "25.4899997711182",
         "False",
         "1461826203000"
        ],
        [
         "8877689391",
         "4/29/2016 6:49:55 AM",
         "84.9000015258789",
         "187.172463959052",
         null,
         "25.4099998474121",
         "False",
         "1461912595000"
        ],
        [
         "8877689391",
         "4/30/2016 7:49:03 AM",
         "85.5",
         "188.495234168175",
         null,
         "25.5900001525879",
         "False",
         "1462002543000"
        ],
        [
         "8877689391",
         "5/1/2016 8:47:49 AM",
         "85.3000030517578",
         "188.054316371779",
         null,
         "25.5300006866455",
         "False",
         "1462092469000"
        ],
        [
         "8877689391",
         "5/3/2016 6:49:41 AM",
         "84.9000015258789",
         "187.172463959052",
         null,
         "25.4099998474121",
         "False",
         "1462258181000"
        ],
        [
         "8877689391",
         "5/4/2016 6:48:22 AM",
         "84.4000015258789",
         "186.070152648127",
         null,
         "25.2600002288818",
         "False",
         "1462344502000"
        ],
        [
         "8877689391",
         "5/6/2016 6:43:35 AM",
         "85",
         "187.39292285725",
         null,
         "25.4400005340576",
         "False",
         "1462517015000"
        ],
        [
         "8877689391",
         "5/8/2016 7:35:53 AM",
         "85.4000015258789",
         "188.274775269977",
         null,
         "25.5599994659424",
         "False",
         "1462692953000"
        ],
        [
         "8877689391",
         "5/9/2016 6:39:44 AM",
         "85.5",
         "188.495234168175",
         null,
         "25.6100006103516",
         "False",
         "1462775984000"
        ],
        [
         "8877689391",
         "5/11/2016 6:51:47 AM",
         "85.4000015258789",
         "188.274775269977",
         null,
         "25.5599994659424",
         "False",
         "1462949507000"
        ],
        [
         "8877689391",
         "5/12/2016 6:42:53 AM",
         "84",
         "185.1883002354",
         null,
         "25.1399993896484",
         "False",
         "1463035373000"
        ]
       ],
       "datasetInfos": [],
       "dbfsResultPath": null,
       "isJsonSchema": true,
       "metadata": {},
       "overflow": false,
       "plotOptions": {
        "customPlotOptions": {},
        "displayType": "table",
        "pivotAggregation": null,
        "pivotColumns": null,
        "xColumns": null,
        "yColumns": null
       },
       "removedWidgets": [],
       "schema": [
        {
         "metadata": "{}",
         "name": "Id",
         "type": "\"string\""
        },
        {
         "metadata": "{}",
         "name": "Date",
         "type": "\"string\""
        },
        {
         "metadata": "{}",
         "name": "WeightKg",
         "type": "\"string\""
        },
        {
         "metadata": "{}",
         "name": "WeightPounds",
         "type": "\"string\""
        },
        {
         "metadata": "{}",
         "name": "Fat",
         "type": "\"string\""
        },
        {
         "metadata": "{}",
         "name": "BMI",
         "type": "\"string\""
        },
        {
         "metadata": "{}",
         "name": "IsManualReport",
         "type": "\"string\""
        },
        {
         "metadata": "{}",
         "name": "LogId",
         "type": "\"string\""
        }
       ],
       "type": "table"
      }
     },
     "output_type": "display_data"
    }
   ],
   "source": [
    "display(df_weightLogInfo_merged)"
   ]
  },
  {
   "cell_type": "code",
   "execution_count": 0,
   "metadata": {
    "application/vnd.databricks.v1+cell": {
     "cellMetadata": {
      "byteLimit": 2048000,
      "rowLimit": 10000
     },
     "inputWidgets": {},
     "nuid": "0c2ecf29-6f04-41d7-aaea-383ca2b60765",
     "showTitle": false,
     "title": ""
    }
   },
   "outputs": [],
   "source": [
    "df_weightLogInfo_merged = df_weightLogInfo_merged.withColumn(\n",
    "    \"Date\",\n",
    "    to_timestamp(\"Date\", \"M/d/y h:mm:ss a\")\n",
    ")\n",
    "\n",
    "for c in ['WeightKg',\n",
    " 'WeightPounds']:\n",
    "    df_weightLogInfo_merged = df_weightLogInfo_merged.withColumn(c, regexp_replace(col(c), \",\", \".\").cast(\"double\"))"
   ]
  },
  {
   "cell_type": "code",
   "execution_count": 0,
   "metadata": {
    "application/vnd.databricks.v1+cell": {
     "cellMetadata": {
      "byteLimit": 2048000,
      "rowLimit": 10000
     },
     "inputWidgets": {},
     "nuid": "bc05e318-bc77-4d5d-9c5c-911df5bcb6f5",
     "showTitle": false,
     "title": ""
    }
   },
   "outputs": [],
   "source": [
    "# Assuming you want to drop columns 'column1', 'column2', and 'column3'\n",
    "columns_to_drop = ['Fat', 'LogId']\n",
    "\n",
    "df_weightLogInfo_merged = df_weightLogInfo_merged.drop(*columns_to_drop)\n"
   ]
  },
  {
   "cell_type": "code",
   "execution_count": 0,
   "metadata": {
    "application/vnd.databricks.v1+cell": {
     "cellMetadata": {
      "byteLimit": 2048000,
      "rowLimit": 10000
     },
     "inputWidgets": {},
     "nuid": "0230c0bc-2ce1-4c58-b77a-a2e84782ca08",
     "showTitle": false,
     "title": ""
    }
   },
   "outputs": [
    {
     "output_type": "stream",
     "name": "stdout",
     "output_type": "stream",
     "text": [
      "root\n |-- Id: string (nullable = true)\n |-- Date: timestamp (nullable = true)\n |-- WeightKg: double (nullable = true)\n |-- WeightPounds: double (nullable = true)\n |-- BMI: string (nullable = true)\n |-- IsManualReport: string (nullable = true)\n\n"
     ]
    }
   ],
   "source": [
    "df_weightLogInfo_merged.printSchema()"
   ]
  },
  {
   "cell_type": "markdown",
   "metadata": {
    "application/vnd.databricks.v1+cell": {
     "cellMetadata": {
      "byteLimit": 2048000,
      "rowLimit": 10000
     },
     "inputWidgets": {},
     "nuid": "17dcc0b0-661d-4036-a155-b7281dfce495",
     "showTitle": false,
     "title": ""
    }
   },
   "source": [
    "## EXPLORATION !!!!\n",
    "All data loaded and formatted. Now we can start exploring"
   ]
  },
  {
   "cell_type": "code",
   "execution_count": 0,
   "metadata": {
    "application/vnd.databricks.v1+cell": {
     "cellMetadata": {
      "byteLimit": 2048000,
      "rowLimit": 10000
     },
     "inputWidgets": {},
     "nuid": "34638c84-8a68-4dfa-bf59-e0828654ace4",
     "showTitle": false,
     "title": ""
    }
   },
   "outputs": [],
   "source": [
    "import numpy as np\n",
    "import matplotlib.pyplot as plt\n",
    "import seaborn as sns"
   ]
  },
  {
   "cell_type": "code",
   "execution_count": 0,
   "metadata": {
    "application/vnd.databricks.v1+cell": {
     "cellMetadata": {
      "byteLimit": 2048000,
      "rowLimit": 10000
     },
     "inputWidgets": {},
     "nuid": "0b5e5509-1486-4bf3-b8c3-c756ef4abdb3",
     "showTitle": false,
     "title": ""
    }
   },
   "outputs": [
    {
     "output_type": "execute_result",
     "data": {
      "text/plain": [
       "DataFrame[Id: string, ActivityDate: date, TotalSteps: double, TotalDistance: double, TrackerDistance: double, LoggedActivitiesDistance: double, VeryActiveDistance: double, ModeratelyActiveDistance: double, LightActiveDistance: double, SedentaryActiveDistance: double, VeryActiveMinutes: double, FairlyActiveMinutes: double, LightlyActiveMinutes: double, SedentaryMinutes: double, Calories: double]"
      ]
     },
     "execution_count": 92,
     "metadata": {},
     "output_type": "execute_result"
    }
   ],
   "source": [
    "df_dailyActivity_merged.cache()"
   ]
  },
  {
   "cell_type": "code",
   "execution_count": 0,
   "metadata": {
    "application/vnd.databricks.v1+cell": {
     "cellMetadata": {
      "byteLimit": 2048000,
      "rowLimit": 10000
     },
     "inputWidgets": {},
     "nuid": "7b631e16-03b5-493f-9670-3a5721fa2d12",
     "showTitle": false,
     "title": ""
    }
   },
   "outputs": [],
   "source": [
    "from pyspark.sql import functions"
   ]
  },
  {
   "cell_type": "code",
   "execution_count": 0,
   "metadata": {
    "application/vnd.databricks.v1+cell": {
     "cellMetadata": {
      "byteLimit": 2048000,
      "rowLimit": 10000
     },
     "inputWidgets": {},
     "nuid": "e626ed88-f187-404e-acc3-569947878fbe",
     "showTitle": false,
     "title": ""
    }
   },
   "outputs": [],
   "source": [
    "from pyspark.sql import SQLContext\n",
    "from pyspark.sql.functions import lit\n",
    "from pyspark.sql.types import *\n",
    "from pyspark import SparkContext\n",
    "from operator import add"
   ]
  },
  {
   "cell_type": "code",
   "execution_count": 0,
   "metadata": {
    "application/vnd.databricks.v1+cell": {
     "cellMetadata": {
      "byteLimit": 2048000,
      "rowLimit": 10000
     },
     "inputWidgets": {},
     "nuid": "c019ac5c-e602-4981-b1f7-9ca310581743",
     "showTitle": false,
     "title": ""
    }
   },
   "outputs": [
    {
     "output_type": "display_data",
     "data": {
      "text/html": [
       "<style scoped>\n",
       "  .table-result-container {\n",
       "    max-height: 300px;\n",
       "    overflow: auto;\n",
       "  }\n",
       "  table, th, td {\n",
       "    border: 1px solid black;\n",
       "    border-collapse: collapse;\n",
       "  }\n",
       "  th, td {\n",
       "    padding: 5px;\n",
       "  }\n",
       "  th {\n",
       "    text-align: left;\n",
       "  }\n",
       "</style><div class='table-result-container'><table class='table-result'><thead style='background-color: white'><tr><th>summary</th><th>Id</th><th>TotalSteps</th><th>TotalDistance</th><th>TrackerDistance</th><th>LoggedActivitiesDistance</th><th>VeryActiveDistance</th><th>ModeratelyActiveDistance</th><th>LightActiveDistance</th><th>SedentaryActiveDistance</th><th>VeryActiveMinutes</th><th>FairlyActiveMinutes</th><th>LightlyActiveMinutes</th><th>SedentaryMinutes</th><th>Calories</th></tr></thead><tbody><tr><td>count</td><td>936</td><td>936</td><td>936</td><td>936</td><td>936</td><td>936</td><td>936</td><td>936</td><td>936</td><td>936</td><td>936</td><td>936</td><td>936</td><td>936</td></tr><tr><td>mean</td><td>4.84984086951282E9</td><td>7670.551282051282</td><td>5.513162387393686</td><td>5.498749993966383</td><td>0.10863320886069892</td><td>1.5091025640384064</td><td>0.5699679468893725</td><td>3.355096153497027</td><td>0.0016132478411190027</td><td>21.25534188034188</td><td>13.622863247863247</td><td>193.63675213675214</td><td>989.292735042735</td><td>2313.45405982906</td></tr><tr><td>stddev</td><td>2.421440106640881E9</td><td>5073.379140077313</td><td>3.916496666155722</td><td>3.899142895924891</td><td>0.621180621793722</td><td>2.6628016416211895</td><td>0.8846865308575281</td><td>2.0332578626789246</td><td>0.0073611202496938945</td><td>32.885735953264124</td><td>20.01036818755719</td><td>108.67557811602323</td><td>300.4746544350443</td><td>703.683874107321</td></tr><tr><td>min</td><td>1503960366</td><td>0.0</td><td>0.0</td><td>0.0</td><td>0.0</td><td>0.0</td><td>0.0</td><td>0.0</td><td>0.0</td><td>0.0</td><td>0.0</td><td>0.0</td><td>0.0</td><td>52.0</td></tr><tr><td>max</td><td>8877689391</td><td>36019.0</td><td>28.0300006866455</td><td>28.0300006866455</td><td>4.94214200973511</td><td>21.9200000762939</td><td>6.48000001907349</td><td>10.710000038147</td><td>0.109999999403954</td><td>210.0</td><td>143.0</td><td>518.0</td><td>1440.0</td><td>4900.0</td></tr></tbody></table></div>"
      ]
     },
     "metadata": {
      "application/vnd.databricks.v1+output": {
       "addedWidgets": {},
       "aggData": [],
       "aggError": "",
       "aggOverflow": false,
       "aggSchema": [],
       "aggSeriesLimitReached": false,
       "aggType": "",
       "arguments": {},
       "columnCustomDisplayInfos": {},
       "data": [
        [
         "count",
         "936",
         "936",
         "936",
         "936",
         "936",
         "936",
         "936",
         "936",
         "936",
         "936",
         "936",
         "936",
         "936",
         "936"
        ],
        [
         "mean",
         "4.84984086951282E9",
         "7670.551282051282",
         "5.513162387393686",
         "5.498749993966383",
         "0.10863320886069892",
         "1.5091025640384064",
         "0.5699679468893725",
         "3.355096153497027",
         "0.0016132478411190027",
         "21.25534188034188",
         "13.622863247863247",
         "193.63675213675214",
         "989.292735042735",
         "2313.45405982906"
        ],
        [
         "stddev",
         "2.421440106640881E9",
         "5073.379140077313",
         "3.916496666155722",
         "3.899142895924891",
         "0.621180621793722",
         "2.6628016416211895",
         "0.8846865308575281",
         "2.0332578626789246",
         "0.0073611202496938945",
         "32.885735953264124",
         "20.01036818755719",
         "108.67557811602323",
         "300.4746544350443",
         "703.683874107321"
        ],
        [
         "min",
         "1503960366",
         "0.0",
         "0.0",
         "0.0",
         "0.0",
         "0.0",
         "0.0",
         "0.0",
         "0.0",
         "0.0",
         "0.0",
         "0.0",
         "0.0",
         "52.0"
        ],
        [
         "max",
         "8877689391",
         "36019.0",
         "28.0300006866455",
         "28.0300006866455",
         "4.94214200973511",
         "21.9200000762939",
         "6.48000001907349",
         "10.710000038147",
         "0.109999999403954",
         "210.0",
         "143.0",
         "518.0",
         "1440.0",
         "4900.0"
        ]
       ],
       "datasetInfos": [],
       "dbfsResultPath": null,
       "isJsonSchema": true,
       "metadata": {},
       "overflow": false,
       "plotOptions": {
        "customPlotOptions": {},
        "displayType": "table",
        "pivotAggregation": null,
        "pivotColumns": null,
        "xColumns": null,
        "yColumns": null
       },
       "removedWidgets": [],
       "schema": [
        {
         "metadata": "{}",
         "name": "summary",
         "type": "\"string\""
        },
        {
         "metadata": "{}",
         "name": "Id",
         "type": "\"string\""
        },
        {
         "metadata": "{}",
         "name": "TotalSteps",
         "type": "\"string\""
        },
        {
         "metadata": "{}",
         "name": "TotalDistance",
         "type": "\"string\""
        },
        {
         "metadata": "{}",
         "name": "TrackerDistance",
         "type": "\"string\""
        },
        {
         "metadata": "{}",
         "name": "LoggedActivitiesDistance",
         "type": "\"string\""
        },
        {
         "metadata": "{}",
         "name": "VeryActiveDistance",
         "type": "\"string\""
        },
        {
         "metadata": "{}",
         "name": "ModeratelyActiveDistance",
         "type": "\"string\""
        },
        {
         "metadata": "{}",
         "name": "LightActiveDistance",
         "type": "\"string\""
        },
        {
         "metadata": "{}",
         "name": "SedentaryActiveDistance",
         "type": "\"string\""
        },
        {
         "metadata": "{}",
         "name": "VeryActiveMinutes",
         "type": "\"string\""
        },
        {
         "metadata": "{}",
         "name": "FairlyActiveMinutes",
         "type": "\"string\""
        },
        {
         "metadata": "{}",
         "name": "LightlyActiveMinutes",
         "type": "\"string\""
        },
        {
         "metadata": "{}",
         "name": "SedentaryMinutes",
         "type": "\"string\""
        },
        {
         "metadata": "{}",
         "name": "Calories",
         "type": "\"string\""
        }
       ],
       "type": "table"
      }
     },
     "output_type": "display_data"
    }
   ],
   "source": [
    "display(df_dailyActivity_merged.describe())"
   ]
  },
  {
   "cell_type": "markdown",
   "metadata": {
    "application/vnd.databricks.v1+cell": {
     "cellMetadata": {
      "byteLimit": 2048000,
      "rowLimit": 10000
     },
     "inputWidgets": {},
     "nuid": "25a1a3cf-b917-4d2c-88c3-ef7aad8c6456",
     "showTitle": false,
     "title": ""
    }
   },
   "source": [
    "lets check a little bit the distribution of hour dataset"
   ]
  },
  {
   "cell_type": "code",
   "execution_count": 0,
   "metadata": {
    "application/vnd.databricks.v1+cell": {
     "cellMetadata": {
      "byteLimit": 2048000,
      "rowLimit": 10000
     },
     "inputWidgets": {},
     "nuid": "e613ce76-e192-4de7-a492-e81a71b8f46a",
     "showTitle": false,
     "title": ""
    }
   },
   "outputs": [],
   "source": [
    "data = np.array(df_dailyActivity_merged.select('Calories').rdd.flatMap(lambda x: x).collect())\n",
    "\n",
    "plt.hist(data, bins=25, edgecolor='black')\n",
    "# Calculate quartile values\n",
    "q1 = np.percentile(data, 25)\n",
    "q2 = np.percentile(data, 50)\n",
    "q3 = np.percentile(data, 75)\n",
    "\n",
    "# Plot the histogram using NumPy and Matplotlib\n",
    "plt.xlabel('Values')\n",
    "plt.ylabel('Frequency')\n",
    "plt.title('Histogram of Numeric Column')\n",
    "\n",
    "# Add red lines for each quartile\n",
    "plt.axvline(q1, color='red', linestyle='dashed', linewidth=2, label='Q1')\n",
    "plt.axvline(q2, color='red', linestyle='dashed', linewidth=2, label='Q2 (Median)')\n",
    "plt.axvline(q3, color='red', linestyle='dashed', linewidth=2, label='Q3')\n",
    "\n",
    "# Display legend\n",
    "plt.legend()\n",
    "\n",
    "plt.show()\n"
   ]
  },
  {
   "cell_type": "markdown",
   "metadata": {
    "application/vnd.databricks.v1+cell": {
     "cellMetadata": {
      "byteLimit": 2048000,
      "rowLimit": 10000
     },
     "inputWidgets": {},
     "nuid": "931ce21a-517c-4922-a37c-bcc35d1b4b63",
     "showTitle": false,
     "title": ""
    }
   },
   "source": [
    "Creating different dataframes to compare trends on Active Minutes and Distances"
   ]
  },
  {
   "cell_type": "code",
   "execution_count": 0,
   "metadata": {
    "application/vnd.databricks.v1+cell": {
     "cellMetadata": {
      "byteLimit": 2048000,
      "rowLimit": 10000
     },
     "inputWidgets": {},
     "nuid": "3f64c506-250c-47ca-994e-c94441c6f96b",
     "showTitle": false,
     "title": ""
    }
   },
   "outputs": [],
   "source": [
    "df_veryActive = df_dailyActivity_merged.select('Id','ActivityDate','VeryActiveMinutes','VeryActiveDistance')\\\n",
    "    .withColumn(\"Type\",lit(\"VeryActive\"))\\\n",
    "    .withColumnRenamed(\"VeryActiveMinutes\",\"ActiveMinutes\")\\\n",
    "    .withColumnRenamed(\"VeryActiveDistance\",\"ActiveDistance\")\\\n",
    "    .filter('ActiveMinutes != 0 And ActiveDistance != 0')\n",
    "    \n",
    "\n",
    "df_fairlyActive = df_dailyActivity_merged.select('Id','ActivityDate','FairlyActiveMinutes','ModeratelyActiveDistance')\\\n",
    "    .withColumn(\"Type\",lit(\"Fairly\"))\\\n",
    "    .withColumnRenamed(\"FairlyActiveMinutes\",\"ActiveMinutes\")\\\n",
    "    .withColumnRenamed(\"ModeratelyActiveDistance\",\"ActiveDistance\")\\\n",
    "    .filter('ActiveMinutes != 0 And ActiveDistance != 0')\n",
    "\n",
    "df_lightActive = df_dailyActivity_merged.select('Id','ActivityDate','LightlyActiveMinutes','LightActiveDistance')\\\n",
    "    .withColumn(\"Type\",lit(\"Light\"))\\\n",
    "    .withColumnRenamed(\"LightlyActiveMinutes\",\"ActiveMinutes\")\\\n",
    "    .withColumnRenamed(\"LightActiveDistance\",\"ActiveDistance\")\\\n",
    "    .filter('ActiveMinutes != 0 And ActiveDistance != 0')\n",
    "\n",
    "df_sedentaryActive = df_dailyActivity_merged.select('Id','ActivityDate','SedentaryMinutes','SedentaryActiveDistance')\\\n",
    "    .withColumn(\"Type\",lit(\"Sedentary\"))\\\n",
    "    .withColumnRenamed(\"SedentaryMinutes\",\"ActiveMinutes\")\\\n",
    "    .withColumnRenamed(\"SedentaryActiveDistance\",\"ActiveDistance\")\n",
    "\n",
    "df_activity = df_veryActive.union(\n",
    "    df_fairlyActive.union(\n",
    "        df_lightActive.union(\n",
    "            df_sedentaryActive\n",
    "        )\n",
    "        )\n",
    "    )\n",
    "\n",
    "display(df_activity)"
   ]
  },
  {
   "cell_type": "code",
   "execution_count": 0,
   "metadata": {
    "application/vnd.databricks.v1+cell": {
     "cellMetadata": {
      "byteLimit": 2048000,
      "rowLimit": 10000
     },
     "inputWidgets": {},
     "nuid": "f3a4664c-f301-4a93-be9a-0d4035ddf298",
     "showTitle": false,
     "title": ""
    }
   },
   "outputs": [
    {
     "output_type": "display_data",
     "data": {
      "text/html": [
       "<style scoped>\n",
       "  .table-result-container {\n",
       "    max-height: 300px;\n",
       "    overflow: auto;\n",
       "  }\n",
       "  table, th, td {\n",
       "    border: 1px solid black;\n",
       "    border-collapse: collapse;\n",
       "  }\n",
       "  th, td {\n",
       "    padding: 5px;\n",
       "  }\n",
       "  th {\n",
       "    text-align: left;\n",
       "  }\n",
       "</style><div class='table-result-container'><table class='table-result'><thead style='background-color: white'><tr><th>Type</th><th>count</th></tr></thead><tbody><tr><td>Sedentary</td><td>1</td></tr></tbody></table></div>"
      ]
     },
     "metadata": {
      "application/vnd.databricks.v1+output": {
       "addedWidgets": {},
       "aggData": [],
       "aggError": "",
       "aggOverflow": false,
       "aggSchema": [],
       "aggSeriesLimitReached": false,
       "aggType": "",
       "arguments": {},
       "columnCustomDisplayInfos": {},
       "data": [
        [
         "Sedentary",
         1
        ]
       ],
       "datasetInfos": [],
       "dbfsResultPath": null,
       "isJsonSchema": true,
       "metadata": {},
       "overflow": false,
       "plotOptions": {
        "customPlotOptions": {},
        "displayType": "table",
        "pivotAggregation": null,
        "pivotColumns": null,
        "xColumns": null,
        "yColumns": null
       },
       "removedWidgets": [],
       "schema": [
        {
         "metadata": "{}",
         "name": "Type",
         "type": "\"string\""
        },
        {
         "metadata": "{}",
         "name": "count",
         "type": "\"long\""
        }
       ],
       "type": "table"
      }
     },
     "output_type": "display_data"
    }
   ],
   "source": [
    "display(\n",
    "    df_activity.filter('ActiveMinutes == 0 And ActiveDistance == 0').groupBy('Type').count()\n",
    ")"
   ]
  },
  {
   "cell_type": "code",
   "execution_count": 0,
   "metadata": {
    "application/vnd.databricks.v1+cell": {
     "cellMetadata": {
      "byteLimit": 2048000,
      "rowLimit": 10000
     },
     "inputWidgets": {},
     "nuid": "b40856fb-0669-4216-bcd1-028724433cda",
     "showTitle": false,
     "title": ""
    }
   },
   "outputs": [
    {
     "output_type": "display_data",
     "data": {
      "text/html": [
       "<style scoped>\n",
       "  .table-result-container {\n",
       "    max-height: 300px;\n",
       "    overflow: auto;\n",
       "  }\n",
       "  table, th, td {\n",
       "    border: 1px solid black;\n",
       "    border-collapse: collapse;\n",
       "  }\n",
       "  th, td {\n",
       "    padding: 5px;\n",
       "  }\n",
       "  th {\n",
       "    text-align: left;\n",
       "  }\n",
       "</style><div class='table-result-container'><table class='table-result'><thead style='background-color: white'><tr><th>Type</th><th>count</th></tr></thead><tbody><tr><td>VeryActive</td><td>527</td></tr><tr><td>Fairly</td><td>554</td></tr><tr><td>Light</td><td>855</td></tr><tr><td>Sedentary</td><td>82</td></tr></tbody></table></div>"
      ]
     },
     "metadata": {
      "application/vnd.databricks.v1+output": {
       "addedWidgets": {},
       "aggData": [],
       "aggError": "",
       "aggOverflow": false,
       "aggSchema": [],
       "aggSeriesLimitReached": false,
       "aggType": "",
       "arguments": {},
       "columnCustomDisplayInfos": {},
       "data": [
        [
         "VeryActive",
         527
        ],
        [
         "Fairly",
         554
        ],
        [
         "Light",
         855
        ],
        [
         "Sedentary",
         82
        ]
       ],
       "datasetInfos": [],
       "dbfsResultPath": null,
       "isJsonSchema": true,
       "metadata": {},
       "overflow": false,
       "plotOptions": {
        "customPlotOptions": {},
        "displayType": "table",
        "pivotAggregation": null,
        "pivotColumns": null,
        "xColumns": null,
        "yColumns": null
       },
       "removedWidgets": [],
       "schema": [
        {
         "metadata": "{}",
         "name": "Type",
         "type": "\"string\""
        },
        {
         "metadata": "{}",
         "name": "count",
         "type": "\"long\""
        }
       ],
       "type": "table"
      }
     },
     "output_type": "display_data"
    }
   ],
   "source": [
    "display(\n",
    "    df_activity.filter('ActiveDistance != 0').groupBy('Type').count()\n",
    ")"
   ]
  },
  {
   "cell_type": "code",
   "execution_count": 0,
   "metadata": {
    "application/vnd.databricks.v1+cell": {
     "cellMetadata": {
      "byteLimit": 2048000,
      "rowLimit": 10000
     },
     "inputWidgets": {},
     "nuid": "519fbbc8-f19a-4b7f-a793-01f72dc2dc2c",
     "showTitle": false,
     "title": ""
    }
   },
   "outputs": [
    {
     "output_type": "display_data",
     "data": {
      "text/html": [
       "<style scoped>\n",
       "  .table-result-container {\n",
       "    max-height: 300px;\n",
       "    overflow: auto;\n",
       "  }\n",
       "  table, th, td {\n",
       "    border: 1px solid black;\n",
       "    border-collapse: collapse;\n",
       "  }\n",
       "  th, td {\n",
       "    padding: 5px;\n",
       "  }\n",
       "  th {\n",
       "    text-align: left;\n",
       "  }\n",
       "</style><div class='table-result-container'><table class='table-result'><thead style='background-color: white'><tr><th>Type</th><th>count</th></tr></thead><tbody><tr><td>Sedentary</td><td>854</td></tr></tbody></table></div>"
      ]
     },
     "metadata": {
      "application/vnd.databricks.v1+output": {
       "addedWidgets": {},
       "aggData": [],
       "aggError": "",
       "aggOverflow": false,
       "aggSchema": [],
       "aggSeriesLimitReached": false,
       "aggType": "",
       "arguments": {},
       "columnCustomDisplayInfos": {},
       "data": [
        [
         "Sedentary",
         854
        ]
       ],
       "datasetInfos": [],
       "dbfsResultPath": null,
       "isJsonSchema": true,
       "metadata": {},
       "overflow": false,
       "plotOptions": {
        "customPlotOptions": {},
        "displayType": "table",
        "pivotAggregation": null,
        "pivotColumns": null,
        "xColumns": null,
        "yColumns": null
       },
       "removedWidgets": [],
       "schema": [
        {
         "metadata": "{}",
         "name": "Type",
         "type": "\"string\""
        },
        {
         "metadata": "{}",
         "name": "count",
         "type": "\"long\""
        }
       ],
       "type": "table"
      }
     },
     "output_type": "display_data"
    }
   ],
   "source": [
    "display(\n",
    "    df_activity.filter('ActiveDistance == 0').groupBy('Type').count()\n",
    ")"
   ]
  },
  {
   "cell_type": "code",
   "execution_count": 0,
   "metadata": {
    "application/vnd.databricks.v1+cell": {
     "cellMetadata": {
      "byteLimit": 2048000,
      "rowLimit": 10000
     },
     "inputWidgets": {},
     "nuid": "ba7aa7c8-aec0-47a8-ae51-68c7af97902e",
     "showTitle": false,
     "title": ""
    }
   },
   "outputs": [
    {
     "output_type": "display_data",
     "data": {
      "text/html": [
       "<style scoped>\n",
       "  .table-result-container {\n",
       "    max-height: 300px;\n",
       "    overflow: auto;\n",
       "  }\n",
       "  table, th, td {\n",
       "    border: 1px solid black;\n",
       "    border-collapse: collapse;\n",
       "  }\n",
       "  th, td {\n",
       "    padding: 5px;\n",
       "  }\n",
       "  th {\n",
       "    text-align: left;\n",
       "  }\n",
       "</style><div class='table-result-container'><table class='table-result'><thead style='background-color: white'><tr><th>Type</th><th>count</th></tr></thead><tbody><tr><td>VeryActive</td><td>527</td></tr><tr><td>Fairly</td><td>554</td></tr><tr><td>Light</td><td>855</td></tr><tr><td>Sedentary</td><td>82</td></tr></tbody></table></div>"
      ]
     },
     "metadata": {
      "application/vnd.databricks.v1+output": {
       "addedWidgets": {},
       "aggData": [],
       "aggError": "",
       "aggOverflow": false,
       "aggSchema": [],
       "aggSeriesLimitReached": false,
       "aggType": "",
       "arguments": {},
       "columnCustomDisplayInfos": {},
       "data": [
        [
         "VeryActive",
         527
        ],
        [
         "Fairly",
         554
        ],
        [
         "Light",
         855
        ],
        [
         "Sedentary",
         82
        ]
       ],
       "datasetInfos": [],
       "dbfsResultPath": null,
       "isJsonSchema": true,
       "metadata": {},
       "overflow": false,
       "plotOptions": {
        "customPlotOptions": {},
        "displayType": "table",
        "pivotAggregation": null,
        "pivotColumns": null,
        "xColumns": null,
        "yColumns": null
       },
       "removedWidgets": [],
       "schema": [
        {
         "metadata": "{}",
         "name": "Type",
         "type": "\"string\""
        },
        {
         "metadata": "{}",
         "name": "count",
         "type": "\"long\""
        }
       ],
       "type": "table"
      }
     },
     "output_type": "display_data"
    }
   ],
   "source": [
    "display(\n",
    "    df_activity.filter('ActiveMinutes!= 0 And ActiveDistance != 0').groupBy('Type').count()\n",
    ")"
   ]
  },
  {
   "cell_type": "code",
   "execution_count": 0,
   "metadata": {
    "application/vnd.databricks.v1+cell": {
     "cellMetadata": {
      "byteLimit": 2048000,
      "rowLimit": 10000
     },
     "inputWidgets": {},
     "nuid": "3f0d1e67-aaa3-4286-b17e-d7793a6f902a",
     "showTitle": false,
     "title": ""
    }
   },
   "outputs": [],
   "source": [
    "y_1 = np.array(df_activity.filter('Type == \"VeryActive\" ').select('ActiveMinutes').rdd.flatMap(lambda x: x).collect())\n",
    "x_1 = np.array(df_activity.filter('Type == \"VeryActive\" ').select('ActiveDistance').rdd.flatMap(lambda x: x).collect())\n",
    "\n",
    "y_2 = np.array(df_activity.filter('Type == \"Fairly\" ').select('ActiveMinutes').rdd.flatMap(lambda x: x).collect())\n",
    "x_2 = np.array(df_activity.filter('Type == \"Fairly\" ').select('ActiveDistance').rdd.flatMap(lambda x: x).collect())\n",
    "\n",
    "y_3 = np.array(df_activity.filter('Type == \"Light\" ').select('ActiveMinutes').rdd.flatMap(lambda x: x).collect())\n",
    "x_3 = np.array(df_activity.filter('Type == \"Light\" ').select('ActiveDistance').rdd.flatMap(lambda x: x).collect())\n",
    "\n",
    "y = np.array(df_activity.filter('Type == \"Sedentary\" ').select('ActiveMinutes').rdd.flatMap(lambda x: x).collect())\n",
    "x = np.array(df_activity.filter('Type == \"Sedentary\" ').select('ActiveDistance').rdd.flatMap(lambda x: x).collect())\n",
    "\n",
    "plt.scatter(x_3, y_3, c='yellow')\n",
    "plt.scatter(x_1, y_1, edgecolor='black')\n",
    "plt.scatter(x_2, y_2, c='green')\n",
    "plt.scatter(x, y, c='black')\n",
    "\n",
    "plt.xlabel('ActiveDistance')\n",
    "plt.ylabel('ActiveMinutes')\n",
    "plt.legend()\n",
    "\n",
    "plt.show()\n"
   ]
  },
  {
   "cell_type": "markdown",
   "metadata": {
    "application/vnd.databricks.v1+cell": {
     "cellMetadata": {
      "byteLimit": 2048000,
      "rowLimit": 10000
     },
     "inputWidgets": {},
     "nuid": "78bf7b5b-b566-42d4-8601-9dd8b8d0db46",
     "showTitle": false,
     "title": ""
    }
   },
   "source": [
    "There is people have 0 active distance but this should not be sedentary, this should be GYM or stationary activity.\n",
    "1. Anything between 60 mins and 400 mins i will keep it as Gym / Stationary activity\n",
    "2. Anything greater than 400 mins or less that 60 mins will be keep as sedentary"
   ]
  },
  {
   "cell_type": "code",
   "execution_count": 0,
   "metadata": {
    "application/vnd.databricks.v1+cell": {
     "cellMetadata": {
      "byteLimit": 2048000,
      "rowLimit": 10000
     },
     "inputWidgets": {},
     "nuid": "313fb94b-6daf-439b-b3cd-fa4a96c1a80f",
     "showTitle": false,
     "title": ""
    }
   },
   "outputs": [],
   "source": [
    "df_gym = df_sedentaryActive.filter('ActiveMinutes>= 60 And ActiveMinutes <= 400').drop(\"Type\").withColumn(\"Type\",lit(\"Gym\")).select('*')"
   ]
  },
  {
   "cell_type": "code",
   "execution_count": 0,
   "metadata": {
    "application/vnd.databricks.v1+cell": {
     "cellMetadata": {
      "byteLimit": 2048000,
      "rowLimit": 10000
     },
     "inputWidgets": {},
     "nuid": "f6a18eda-e4d3-48f2-82ff-d066874f683d",
     "showTitle": false,
     "title": ""
    }
   },
   "outputs": [],
   "source": [
    "df_sedentaryActive = df_sedentaryActive.filter('ActiveMinutes< 60 Or ActiveMinutes>600 ').select('*')"
   ]
  },
  {
   "cell_type": "code",
   "execution_count": 0,
   "metadata": {
    "application/vnd.databricks.v1+cell": {
     "cellMetadata": {
      "byteLimit": 2048000,
      "rowLimit": 10000
     },
     "inputWidgets": {},
     "nuid": "19094c20-01b9-4224-be69-906f9434e389",
     "showTitle": false,
     "title": ""
    }
   },
   "outputs": [],
   "source": [
    "df_activity = df_veryActive.union(\n",
    "    df_fairlyActive.union(\n",
    "        df_lightActive.union(\n",
    "            df_sedentaryActive\n",
    "        ). union(\n",
    "            df_gym\n",
    "        )\n",
    "        )\n",
    "    )\n",
    "\n",
    "display(df_activity)"
   ]
  },
  {
   "cell_type": "code",
   "execution_count": 0,
   "metadata": {
    "application/vnd.databricks.v1+cell": {
     "cellMetadata": {
      "byteLimit": 2048000,
      "rowLimit": 10000
     },
     "inputWidgets": {},
     "nuid": "93e093c8-bf5f-4ca4-b076-380e4b2bd696",
     "showTitle": false,
     "title": ""
    }
   },
   "outputs": [],
   "source": [
    "y_1 = np.array(df_activity.filter('Type == \"VeryActive\" ').select('ActiveMinutes').rdd.flatMap(lambda x: x).collect())\n",
    "x_1 = np.array(df_activity.filter('Type == \"VeryActive\" ').select('ActiveDistance').rdd.flatMap(lambda x: x).collect())\n",
    "\n",
    "y_2 = np.array(df_activity.filter('Type == \"Fairly\" ').select('ActiveMinutes').rdd.flatMap(lambda x: x).collect())\n",
    "x_2 = np.array(df_activity.filter('Type == \"Fairly\" ').select('ActiveDistance').rdd.flatMap(lambda x: x).collect())\n",
    "\n",
    "y_3 = np.array(df_activity.filter('Type == \"Light\" ').select('ActiveMinutes').rdd.flatMap(lambda x: x).collect())\n",
    "x_3 = np.array(df_activity.filter('Type == \"Light\" ').select('ActiveDistance').rdd.flatMap(lambda x: x).collect())\n",
    "\n",
    "y = np.array(df_activity.filter('Type == \"Sedentary\" ').select('ActiveMinutes').rdd.flatMap(lambda x: x).collect())\n",
    "x = np.array(df_activity.filter('Type == \"Sedentary\" ').select('ActiveDistance').rdd.flatMap(lambda x: x).collect())\n",
    "\n",
    "y_4 = np.array(df_activity.filter('Type == \"Gym\" ').select('ActiveMinutes').rdd.flatMap(lambda x: x).collect())\n",
    "x_4 = np.array(df_activity.filter('Type == \"Gym\" ').select('ActiveDistance').rdd.flatMap(lambda x: x).collect())\n",
    "\n",
    "plt.scatter(x_3, y_3, c='yellow')\n",
    "plt.scatter(x_1, y_1, edgecolor='black')\n",
    "plt.scatter(x_2, y_2, c='green')\n",
    "plt.scatter(x, y, c='black')\n",
    "plt.scatter(x_4, y_4, c='purple')\n",
    "\n",
    "plt.xlabel('ActiveDistance')\n",
    "plt.ylabel('ActiveMinutes')\n",
    "plt.legend()\n",
    "\n",
    "plt.show()\n"
   ]
  },
  {
   "cell_type": "code",
   "execution_count": 0,
   "metadata": {
    "application/vnd.databricks.v1+cell": {
     "cellMetadata": {
      "byteLimit": 2048000,
      "rowLimit": 10000
     },
     "inputWidgets": {},
     "nuid": "697a1677-b3f9-48dd-b196-c72f1ada0c54",
     "showTitle": false,
     "title": ""
    }
   },
   "outputs": [
    {
     "output_type": "stream",
     "name": "stdout",
     "output_type": "stream",
     "text": [
      "+-------+-------------------+------------------+------------------+----------+\n|summary|                 Id|     ActiveMinutes|    ActiveDistance|      Type|\n+-------+-------------------+------------------+------------------+----------+\n|  count|               2800|              2800|              2800|      2800|\n|   mean|4.992093813194643E9| 393.3510714285714| 1.817103570671752|      NULL|\n| stddev|2.434044994498934E9|460.99851158904175|2.3113825576832325|      NULL|\n|    min|         1503960366|               0.0|               0.0|    Fairly|\n|    max|         8877689391|            1440.0|  21.9200000762939|VeryActive|\n+-------+-------------------+------------------+------------------+----------+\n\n"
     ]
    }
   ],
   "source": [
    "df_activity.describe().show()"
   ]
  },
  {
   "cell_type": "code",
   "execution_count": 0,
   "metadata": {
    "application/vnd.databricks.v1+cell": {
     "cellMetadata": {
      "byteLimit": 2048000,
      "rowLimit": 10000
     },
     "inputWidgets": {},
     "nuid": "38d31aba-104a-4ef2-b984-c4680c2f9dda",
     "showTitle": false,
     "title": ""
    }
   },
   "outputs": [
    {
     "output_type": "stream",
     "name": "stdout",
     "output_type": "stream",
     "text": [
      "+----------+--------+-------+------------------+---------+\n|      Type|min_mins|min_max|           min_avg|min_count|\n+----------+--------+-------+------------------+---------+\n|VeryActive|     1.0|  210.0|37.297912713472485|      527|\n|    Fairly|     1.0|  143.0|  22.9927797833935|      554|\n|     Light|     1.0|  518.0|211.98011695906433|      855|\n| Sedentary|     0.0| 1440.0|1036.7587822014052|      854|\n|       Gym|   111.0|  380.0|             235.4|       10|\n+----------+--------+-------+------------------+---------+\n\n"
     ]
    }
   ],
   "source": [
    "df_activity.groupBy('Type').agg(\n",
    "    functions.min('ActiveMinutes').alias('min_mins'),\n",
    "    functions.max('ActiveMinutes').alias('min_max'),\n",
    "    functions.avg('ActiveMinutes').alias('min_avg'),\n",
    "    functions.count('ActiveMinutes').alias('min_count')\n",
    ").show()"
   ]
  },
  {
   "cell_type": "markdown",
   "metadata": {
    "application/vnd.databricks.v1+cell": {
     "cellMetadata": {
      "byteLimit": 2048000,
      "rowLimit": 10000
     },
     "inputWidgets": {},
     "nuid": "170ec3e7-b95f-481c-9f5a-57306b453c55",
     "showTitle": false,
     "title": ""
    }
   },
   "source": [
    "Interesting! \n",
    "1. Looks like we have a lot of people that has 0 active Minutes but had a lot of active Distance. This could be an error from the sensor or maybe people that moved in different ways that dont generates calories expenditure. \n",
    "\n",
    "2. -> We may need to remove this dataoints if we want to check a relation of distance and calories. But it can be people in the Gym or not going outside where we can track distance.\n",
    "\n",
    "3. Looks like people spend less time on Fairly Active and do less distance than in the Very Active or Light Active. \n",
    "It will give us a better picture if we can clasify our users depending on their activiy level.\n",
    "\n",
    "For that we need to check if there is anyone that is 100% not sedentary. It would be a useless data point for us."
   ]
  },
  {
   "cell_type": "code",
   "execution_count": 0,
   "metadata": {
    "application/vnd.databricks.v1+cell": {
     "cellMetadata": {
      "byteLimit": 2048000,
      "rowLimit": 10000
     },
     "inputWidgets": {},
     "nuid": "d18ee3e5-03c1-4b01-94d3-3ec8a29ffe1e",
     "showTitle": false,
     "title": ""
    }
   },
   "outputs": [
    {
     "output_type": "display_data",
     "data": {
      "text/html": [
       "<style scoped>\n",
       "  .table-result-container {\n",
       "    max-height: 300px;\n",
       "    overflow: auto;\n",
       "  }\n",
       "  table, th, td {\n",
       "    border: 1px solid black;\n",
       "    border-collapse: collapse;\n",
       "  }\n",
       "  th, td {\n",
       "    padding: 5px;\n",
       "  }\n",
       "  th {\n",
       "    text-align: left;\n",
       "  }\n",
       "</style><div class='table-result-container'><table class='table-result'><thead style='background-color: white'><tr><th>Id</th><th>Active_mins</th></tr></thead><tbody><tr><td>4057192912</td><td>421.0</td></tr><tr><td>1927972279</td><td>1261.0</td></tr><tr><td>6775888955</td><td>1715.0</td></tr><tr><td>4020332650</td><td>2712.0</td></tr><tr><td>8792009665</td><td>2807.0</td></tr><tr><td>8253242879</td><td>2883.0</td></tr><tr><td>1844505072</td><td>3623.0</td></tr><tr><td>2347167796</td><td>5158.0</td></tr><tr><td>1624580081</td><td>5207.0</td></tr><tr><td>8583815059</td><td>5275.0</td></tr><tr><td>2320127002</td><td>6266.0</td></tr><tr><td>1644430081</td><td>6282.0</td></tr><tr><td>7086361926</td><td>6565.0</td></tr><tr><td>4445114986</td><td>6741.0</td></tr><tr><td>6290855005</td><td>6786.0</td></tr><tr><td>3372868164</td><td>6823.0</td></tr><tr><td>8378563200</td><td>6976.0</td></tr><tr><td>5553957443</td><td>7521.0</td></tr><tr><td>4319703577</td><td>7585.0</td></tr><tr><td>8053475328</td><td>7617.0</td></tr><tr><td>3977333714</td><td>7648.0</td></tr><tr><td>5577150313</td><td>7953.0</td></tr><tr><td>2026352035</td><td>7967.0</td></tr><tr><td>6117666160</td><td>8175.0</td></tr><tr><td>4702921684</td><td>8328.0</td></tr><tr><td>4388161847</td><td>8459.0</td></tr><tr><td>7007744171</td><td>8529.0</td></tr><tr><td>1503960366</td><td>8612.0</td></tr><tr><td>6962181067</td><td>8901.0</td></tr><tr><td>4558609924</td><td>9581.0</td></tr><tr><td>8877689391</td><td>9632.0</td></tr><tr><td>2022484408</td><td>9706.0</td></tr><tr><td>2873212765</td><td>10175.0</td></tr></tbody></table></div>"
      ]
     },
     "metadata": {
      "application/vnd.databricks.v1+output": {
       "addedWidgets": {},
       "aggData": [],
       "aggError": "",
       "aggOverflow": false,
       "aggSchema": [],
       "aggSeriesLimitReached": false,
       "aggType": "",
       "arguments": {},
       "columnCustomDisplayInfos": {},
       "data": [
        [
         "4057192912",
         421.0
        ],
        [
         "1927972279",
         1261.0
        ],
        [
         "6775888955",
         1715.0
        ],
        [
         "4020332650",
         2712.0
        ],
        [
         "8792009665",
         2807.0
        ],
        [
         "8253242879",
         2883.0
        ],
        [
         "1844505072",
         3623.0
        ],
        [
         "2347167796",
         5158.0
        ],
        [
         "1624580081",
         5207.0
        ],
        [
         "8583815059",
         5275.0
        ],
        [
         "2320127002",
         6266.0
        ],
        [
         "1644430081",
         6282.0
        ],
        [
         "7086361926",
         6565.0
        ],
        [
         "4445114986",
         6741.0
        ],
        [
         "6290855005",
         6786.0
        ],
        [
         "3372868164",
         6823.0
        ],
        [
         "8378563200",
         6976.0
        ],
        [
         "5553957443",
         7521.0
        ],
        [
         "4319703577",
         7585.0
        ],
        [
         "8053475328",
         7617.0
        ],
        [
         "3977333714",
         7648.0
        ],
        [
         "5577150313",
         7953.0
        ],
        [
         "2026352035",
         7967.0
        ],
        [
         "6117666160",
         8175.0
        ],
        [
         "4702921684",
         8328.0
        ],
        [
         "4388161847",
         8459.0
        ],
        [
         "7007744171",
         8529.0
        ],
        [
         "1503960366",
         8612.0
        ],
        [
         "6962181067",
         8901.0
        ],
        [
         "4558609924",
         9581.0
        ],
        [
         "8877689391",
         9632.0
        ],
        [
         "2022484408",
         9706.0
        ],
        [
         "2873212765",
         10175.0
        ]
       ],
       "datasetInfos": [],
       "dbfsResultPath": null,
       "isJsonSchema": true,
       "metadata": {},
       "overflow": false,
       "plotOptions": {
        "customPlotOptions": {},
        "displayType": "table",
        "pivotAggregation": null,
        "pivotColumns": null,
        "xColumns": null,
        "yColumns": null
       },
       "removedWidgets": [],
       "schema": [
        {
         "metadata": "{}",
         "name": "Id",
         "type": "\"string\""
        },
        {
         "metadata": "{}",
         "name": "Active_mins",
         "type": "\"double\""
        }
       ],
       "type": "table"
      }
     },
     "output_type": "display_data"
    }
   ],
   "source": [
    "def _add(x,y,z):\n",
    "    return x+y+z\n",
    "\n",
    "_add= udf(_add,DoubleType())\n",
    "\n",
    "\n",
    "display(\n",
    "    df_dailyActivity_merged.groupBy('Id').sum('VeryActiveMinutes','FairlyActiveMinutes','LightlyActiveMinutes','SedentaryMinutes')\\\n",
    "        .select('Id',_add('sum(VeryActiveMinutes)', 'sum(FairlyActiveMinutes)', 'sum(LightlyActiveMinutes)'))\\\n",
    "        .withColumnRenamed(\"_add(sum(VeryActiveMinutes), sum(FairlyActiveMinutes), sum(LightlyActiveMinutes))\", \"Active_mins\")\\\n",
    "        .sort(functions.asc(\"Active_mins\"))\n",
    ")"
   ]
  },
  {
   "cell_type": "markdown",
   "metadata": {
    "application/vnd.databricks.v1+cell": {
     "cellMetadata": {
      "byteLimit": 2048000,
      "rowLimit": 10000
     },
     "inputWidgets": {},
     "nuid": "647ce4cf-367a-44cc-9b73-047265c7df4d",
     "showTitle": false,
     "title": ""
    }
   },
   "source": [
    "good, we dont have any data point where we have only sedentary data\n",
    "\n",
    "Now we can apply a simple rule of thumb. Further exploration on the lightActive must be necessary\n",
    "\n",
    "\n",
    "If:\n",
    " VeryActiveMinutes > fairlyActiveMinutes || lightActiveMinutes\n",
    "Then:\n",
    "  veryActive\n",
    "\n",
    "If:\n",
    "  fairlyActiveMinutes > VeryActiveMinutes || lightActiveMinutes\n",
    "Then:\n",
    "  fairlyActive\n",
    "\n",
    "Else :\n",
    "  lightActive "
   ]
  },
  {
   "cell_type": "code",
   "execution_count": 0,
   "metadata": {
    "application/vnd.databricks.v1+cell": {
     "cellMetadata": {
      "byteLimit": 2048000,
      "rowLimit": 10000
     },
     "inputWidgets": {},
     "nuid": "0ef01ac3-7f3e-42d3-a444-faf43793c830",
     "showTitle": false,
     "title": ""
    }
   },
   "outputs": [],
   "source": [
    "display(df_dailyActivity_merged.select(\"Id\",\"VeryActiveMinutes\",\"FairlyActiveMinutes\",\"LightlyActiveMinutes\"))"
   ]
  },
  {
   "cell_type": "code",
   "execution_count": 0,
   "metadata": {
    "application/vnd.databricks.v1+cell": {
     "cellMetadata": {
      "byteLimit": 2048000,
      "rowLimit": 10000
     },
     "inputWidgets": {},
     "nuid": "e0edb2b6-1288-49b7-ba45-b812ffd98350",
     "showTitle": false,
     "title": ""
    }
   },
   "outputs": [
    {
     "output_type": "display_data",
     "data": {
      "text/html": [
       "<style scoped>\n",
       "  .table-result-container {\n",
       "    max-height: 300px;\n",
       "    overflow: auto;\n",
       "  }\n",
       "  table, th, td {\n",
       "    border: 1px solid black;\n",
       "    border-collapse: collapse;\n",
       "  }\n",
       "  th, td {\n",
       "    padding: 5px;\n",
       "  }\n",
       "  th {\n",
       "    text-align: left;\n",
       "  }\n",
       "</style><div class='table-result-container'><table class='table-result'><thead style='background-color: white'><tr><th>ActivityDate</th><th>VeryActiveMinutes</th><th>FairlyActiveMinutes</th><th>LightlyActiveMinutes</th></tr></thead><tbody><tr><td>2016-04-12</td><td>25.0</td><td>13.0</td><td>328.0</td></tr><tr><td>2016-04-13</td><td>21.0</td><td>19.0</td><td>217.0</td></tr><tr><td>2016-04-14</td><td>30.0</td><td>11.0</td><td>181.0</td></tr><tr><td>2016-04-15</td><td>29.0</td><td>34.0</td><td>209.0</td></tr><tr><td>2016-04-16</td><td>36.0</td><td>10.0</td><td>221.0</td></tr><tr><td>2016-04-17</td><td>38.0</td><td>20.0</td><td>164.0</td></tr><tr><td>2016-04-18</td><td>42.0</td><td>16.0</td><td>233.0</td></tr><tr><td>2016-04-19</td><td>50.0</td><td>31.0</td><td>264.0</td></tr><tr><td>2016-04-20</td><td>28.0</td><td>12.0</td><td>205.0</td></tr><tr><td>2016-04-21</td><td>19.0</td><td>8.0</td><td>211.0</td></tr><tr><td>2016-04-22</td><td>66.0</td><td>27.0</td><td>130.0</td></tr><tr><td>2016-04-23</td><td>41.0</td><td>21.0</td><td>262.0</td></tr><tr><td>2016-04-24</td><td>39.0</td><td>5.0</td><td>238.0</td></tr><tr><td>2016-04-25</td><td>73.0</td><td>14.0</td><td>216.0</td></tr><tr><td>2016-04-26</td><td>31.0</td><td>23.0</td><td>279.0</td></tr><tr><td>2016-04-27</td><td>78.0</td><td>11.0</td><td>243.0</td></tr><tr><td>2016-04-28</td><td>48.0</td><td>28.0</td><td>189.0</td></tr><tr><td>2016-04-29</td><td>16.0</td><td>12.0</td><td>243.0</td></tr><tr><td>2016-04-30</td><td>52.0</td><td>34.0</td><td>217.0</td></tr><tr><td>2016-05-01</td><td>33.0</td><td>35.0</td><td>246.0</td></tr><tr><td>2016-05-02</td><td>41.0</td><td>15.0</td><td>277.0</td></tr><tr><td>2016-05-03</td><td>50.0</td><td>24.0</td><td>254.0</td></tr><tr><td>2016-05-04</td><td>36.0</td><td>22.0</td><td>203.0</td></tr><tr><td>2016-05-05</td><td>45.0</td><td>24.0</td><td>250.0</td></tr><tr><td>2016-05-06</td><td>24.0</td><td>6.0</td><td>289.0</td></tr><tr><td>2016-05-07</td><td>37.0</td><td>46.0</td><td>175.0</td></tr><tr><td>2016-05-08</td><td>44.0</td><td>8.0</td><td>203.0</td></tr><tr><td>2016-05-09</td><td>46.0</td><td>11.0</td><td>206.0</td></tr><tr><td>2016-05-10</td><td>46.0</td><td>31.0</td><td>214.0</td></tr><tr><td>2016-05-11</td><td>36.0</td><td>23.0</td><td>251.0</td></tr></tbody></table></div>"
      ]
     },
     "metadata": {
      "application/vnd.databricks.v1+output": {
       "addedWidgets": {},
       "aggData": [],
       "aggError": "",
       "aggOverflow": false,
       "aggSchema": [],
       "aggSeriesLimitReached": false,
       "aggType": "",
       "arguments": {},
       "columnCustomDisplayInfos": {},
       "data": [
        [
         "2016-04-12",
         25.0,
         13.0,
         328.0
        ],
        [
         "2016-04-13",
         21.0,
         19.0,
         217.0
        ],
        [
         "2016-04-14",
         30.0,
         11.0,
         181.0
        ],
        [
         "2016-04-15",
         29.0,
         34.0,
         209.0
        ],
        [
         "2016-04-16",
         36.0,
         10.0,
         221.0
        ],
        [
         "2016-04-17",
         38.0,
         20.0,
         164.0
        ],
        [
         "2016-04-18",
         42.0,
         16.0,
         233.0
        ],
        [
         "2016-04-19",
         50.0,
         31.0,
         264.0
        ],
        [
         "2016-04-20",
         28.0,
         12.0,
         205.0
        ],
        [
         "2016-04-21",
         19.0,
         8.0,
         211.0
        ],
        [
         "2016-04-22",
         66.0,
         27.0,
         130.0
        ],
        [
         "2016-04-23",
         41.0,
         21.0,
         262.0
        ],
        [
         "2016-04-24",
         39.0,
         5.0,
         238.0
        ],
        [
         "2016-04-25",
         73.0,
         14.0,
         216.0
        ],
        [
         "2016-04-26",
         31.0,
         23.0,
         279.0
        ],
        [
         "2016-04-27",
         78.0,
         11.0,
         243.0
        ],
        [
         "2016-04-28",
         48.0,
         28.0,
         189.0
        ],
        [
         "2016-04-29",
         16.0,
         12.0,
         243.0
        ],
        [
         "2016-04-30",
         52.0,
         34.0,
         217.0
        ],
        [
         "2016-05-01",
         33.0,
         35.0,
         246.0
        ],
        [
         "2016-05-02",
         41.0,
         15.0,
         277.0
        ],
        [
         "2016-05-03",
         50.0,
         24.0,
         254.0
        ],
        [
         "2016-05-04",
         36.0,
         22.0,
         203.0
        ],
        [
         "2016-05-05",
         45.0,
         24.0,
         250.0
        ],
        [
         "2016-05-06",
         24.0,
         6.0,
         289.0
        ],
        [
         "2016-05-07",
         37.0,
         46.0,
         175.0
        ],
        [
         "2016-05-08",
         44.0,
         8.0,
         203.0
        ],
        [
         "2016-05-09",
         46.0,
         11.0,
         206.0
        ],
        [
         "2016-05-10",
         46.0,
         31.0,
         214.0
        ],
        [
         "2016-05-11",
         36.0,
         23.0,
         251.0
        ]
       ],
       "datasetInfos": [],
       "dbfsResultPath": null,
       "isJsonSchema": true,
       "metadata": {},
       "overflow": false,
       "plotOptions": {
        "customPlotOptions": {},
        "displayType": "table",
        "pivotAggregation": null,
        "pivotColumns": null,
        "xColumns": null,
        "yColumns": null
       },
       "removedWidgets": [],
       "schema": [
        {
         "metadata": "{}",
         "name": "ActivityDate",
         "type": "\"date\""
        },
        {
         "metadata": "{}",
         "name": "VeryActiveMinutes",
         "type": "\"double\""
        },
        {
         "metadata": "{}",
         "name": "FairlyActiveMinutes",
         "type": "\"double\""
        },
        {
         "metadata": "{}",
         "name": "LightlyActiveMinutes",
         "type": "\"double\""
        }
       ],
       "type": "table"
      }
     },
     "output_type": "display_data"
    }
   ],
   "source": [
    "display(\n",
    "    df_dailyActivity_merged.filter(\"Id == 1503960366\").select('ActivityDate','VeryActiveMinutes','FairlyActiveMinutes','LightlyActiveMinutes')\n",
    ")"
   ]
  },
  {
   "cell_type": "markdown",
   "metadata": {
    "application/vnd.databricks.v1+cell": {
     "cellMetadata": {
      "byteLimit": 2048000,
      "rowLimit": 10000
     },
     "inputWidgets": {},
     "nuid": "26342524-25d9-47c5-ab80-9c1909addd6e",
     "showTitle": false,
     "title": ""
    }
   },
   "source": [
    "## MY CLASSIFICATION IS NOT GOOD I NEED A BETTER WAY TO CLASSIFY PEOPLE "
   ]
  },
  {
   "cell_type": "code",
   "execution_count": 0,
   "metadata": {
    "application/vnd.databricks.v1+cell": {
     "cellMetadata": {
      "byteLimit": 2048000,
      "rowLimit": 10000
     },
     "inputWidgets": {},
     "nuid": "55960f26-22b8-4c70-bd35-08c5297ccbe0",
     "showTitle": false,
     "title": ""
    }
   },
   "outputs": [],
   "source": [
    "def _classify(v,m,l):\n",
    "    if v > m: \n",
    "        return \"VeryActive\"\n",
    "    if m>v:\n",
    "        return \"FairlyActive\"\n",
    "    if l > v+m:\n",
    "        return \"LightActive\"\n",
    "    if v + m + l == 0:\n",
    "        return \"Sedentary\"\n",
    "    \n",
    "_classify = udf(_classify, StringType())\n",
    "\n",
    "display(\n",
    "    df_dailyActivity_merged.select(\n",
    "        'Id',\n",
    "        'VeryActiveMinutes',\n",
    "        'FairlyActiveMinutes',\n",
    "        'LightlyActiveMinutes', \n",
    "        'Calories',\n",
    "        'TotalSteps',\n",
    "        'TotalDistance',\n",
    "        _classify('VeryActiveMinutes','FairlyActiveMinutes','LightlyActiveMinutes'))\\\n",
    "    .withColumnRenamed('_classify(VeryActiveMinutes, FairlyActiveMinutes, LightlyActiveMinutes)','day_Category')\\\n",
    "    \n",
    ")"
   ]
  },
  {
   "cell_type": "code",
   "execution_count": 0,
   "metadata": {
    "application/vnd.databricks.v1+cell": {
     "cellMetadata": {
      "byteLimit": 2048000,
      "rowLimit": 10000
     },
     "inputWidgets": {},
     "nuid": "45bc1d33-fdcb-4b4d-b77e-987cb3923115",
     "showTitle": false,
     "title": ""
    }
   },
   "outputs": [],
   "source": [
    "df_users = df_dailyActivity_merged.select(\n",
    "        'Id',\n",
    "        'ActivityDate',\n",
    "        'VeryActiveMinutes',\n",
    "        'FairlyActiveMinutes',\n",
    "        'LightlyActiveMinutes', \n",
    "        'Calories',\n",
    "        'TotalSteps',\n",
    "        'TotalDistance',\n",
    "        _classify('VeryActiveMinutes','FairlyActiveMinutes','LightlyActiveMinutes'))\\\n",
    "    .withColumnRenamed('_classify(VeryActiveMinutes, FairlyActiveMinutes, LightlyActiveMinutes)','day_Category')"
   ]
  },
  {
   "cell_type": "code",
   "execution_count": 0,
   "metadata": {
    "application/vnd.databricks.v1+cell": {
     "cellMetadata": {
      "byteLimit": 2048000,
      "rowLimit": 10000
     },
     "inputWidgets": {},
     "nuid": "19e52f91-1920-4669-afef-6385a3e09712",
     "showTitle": false,
     "title": ""
    }
   },
   "outputs": [
    {
     "output_type": "stream",
     "name": "stdout",
     "output_type": "stream",
     "text": [
      "+------------+------------------+------------------+------------------+\n|day_Category|     avg(Calories)|   avg(TotalSteps)|avg(TotalDistance)|\n+------------+------------------+------------------+------------------+\n| lightActive|1995.4788732394366|   4461.1569416499|3.1115090519047417|\n|fairlyActive| 2480.055944055944|  9505.65034965035| 6.800979010708682|\n|  veryActive| 2766.864864864865|12172.746621621622| 8.923513504298958|\n+------------+------------------+------------------+------------------+\n\n"
     ]
    }
   ],
   "source": [
    "df_cal = df_users.groupBy('day_Category').avg('Calories')\n",
    "df_step = df_users.groupBy('day_Category').avg('TotalSteps')\n",
    "df_dist = df_users.groupBy('day_Category').avg('TotalDistance')\n",
    "\n",
    "df_agg_day_Category = df_cal.join(df_step, 'day_Category').join(df_dist, 'day_Category').sort(functions.asc('avg(Calories)'))\n",
    "\n",
    "df_agg_day_Category.show()"
   ]
  },
  {
   "cell_type": "code",
   "execution_count": 0,
   "metadata": {
    "application/vnd.databricks.v1+cell": {
     "cellMetadata": {
      "byteLimit": 2048000,
      "rowLimit": 10000
     },
     "inputWidgets": {},
     "nuid": "ac5ffa9a-235b-4a05-aff5-1a36e2ae5382",
     "showTitle": false,
     "title": ""
    }
   },
   "outputs": [],
   "source": [
    "figure, axis = plt.subplots(3, 1) \n",
    "\n",
    "x_1 = np.array(df_agg_day_Category.select('avg(Calories)').rdd.flatMap(lambda x: x).collect())\n",
    "x_2 = np.array(df_agg_day_Category.select('avg(TotalSteps)').rdd.flatMap(lambda x: x).collect())\n",
    "x_3 = np.array(df_agg_day_Category.select('avg(TotalDistance)').rdd.flatMap(lambda x: x).collect())\n",
    "\n",
    "\n",
    "axis[2].scatter(x_2, x_3, edgecolor='black')\n",
    "axis[1].scatter(x_1, x_3, edgecolor='black')\n",
    "axis[0].scatter(x_1, x_2, c='yellow')\n",
    "\n",
    "plt.show()\n"
   ]
  },
  {
   "cell_type": "markdown",
   "metadata": {
    "application/vnd.databricks.v1+cell": {
     "cellMetadata": {
      "byteLimit": 2048000,
      "rowLimit": 10000
     },
     "inputWidgets": {},
     "nuid": "92d1d8e1-d6de-473a-80ae-5674540ce8fe",
     "showTitle": false,
     "title": ""
    }
   },
   "source": [
    "Nice, we aggree that the more time of activities / distance you walk, the more you burn calories \n",
    "Lets try bringing the information about sleeping and weight loss"
   ]
  },
  {
   "cell_type": "code",
   "execution_count": 0,
   "metadata": {
    "application/vnd.databricks.v1+cell": {
     "cellMetadata": {
      "byteLimit": 2048000,
      "rowLimit": 10000
     },
     "inputWidgets": {},
     "nuid": "dbcd4118-70bb-42b8-91f8-c25e3ae355f5",
     "showTitle": false,
     "title": ""
    }
   },
   "outputs": [
    {
     "output_type": "stream",
     "name": "stdout",
     "output_type": "stream",
     "text": [
      "+----------+-------------------+-----------------+------------------+--------------+\n|        Id|           SleepDay|TotalSleepRecords|TotalMinutesAsleep|TotalTimeInBed|\n+----------+-------------------+-----------------+------------------+--------------+\n|1503960366|2016-04-12 00:00:00|              1.0|             327.0|         346.0|\n|1503960366|2016-04-13 00:00:00|              2.0|             384.0|         407.0|\n|1503960366|2016-04-15 00:00:00|              1.0|             412.0|         442.0|\n|1503960366|2016-04-16 00:00:00|              2.0|             340.0|         367.0|\n|1503960366|2016-04-17 00:00:00|              1.0|             700.0|         712.0|\n+----------+-------------------+-----------------+------------------+--------------+\nonly showing top 5 rows\n\n"
     ]
    }
   ],
   "source": [
    "df_sleepDay_merged.show(5)"
   ]
  },
  {
   "cell_type": "code",
   "execution_count": 0,
   "metadata": {
    "application/vnd.databricks.v1+cell": {
     "cellMetadata": {
      "byteLimit": 2048000,
      "rowLimit": 10000
     },
     "inputWidgets": {},
     "nuid": "b62acc02-23de-47eb-a4a1-0da06054609c",
     "showTitle": false,
     "title": ""
    }
   },
   "outputs": [
    {
     "output_type": "execute_result",
     "data": {
      "text/plain": [
       "[Row(Id='8378563200', SleepDay=datetime.datetime(2016, 4, 25, 0, 0), count=2),\n",
       " Row(Id='4388161847', SleepDay=datetime.datetime(2016, 5, 5, 0, 0), count=2),\n",
       " Row(Id='4702921684', SleepDay=datetime.datetime(2016, 5, 7, 0, 0), count=2),\n",
       " Row(Id='4388161847', SleepDay=datetime.datetime(2016, 4, 27, 0, 0), count=1),\n",
       " Row(Id='3977333714', SleepDay=datetime.datetime(2016, 5, 2, 0, 0), count=1)]"
      ]
     },
     "execution_count": 117,
     "metadata": {},
     "output_type": "execute_result"
    }
   ],
   "source": [
    "df_sleepDay_merged.groupBy('Id','SleepDay').count().sort(functions.desc('count')).head(5)"
   ]
  },
  {
   "cell_type": "markdown",
   "metadata": {
    "application/vnd.databricks.v1+cell": {
     "cellMetadata": {
      "byteLimit": 2048000,
      "rowLimit": 10000
     },
     "inputWidgets": {},
     "nuid": "acc14cf8-b29c-40d9-815c-cfdfa1bd7b90",
     "showTitle": false,
     "title": ""
    }
   },
   "source": [
    "So we have duplicate entries, i will average them so i can merge them with the user data"
   ]
  },
  {
   "cell_type": "code",
   "execution_count": 0,
   "metadata": {
    "application/vnd.databricks.v1+cell": {
     "cellMetadata": {
      "byteLimit": 2048000,
      "rowLimit": 10000
     },
     "inputWidgets": {},
     "nuid": "3d81955a-aa3a-41a4-a0f4-4275f0e4bc18",
     "showTitle": false,
     "title": ""
    }
   },
   "outputs": [],
   "source": [
    "display(df_sleepDay_merged.groupBy('Id','SleepDay').agg(\n",
    "    functions.avg('TotalMinutesAsleep').alias('TotalMinutesAsleep'), \n",
    "    functions.avg('TotalTimeInBed').alias('TotalTimeInBed')\n",
    "    ))"
   ]
  },
  {
   "cell_type": "markdown",
   "metadata": {
    "application/vnd.databricks.v1+cell": {
     "cellMetadata": {
      "byteLimit": 2048000,
      "rowLimit": 10000
     },
     "inputWidgets": {},
     "nuid": "b4b5569e-dda0-4783-9282-1ebe94a8d607",
     "showTitle": false,
     "title": ""
    }
   },
   "source": [
    "lets make the date columns match the same format from the df_users"
   ]
  },
  {
   "cell_type": "code",
   "execution_count": 0,
   "metadata": {
    "application/vnd.databricks.v1+cell": {
     "cellMetadata": {
      "byteLimit": 2048000,
      "rowLimit": 10000
     },
     "inputWidgets": {},
     "nuid": "c635faef-524d-4ad1-9318-e22f676f5f99",
     "showTitle": false,
     "title": ""
    }
   },
   "outputs": [],
   "source": [
    "df_sleepDay_merged = df_sleepDay_merged.withColumn(\n",
    "    \"SleepDay\",\n",
    "    to_date(\"SleepDay\", \"M/d/y\")\n",
    ")"
   ]
  },
  {
   "cell_type": "code",
   "execution_count": 0,
   "metadata": {
    "application/vnd.databricks.v1+cell": {
     "cellMetadata": {
      "byteLimit": 2048000,
      "rowLimit": 10000
     },
     "inputWidgets": {},
     "nuid": "44976755-70bf-4b47-8427-a4f5a1e21d0a",
     "showTitle": false,
     "title": ""
    }
   },
   "outputs": [
    {
     "output_type": "execute_result",
     "data": {
      "text/plain": [
       "33"
      ]
     },
     "execution_count": 120,
     "metadata": {},
     "output_type": "execute_result"
    }
   ],
   "source": [
    "df_activity.select('Id').distinct().count()"
   ]
  },
  {
   "cell_type": "code",
   "execution_count": 0,
   "metadata": {
    "application/vnd.databricks.v1+cell": {
     "cellMetadata": {
      "byteLimit": 2048000,
      "rowLimit": 10000
     },
     "inputWidgets": {},
     "nuid": "44cb162f-c12a-4210-9f2c-81d1f36dec46",
     "showTitle": false,
     "title": ""
    }
   },
   "outputs": [
    {
     "output_type": "execute_result",
     "data": {
      "text/plain": [
       "33"
      ]
     },
     "execution_count": 121,
     "metadata": {},
     "output_type": "execute_result"
    }
   ],
   "source": [
    "df_users.select('Id').distinct().count()"
   ]
  },
  {
   "cell_type": "code",
   "execution_count": 0,
   "metadata": {
    "application/vnd.databricks.v1+cell": {
     "cellMetadata": {
      "byteLimit": 2048000,
      "rowLimit": 10000
     },
     "inputWidgets": {},
     "nuid": "f17c08fd-5b26-406b-a918-345e41e86248",
     "showTitle": false,
     "title": ""
    }
   },
   "outputs": [
    {
     "output_type": "execute_result",
     "data": {
      "text/plain": [
       "24"
      ]
     },
     "execution_count": 122,
     "metadata": {},
     "output_type": "execute_result"
    }
   ],
   "source": [
    "df_sleepDay_merged.select('Id').distinct().count()"
   ]
  },
  {
   "cell_type": "markdown",
   "metadata": {
    "application/vnd.databricks.v1+cell": {
     "cellMetadata": {
      "byteLimit": 2048000,
      "rowLimit": 10000
     },
     "inputWidgets": {},
     "nuid": "2999f09b-2f5e-44bb-a7e1-9653ec8eea5b",
     "showTitle": false,
     "title": ""
    }
   },
   "source": [
    "Lets see if we can keep the same Ids everywhere"
   ]
  },
  {
   "cell_type": "code",
   "execution_count": 0,
   "metadata": {
    "application/vnd.databricks.v1+cell": {
     "cellMetadata": {
      "byteLimit": 2048000,
      "rowLimit": 10000
     },
     "inputWidgets": {},
     "nuid": "1475c4e0-bc65-4b3b-84f9-84b6e20b03bd",
     "showTitle": false,
     "title": ""
    }
   },
   "outputs": [
    {
     "output_type": "execute_result",
     "data": {
      "text/plain": [
       "24"
      ]
     },
     "execution_count": 123,
     "metadata": {},
     "output_type": "execute_result"
    }
   ],
   "source": [
    "df_sleepDay_merged.join(\n",
    "    df_activity, 'Id'\n",
    ").select('Id').distinct().count()"
   ]
  },
  {
   "cell_type": "code",
   "execution_count": 0,
   "metadata": {
    "application/vnd.databricks.v1+cell": {
     "cellMetadata": {
      "byteLimit": 2048000,
      "rowLimit": 10000
     },
     "inputWidgets": {},
     "nuid": "3dd86950-ac05-431d-aa75-f24dc22a4990",
     "showTitle": false,
     "title": ""
    }
   },
   "outputs": [
    {
     "output_type": "execute_result",
     "data": {
      "text/plain": [
       "24"
      ]
     },
     "execution_count": 124,
     "metadata": {},
     "output_type": "execute_result"
    }
   ],
   "source": [
    "df_sleepDay_merged.join(\n",
    "    df_users, 'Id'\n",
    ").select('Id').distinct().count()"
   ]
  },
  {
   "cell_type": "code",
   "execution_count": 0,
   "metadata": {
    "application/vnd.databricks.v1+cell": {
     "cellMetadata": {
      "byteLimit": 2048000,
      "rowLimit": 10000
     },
     "inputWidgets": {},
     "nuid": "2770d566-f91b-4937-934a-ccd7cfae76c0",
     "showTitle": false,
     "title": ""
    }
   },
   "outputs": [
    {
     "output_type": "execute_result",
     "data": {
      "text/plain": [
       "24"
      ]
     },
     "execution_count": 125,
     "metadata": {},
     "output_type": "execute_result"
    }
   ],
   "source": [
    "df_sleepDay_merged.select('Id').distinct().count()"
   ]
  },
  {
   "cell_type": "markdown",
   "metadata": {
    "application/vnd.databricks.v1+cell": {
     "cellMetadata": {
      "byteLimit": 2048000,
      "rowLimit": 10000
     },
     "inputWidgets": {},
     "nuid": "acf3b043-13d6-4347-a780-8776f49c3831",
     "showTitle": false,
     "title": ""
    }
   },
   "source": [
    "Good lets keep only 24 Ids in everything"
   ]
  },
  {
   "cell_type": "code",
   "execution_count": 0,
   "metadata": {
    "application/vnd.databricks.v1+cell": {
     "cellMetadata": {
      "byteLimit": 2048000,
      "rowLimit": 10000
     },
     "inputWidgets": {},
     "nuid": "3262d9da-c3bb-4ca9-ae94-e0c2690ff1ff",
     "showTitle": false,
     "title": ""
    }
   },
   "outputs": [
    {
     "output_type": "display_data",
     "data": {
      "text/html": [
       "<style scoped>\n",
       "  .table-result-container {\n",
       "    max-height: 300px;\n",
       "    overflow: auto;\n",
       "  }\n",
       "  table, th, td {\n",
       "    border: 1px solid black;\n",
       "    border-collapse: collapse;\n",
       "  }\n",
       "  th, td {\n",
       "    padding: 5px;\n",
       "  }\n",
       "  th {\n",
       "    text-align: left;\n",
       "  }\n",
       "</style><div class='table-result-container'><table class='table-result'><thead style='background-color: white'><tr><th>Id</th></tr></thead><tbody><tr><td>4388161847</td></tr><tr><td>5553957443</td></tr><tr><td>1503960366</td></tr><tr><td>7007744171</td></tr><tr><td>5577150313</td></tr><tr><td>8378563200</td></tr><tr><td>3977333714</td></tr><tr><td>1644430081</td></tr><tr><td>1927972279</td></tr><tr><td>6962181067</td></tr><tr><td>1844505072</td></tr><tr><td>2320127002</td></tr><tr><td>4445114986</td></tr><tr><td>8053475328</td></tr><tr><td>4319703577</td></tr><tr><td>4702921684</td></tr><tr><td>4558609924</td></tr><tr><td>6775888955</td></tr><tr><td>4020332650</td></tr><tr><td>6117666160</td></tr><tr><td>7086361926</td></tr><tr><td>2347167796</td></tr><tr><td>8792009665</td></tr><tr><td>2026352035</td></tr></tbody></table></div>"
      ]
     },
     "metadata": {
      "application/vnd.databricks.v1+output": {
       "addedWidgets": {},
       "aggData": [],
       "aggError": "",
       "aggOverflow": false,
       "aggSchema": [],
       "aggSeriesLimitReached": false,
       "aggType": "",
       "arguments": {},
       "columnCustomDisplayInfos": {},
       "data": [
        [
         "4388161847"
        ],
        [
         "5553957443"
        ],
        [
         "1503960366"
        ],
        [
         "7007744171"
        ],
        [
         "5577150313"
        ],
        [
         "8378563200"
        ],
        [
         "3977333714"
        ],
        [
         "1644430081"
        ],
        [
         "1927972279"
        ],
        [
         "6962181067"
        ],
        [
         "1844505072"
        ],
        [
         "2320127002"
        ],
        [
         "4445114986"
        ],
        [
         "8053475328"
        ],
        [
         "4319703577"
        ],
        [
         "4702921684"
        ],
        [
         "4558609924"
        ],
        [
         "6775888955"
        ],
        [
         "4020332650"
        ],
        [
         "6117666160"
        ],
        [
         "7086361926"
        ],
        [
         "2347167796"
        ],
        [
         "8792009665"
        ],
        [
         "2026352035"
        ]
       ],
       "datasetInfos": [],
       "dbfsResultPath": null,
       "isJsonSchema": true,
       "metadata": {},
       "overflow": false,
       "plotOptions": {
        "customPlotOptions": {},
        "displayType": "table",
        "pivotAggregation": null,
        "pivotColumns": null,
        "xColumns": null,
        "yColumns": null
       },
       "removedWidgets": [],
       "schema": [
        {
         "metadata": "{}",
         "name": "Id",
         "type": "\"string\""
        }
       ],
       "type": "table"
      }
     },
     "output_type": "display_data"
    }
   ],
   "source": [
    "df_ids = df_sleepDay_merged.select('Id').distinct()\n",
    "display(df_ids)"
   ]
  },
  {
   "cell_type": "code",
   "execution_count": 0,
   "metadata": {
    "application/vnd.databricks.v1+cell": {
     "cellMetadata": {
      "byteLimit": 2048000,
      "rowLimit": 10000
     },
     "inputWidgets": {},
     "nuid": "bd37fd2c-5842-4d40-9356-7e8a5f00b9ab",
     "showTitle": false,
     "title": ""
    }
   },
   "outputs": [],
   "source": [
    "df_activity = df_activity.join(df_ids,'Id')\n",
    "df_users = df_users.join(df_ids,'Id')"
   ]
  },
  {
   "cell_type": "code",
   "execution_count": 0,
   "metadata": {
    "application/vnd.databricks.v1+cell": {
     "cellMetadata": {
      "byteLimit": 2048000,
      "rowLimit": 10000
     },
     "inputWidgets": {},
     "nuid": "0bf812fb-49a4-4e5a-9920-1c670aaff8f5",
     "showTitle": false,
     "title": ""
    }
   },
   "outputs": [
    {
     "output_type": "stream",
     "name": "stdout",
     "output_type": "stream",
     "text": [
      "+------------+------------------+------------------+-------------------+\n|day_Category|     avg(Calories)|   avg(TotalSteps)| avg(TotalDistance)|\n+------------+------------------+------------------+-------------------+\n|   Sedentary|            1743.5|255.35714285714286|0.18542857170104984|\n| LightActive| 1966.374449339207| 4394.638766519824| 3.0100440506450012|\n|FairlyActive|2399.3602150537636|  8992.02688172043| 6.3541397803252755|\n|  VeryActive|2711.1004366812226|11209.183406113538|  8.079563321244768|\n+------------+------------------+------------------+-------------------+\n\n"
     ]
    }
   ],
   "source": [
    "df_cal = df_users.groupBy('day_Category').avg('Calories')\n",
    "df_step = df_users.groupBy('day_Category').avg('TotalSteps')\n",
    "df_dist = df_users.groupBy('day_Category').avg('TotalDistance')\n",
    "\n",
    "df_agg_day_Category = df_cal.join(df_step, 'day_Category').join(df_dist, 'day_Category').sort(functions.asc('avg(Calories)'))\n",
    "\n",
    "df_agg_day_Category.show()"
   ]
  },
  {
   "cell_type": "markdown",
   "metadata": {
    "application/vnd.databricks.v1+cell": {
     "cellMetadata": {
      "byteLimit": 2048000,
      "rowLimit": 10000
     },
     "inputWidgets": {},
     "nuid": "2770f41c-5fe1-4f8d-afd5-abe6a69e4d86",
     "showTitle": false,
     "title": ""
    }
   },
   "source": [
    "Nice, now we have all data aggregated on df_users, and the activity log created. It may be important to create another dataframe were we classify our users based on the amount of activity before doing additional plots"
   ]
  },
  {
   "cell_type": "code",
   "execution_count": 0,
   "metadata": {
    "application/vnd.databricks.v1+cell": {
     "cellMetadata": {
      "byteLimit": 2048000,
      "rowLimit": 10000
     },
     "inputWidgets": {},
     "nuid": "dfeaf33e-7dc3-492a-972c-74a6969b1a60",
     "showTitle": false,
     "title": ""
    }
   },
   "outputs": [
    {
     "output_type": "stream",
     "name": "stdout",
     "output_type": "stream",
     "text": [
      "+----------+------------+-------------+----------------+----------+\n|        Id|ActivityDate|ActiveMinutes|  ActiveDistance|      Type|\n+----------+------------+-------------+----------------+----------+\n|1503960366|  2016-04-12|         25.0|1.87999999523163|VeryActive|\n|1503960366|  2016-04-13|         21.0|1.57000005245209|VeryActive|\n|1503960366|  2016-04-14|         30.0|2.44000005722046|VeryActive|\n|1503960366|  2016-04-15|         29.0|2.14000010490417|VeryActive|\n|1503960366|  2016-04-16|         36.0|2.71000003814697|VeryActive|\n+----------+------------+-------------+----------------+----------+\nonly showing top 5 rows\n\n"
     ]
    }
   ],
   "source": [
    "df_activity.show(5)"
   ]
  },
  {
   "cell_type": "code",
   "execution_count": 0,
   "metadata": {
    "application/vnd.databricks.v1+cell": {
     "cellMetadata": {
      "byteLimit": 2048000,
      "rowLimit": 10000
     },
     "inputWidgets": {},
     "nuid": "f05df06e-8852-4e46-bb01-56943592a290",
     "showTitle": false,
     "title": ""
    }
   },
   "outputs": [
    {
     "output_type": "stream",
     "name": "stdout",
     "output_type": "stream",
     "text": [
      "+----------+----------+-----------------+------------------+--------------+\n|        Id|  SleepDay|TotalSleepRecords|TotalMinutesAsleep|TotalTimeInBed|\n+----------+----------+-----------------+------------------+--------------+\n|1503960366|2016-04-12|              1.0|             327.0|         346.0|\n|1503960366|2016-04-13|              2.0|             384.0|         407.0|\n|1503960366|2016-04-15|              1.0|             412.0|         442.0|\n|1503960366|2016-04-16|              2.0|             340.0|         367.0|\n|1503960366|2016-04-17|              1.0|             700.0|         712.0|\n+----------+----------+-----------------+------------------+--------------+\nonly showing top 5 rows\n\n"
     ]
    }
   ],
   "source": [
    "df_sleepDay_merged.show(5)"
   ]
  },
  {
   "cell_type": "code",
   "execution_count": 0,
   "metadata": {
    "application/vnd.databricks.v1+cell": {
     "cellMetadata": {
      "byteLimit": 2048000,
      "rowLimit": 10000
     },
     "inputWidgets": {},
     "nuid": "b3ccd45b-2e8a-410c-b87e-36e544f02c81",
     "showTitle": false,
     "title": ""
    }
   },
   "outputs": [
    {
     "output_type": "stream",
     "name": "stdout",
     "output_type": "stream",
     "text": [
      "+----------+-----------------+-------------------+--------------------+--------+----------+----------------+------------+\n|        Id|VeryActiveMinutes|FairlyActiveMinutes|LightlyActiveMinutes|Calories|TotalSteps|   TotalDistance|day_Category|\n+----------+-----------------+-------------------+--------------------+--------+----------+----------------+------------+\n|1503960366|             25.0|               13.0|               328.0|  1985.0|   13162.0|             8.5|  VeryActive|\n|1503960366|             21.0|               19.0|               217.0|  1797.0|   10735.0|6.96999979019165|  VeryActive|\n|1503960366|             30.0|               11.0|               181.0|  1776.0|   10460.0|6.73999977111816|  VeryActive|\n|1503960366|             29.0|               34.0|               209.0|  1745.0|    9762.0|6.28000020980835|FairlyActive|\n|1503960366|             36.0|               10.0|               221.0|  1863.0|   12669.0|8.15999984741211|  VeryActive|\n+----------+-----------------+-------------------+--------------------+--------+----------+----------------+------------+\nonly showing top 5 rows\n\n"
     ]
    }
   ],
   "source": [
    "df_users.show(5)"
   ]
  },
  {
   "cell_type": "code",
   "execution_count": 0,
   "metadata": {
    "application/vnd.databricks.v1+cell": {
     "cellMetadata": {
      "byteLimit": 2048000,
      "rowLimit": 10000
     },
     "inputWidgets": {},
     "nuid": "ba18ddf7-9c64-4bce-b3bb-d8cdfbca7bee",
     "showTitle": false,
     "title": ""
    }
   },
   "outputs": [],
   "source": [
    "df_heartrate_seconds_merged = df_heartrate_seconds_merged.withColumn(\n",
    "    \"Time\",\n",
    "    to_date(\"Time\", \"M/d/y\")\n",
    ")"
   ]
  },
  {
   "cell_type": "code",
   "execution_count": 0,
   "metadata": {
    "application/vnd.databricks.v1+cell": {
     "cellMetadata": {
      "byteLimit": 2048000,
      "rowLimit": 10000
     },
     "inputWidgets": {},
     "nuid": "fa7b74d3-cdfb-4709-95f9-630b1c5f2de9",
     "showTitle": false,
     "title": ""
    }
   },
   "outputs": [
    {
     "output_type": "execute_result",
     "data": {
      "text/plain": [
       "14"
      ]
     },
     "execution_count": 134,
     "metadata": {},
     "output_type": "execute_result"
    }
   ],
   "source": [
    "df_heartrate_seconds_merged.select('Id').distinct().count()"
   ]
  },
  {
   "cell_type": "markdown",
   "metadata": {
    "application/vnd.databricks.v1+cell": {
     "cellMetadata": {
      "byteLimit": 2048000,
      "rowLimit": 10000
     },
     "inputWidgets": {},
     "nuid": "8a81aacf-d011-4d2f-895a-b1d8d93d5d50",
     "showTitle": false,
     "title": ""
    }
   },
   "source": [
    "df_heartrate_seconds_merged contains only 14 users. Im not sure if we should bring that data into any of the other df's"
   ]
  },
  {
   "cell_type": "code",
   "execution_count": 0,
   "metadata": {
    "application/vnd.databricks.v1+cell": {
     "cellMetadata": {
      "byteLimit": 2048000,
      "rowLimit": 10000
     },
     "inputWidgets": {},
     "nuid": "ba0e8d63-a8ff-4f24-810f-b3fda5c8bd11",
     "showTitle": false,
     "title": ""
    }
   },
   "outputs": [],
   "source": [
    "df_hr_agg_id_time = df_heartrate_seconds_merged.groupBy('Id','Time').agg(\n",
    "    functions.avg('Value').alias('Avg_HR'), \n",
    "    functions.max('Value').alias('Max_HR'), \n",
    "    functions.min('Value').alias('Min_HR')\n",
    "    )"
   ]
  },
  {
   "cell_type": "code",
   "execution_count": 0,
   "metadata": {
    "application/vnd.databricks.v1+cell": {
     "cellMetadata": {
      "byteLimit": 2048000,
      "rowLimit": 10000
     },
     "inputWidgets": {},
     "nuid": "f4d9aa60-8daa-41e7-8f23-072864705f42",
     "showTitle": false,
     "title": ""
    }
   },
   "outputs": [],
   "source": [
    "display(df_hr_agg_id_time)"
   ]
  },
  {
   "cell_type": "code",
   "execution_count": 0,
   "metadata": {
    "application/vnd.databricks.v1+cell": {
     "cellMetadata": {
      "byteLimit": 2048000,
      "rowLimit": 10000
     },
     "inputWidgets": {},
     "nuid": "5c6519ba-ed3b-4588-b219-2a7b1b466232",
     "showTitle": false,
     "title": ""
    }
   },
   "outputs": [
    {
     "output_type": "stream",
     "name": "stdout",
     "output_type": "stream",
     "text": [
      "+----------+------------+-----+\n|        Id|day_Category|count|\n+----------+------------+-----+\n|1503960366|  VeryActive|   27|\n|1503960366|FairlyActive|    3|\n|1644430081|FairlyActive|   14|\n|1644430081|  VeryActive|    7|\n|1644430081| LightActive|    9|\n+----------+------------+-----+\nonly showing top 5 rows\n\n"
     ]
    }
   ],
   "source": [
    "df_users_agg = df_users.groupBy('Id','day_Category').count().sort(functions.asc('Id'))\n",
    "df_users_agg.show(5)\n"
   ]
  },
  {
   "cell_type": "markdown",
   "metadata": {
    "application/vnd.databricks.v1+cell": {
     "cellMetadata": {
      "byteLimit": 2048000,
      "rowLimit": 10000
     },
     "inputWidgets": {},
     "nuid": "2bc5d782-8c7b-43cd-9f9d-20f304971ca3",
     "showTitle": false,
     "title": ""
    }
   },
   "source": [
    "Lets create a classification for each user"
   ]
  },
  {
   "cell_type": "code",
   "execution_count": 0,
   "metadata": {
    "application/vnd.databricks.v1+cell": {
     "cellMetadata": {
      "byteLimit": 2048000,
      "rowLimit": 10000
     },
     "inputWidgets": {},
     "nuid": "bc457f57-6dc9-40d0-b7a6-5d31863a7956",
     "showTitle": false,
     "title": ""
    }
   },
   "outputs": [],
   "source": []
  },
  {
   "cell_type": "code",
   "execution_count": 0,
   "metadata": {
    "application/vnd.databricks.v1+cell": {
     "cellMetadata": {
      "byteLimit": 2048000,
      "rowLimit": 10000
     },
     "inputWidgets": {},
     "nuid": "df091c06-dac9-4910-8cfd-816d22f6b64b",
     "showTitle": false,
     "title": ""
    }
   },
   "outputs": [],
   "source": [
    "df_main = df_dailyActivity_merged.groupBy('Id').agg(\n",
    "        functions.avg('VeryActiveMinutes').alias('avg_VeryActiveMinutes'),\n",
    "        functions.avg('FairlyActiveMinutes').alias('avg_FairlyActiveMinutes'),\n",
    "        functions.avg('LightlyActiveMinutes').alias('avg_LightlyActiveMinutes')\n",
    "    )"
   ]
  },
  {
   "cell_type": "code",
   "execution_count": 0,
   "metadata": {
    "application/vnd.databricks.v1+cell": {
     "cellMetadata": {
      "byteLimit": 2048000,
      "rowLimit": 10000
     },
     "inputWidgets": {},
     "nuid": "d5d7e0c8-e48b-4b4a-b280-923b924b00a2",
     "showTitle": false,
     "title": ""
    }
   },
   "outputs": [],
   "source": [
    "df_summary_activity =  df_activity.groupBy('Type').agg(functions.avg('ActiveMinutes').alias('avg_ActiveMinutes'))\n",
    "\n",
    "avg_very = df_summary_activity.filter(\"Type == 'VeryActive'\").select('avg_ActiveMinutes').collect()[0][0]\n",
    "avg_vairly = df_summary_activity.filter(\"Type == 'Fairly'\").select('avg_ActiveMinutes').collect()[0][0]\n",
    "avg_light = df_summary_activity.filter(\"Type == 'Light'\").select('avg_ActiveMinutes').collect()[0][0]"
   ]
  },
  {
   "cell_type": "code",
   "execution_count": 0,
   "metadata": {
    "application/vnd.databricks.v1+cell": {
     "cellMetadata": {
      "byteLimit": 2048000,
      "rowLimit": 10000
     },
     "inputWidgets": {},
     "nuid": "128006ab-7900-459c-8c51-f875962aa4d4",
     "showTitle": false,
     "title": ""
    }
   },
   "outputs": [
    {
     "output_type": "execute_result",
     "data": {
      "text/plain": [
       "37.8391959798995"
      ]
     },
     "execution_count": 141,
     "metadata": {},
     "output_type": "execute_result"
    }
   ],
   "source": [
    "avg_very"
   ]
  },
  {
   "cell_type": "code",
   "execution_count": 0,
   "metadata": {
    "application/vnd.databricks.v1+cell": {
     "cellMetadata": {
      "byteLimit": 2048000,
      "rowLimit": 10000
     },
     "inputWidgets": {},
     "nuid": "512d6915-3187-4267-86a2-acc133355a32",
     "showTitle": false,
     "title": ""
    }
   },
   "outputs": [
    {
     "output_type": "execute_result",
     "data": {
      "text/plain": [
       "24.660287081339714"
      ]
     },
     "execution_count": 142,
     "metadata": {},
     "output_type": "execute_result"
    }
   ],
   "source": [
    "avg_vairly"
   ]
  },
  {
   "cell_type": "code",
   "execution_count": 0,
   "metadata": {
    "application/vnd.databricks.v1+cell": {
     "cellMetadata": {
      "byteLimit": 2048000,
      "rowLimit": 10000
     },
     "inputWidgets": {},
     "nuid": "080f3cdf-d0b4-474f-81ad-d68833d32da8",
     "showTitle": false,
     "title": ""
    }
   },
   "outputs": [
    {
     "output_type": "execute_result",
     "data": {
      "text/plain": [
       "205.3135725429017"
      ]
     },
     "execution_count": 143,
     "metadata": {},
     "output_type": "execute_result"
    }
   ],
   "source": [
    "avg_light"
   ]
  },
  {
   "cell_type": "code",
   "execution_count": 0,
   "metadata": {
    "application/vnd.databricks.v1+cell": {
     "cellMetadata": {
      "byteLimit": 2048000,
      "rowLimit": 10000
     },
     "inputWidgets": {},
     "nuid": "3567089b-fb27-4d9b-917e-76072c447ced",
     "showTitle": false,
     "title": ""
    }
   },
   "outputs": [],
   "source": [
    "def _classify(x_m,y_m,z_m):\n",
    "\n",
    "    if x_m > 21.151685393258425:\n",
    "        return \"veryActive\" \n",
    "    if y_m > 14.487359550561798:\n",
    "        return \"fairlyActive\"\n",
    "    if z_m > 184.84129213483146 :\n",
    "        return \"lightActive\"\n",
    "    \n",
    "    return \"lightActive\"\n",
    "\n",
    "_classify= udf(_classify,StringType())"
   ]
  },
  {
   "cell_type": "code",
   "execution_count": 0,
   "metadata": {
    "application/vnd.databricks.v1+cell": {
     "cellMetadata": {
      "byteLimit": 2048000,
      "rowLimit": 10000
     },
     "inputWidgets": {},
     "nuid": "d5a96fdb-b70e-4048-a8f6-ef7d09f0ec50",
     "showTitle": false,
     "title": ""
    }
   },
   "outputs": [
    {
     "output_type": "display_data",
     "data": {
      "text/html": [
       "<style scoped>\n",
       "  .table-result-container {\n",
       "    max-height: 300px;\n",
       "    overflow: auto;\n",
       "  }\n",
       "  table, th, td {\n",
       "    border: 1px solid black;\n",
       "    border-collapse: collapse;\n",
       "  }\n",
       "  th, td {\n",
       "    padding: 5px;\n",
       "  }\n",
       "  th {\n",
       "    text-align: left;\n",
       "  }\n",
       "</style><div class='table-result-container'><table class='table-result'><thead style='background-color: white'><tr><th>Type</th><th>count</th></tr></thead><tbody><tr><td>veryActive</td><td>12</td></tr><tr><td>lightActive</td><td>15</td></tr><tr><td>fairlyActive</td><td>6</td></tr></tbody></table></div>"
      ]
     },
     "metadata": {
      "application/vnd.databricks.v1+output": {
       "addedWidgets": {},
       "aggData": [],
       "aggError": "",
       "aggOverflow": false,
       "aggSchema": [],
       "aggSeriesLimitReached": false,
       "aggType": "",
       "arguments": {},
       "columnCustomDisplayInfos": {},
       "data": [
        [
         "veryActive",
         12
        ],
        [
         "lightActive",
         15
        ],
        [
         "fairlyActive",
         6
        ]
       ],
       "datasetInfos": [],
       "dbfsResultPath": null,
       "isJsonSchema": true,
       "metadata": {},
       "overflow": false,
       "plotOptions": {
        "customPlotOptions": {},
        "displayType": "table",
        "pivotAggregation": null,
        "pivotColumns": null,
        "xColumns": null,
        "yColumns": null
       },
       "removedWidgets": [],
       "schema": [
        {
         "metadata": "{}",
         "name": "Type",
         "type": "\"string\""
        },
        {
         "metadata": "{}",
         "name": "count",
         "type": "\"long\""
        }
       ],
       "type": "table"
      }
     },
     "output_type": "display_data"
    }
   ],
   "source": [
    "display(\n",
    "    df_main.select('avg_VeryActiveMinutes','avg_FairlyActiveMinutes','avg_LightlyActiveMinutes',\\\n",
    "                   _classify('avg_VeryActiveMinutes','avg_FairlyActiveMinutes','avg_LightlyActiveMinutes')\n",
    "    ).withColumnRenamed('_classify(avg_VeryActiveMinutes, avg_FairlyActiveMinutes, avg_LightlyActiveMinutes)','Type')\\\n",
    "        .groupby('Type').count()\n",
    ")"
   ]
  },
  {
   "cell_type": "code",
   "execution_count": 0,
   "metadata": {
    "application/vnd.databricks.v1+cell": {
     "cellMetadata": {
      "byteLimit": 2048000,
      "rowLimit": 10000
     },
     "inputWidgets": {},
     "nuid": "b7e393a0-ed6c-4bf1-8750-77879202280a",
     "showTitle": false,
     "title": ""
    }
   },
   "outputs": [
    {
     "output_type": "stream",
     "name": "stdout",
     "output_type": "stream",
     "text": [
      "+----------+---------------------+-----------------------+------------------------+-----------+\n|        Id|avg_VeryActiveMinutes|avg_FairlyActiveMinutes|avg_LightlyActiveMinutes|  Type_user|\n+----------+---------------------+-----------------------+------------------------+-----------+\n|4388161847|   23.161290322580644|      20.35483870967742|       229.3548387096774| veryActive|\n|5553957443|   23.419354838709676|                   13.0|      206.19354838709677| veryActive|\n|2873212765|   14.096774193548388|      6.129032258064516|                   308.0|lightActive|\n|1503960366|                 40.0|                   19.8|      227.26666666666668| veryActive|\n|7007744171|    31.03846153846154|      16.26923076923077|       280.7307692307692| veryActive|\n+----------+---------------------+-----------------------+------------------------+-----------+\nonly showing top 5 rows\n\n"
     ]
    }
   ],
   "source": [
    "df_main = df_main.select('Id','avg_VeryActiveMinutes','avg_FairlyActiveMinutes','avg_LightlyActiveMinutes',\\\n",
    "                   _classify('avg_VeryActiveMinutes','avg_FairlyActiveMinutes','avg_LightlyActiveMinutes')\n",
    "    ).withColumnRenamed('_classify(avg_VeryActiveMinutes, avg_FairlyActiveMinutes, avg_LightlyActiveMinutes)','Type_user')\n",
    "\n",
    "df_main.show(5)\n"
   ]
  },
  {
   "cell_type": "code",
   "execution_count": 0,
   "metadata": {
    "application/vnd.databricks.v1+cell": {
     "cellMetadata": {
      "byteLimit": 2048000,
      "rowLimit": 10000
     },
     "inputWidgets": {},
     "nuid": "4b355bc7-e84f-4662-a6c8-c256e94703cb",
     "showTitle": false,
     "title": ""
    }
   },
   "outputs": [
    {
     "output_type": "stream",
     "name": "stdout",
     "output_type": "stream",
     "text": [
      "+------------+-----+\n|   Type_user|count|\n+------------+-----+\n|  veryActive|   12|\n| lightActive|   15|\n|fairlyActive|    6|\n+------------+-----+\n\n"
     ]
    }
   ],
   "source": [
    "df_main.groupBy('Type_user').count().show()"
   ]
  },
  {
   "cell_type": "code",
   "execution_count": 0,
   "metadata": {
    "application/vnd.databricks.v1+cell": {
     "cellMetadata": {
      "byteLimit": 2048000,
      "rowLimit": 10000
     },
     "inputWidgets": {},
     "nuid": "67595bbc-a84e-486b-a9ca-3ba257eeb5bd",
     "showTitle": false,
     "title": ""
    }
   },
   "outputs": [
    {
     "output_type": "execute_result",
     "data": {
      "text/plain": [
       "Column<'ActivityDate'>"
      ]
     },
     "execution_count": 148,
     "metadata": {},
     "output_type": "execute_result"
    }
   ],
   "source": [
    "df_activity.ActivityDate"
   ]
  },
  {
   "cell_type": "code",
   "execution_count": 0,
   "metadata": {
    "application/vnd.databricks.v1+cell": {
     "cellMetadata": {
      "byteLimit": 2048000,
      "rowLimit": 10000
     },
     "inputWidgets": {},
     "nuid": "37dcefae-196d-4f18-b4dc-4fa1fa97200b",
     "showTitle": false,
     "title": ""
    }
   },
   "outputs": [
    {
     "output_type": "stream",
     "name": "stdout",
     "output_type": "stream",
     "text": [
      "+----------+----------+----------+\n|      Type|       min|       max|\n+----------+----------+----------+\n|VeryActive|2016-04-12|2016-05-12|\n|    Fairly|2016-04-12|2016-05-12|\n|     Light|2016-04-12|2016-05-12|\n| Sedentary|2016-04-12|2016-05-12|\n|       Gym|2016-04-30|2016-05-12|\n+----------+----------+----------+\n\n"
     ]
    }
   ],
   "source": [
    "df_activity.groupby('Type')\\\n",
    "        .agg(\n",
    "            functions.min('ActivityDate').alias('min'),\n",
    "            functions.max('ActivityDate').alias('max')\n",
    "        ).show()\n",
    "        \n"
   ]
  },
  {
   "cell_type": "markdown",
   "metadata": {
    "application/vnd.databricks.v1+cell": {
     "cellMetadata": {
      "byteLimit": 2048000,
      "rowLimit": 10000
     },
     "inputWidgets": {},
     "nuid": "292612b7-d76c-4a06-901d-7a010527de19",
     "showTitle": false,
     "title": ""
    }
   },
   "source": [
    "## Ok now we can start telling the story"
   ]
  },
  {
   "cell_type": "code",
   "execution_count": 0,
   "metadata": {
    "application/vnd.databricks.v1+cell": {
     "cellMetadata": {
      "byteLimit": 2048000,
      "rowLimit": 10000
     },
     "inputWidgets": {},
     "nuid": "d3b8da01-bbbd-429a-8fba-deb56f9de4ea",
     "showTitle": false,
     "title": ""
    }
   },
   "outputs": [
    {
     "output_type": "stream",
     "name": "stdout",
     "output_type": "stream",
     "text": [
      "+----------+-----+\n|      Type|count|\n+----------+-----+\n|VeryActive|  398|\n|    Fairly|  418|\n|     Light|  641|\n| Sedentary|  630|\n|       Gym|   10|\n+----------+-----+\n\n"
     ]
    }
   ],
   "source": [
    "df_activity.groupBy('Type').count().show()"
   ]
  },
  {
   "cell_type": "code",
   "execution_count": 0,
   "metadata": {
    "application/vnd.databricks.v1+cell": {
     "cellMetadata": {
      "byteLimit": 2048000,
      "rowLimit": 10000
     },
     "inputWidgets": {},
     "nuid": "b7bbf2fe-df39-451a-9c82-11ded81b80f7",
     "showTitle": false,
     "title": ""
    }
   },
   "outputs": [],
   "source": [
    "y_1 = np.array(df_activity.filter('Type == \"VeryActive\" ').select('ActiveMinutes').rdd.flatMap(lambda x: x).collect())\n",
    "x_1 = np.array(df_activity.filter('Type == \"VeryActive\" ').select('ActiveDistance').rdd.flatMap(lambda x: x).collect())\n",
    "\n",
    "y_2 = np.array(df_activity.filter('Type == \"Fairly\" ').select('ActiveMinutes').rdd.flatMap(lambda x: x).collect())\n",
    "x_2 = np.array(df_activity.filter('Type == \"Fairly\" ').select('ActiveDistance').rdd.flatMap(lambda x: x).collect())\n",
    "\n",
    "y_3 = np.array(df_activity.filter('Type == \"Light\" ').select('ActiveMinutes').rdd.flatMap(lambda x: x).collect())\n",
    "x_3 = np.array(df_activity.filter('Type == \"Light\" ').select('ActiveDistance').rdd.flatMap(lambda x: x).collect())\n",
    "\n",
    "y = np.array(df_activity.filter('Type == \"Sedentary\" ').select('ActiveMinutes').rdd.flatMap(lambda x: x).collect())\n",
    "x = np.array(df_activity.filter('Type == \"Sedentary\" ').select('ActiveDistance').rdd.flatMap(lambda x: x).collect())\n",
    "\n",
    "y_4 = np.array(df_activity.filter('Type == \"Gym\" ').select('ActiveMinutes').rdd.flatMap(lambda x: x).collect())\n",
    "x_4 = np.array(df_activity.filter('Type == \"Gym\" ').select('ActiveDistance').rdd.flatMap(lambda x: x).collect())\n",
    "\n",
    "plt.scatter(x_3, y_3, c='yellow')\n",
    "plt.scatter(x_1, y_1, edgecolor='black')\n",
    "plt.scatter(x_2, y_2, c='green')\n",
    "plt.scatter(x, y, c='black')\n",
    "plt.scatter(x_4, y_4, c='purple')\n",
    "\n",
    "plt.xlabel('ActiveDistance')\n",
    "plt.ylabel('ActiveMinutes')\n",
    "plt.legend()\n",
    "\n",
    "plt.show()\n"
   ]
  },
  {
   "cell_type": "code",
   "execution_count": 0,
   "metadata": {
    "application/vnd.databricks.v1+cell": {
     "cellMetadata": {
      "byteLimit": 2048000,
      "rowLimit": 10000
     },
     "inputWidgets": {},
     "nuid": "c0090fe7-eea4-4585-8373-23f5abcff437",
     "showTitle": false,
     "title": ""
    }
   },
   "outputs": [
    {
     "output_type": "stream",
     "name": "stdout",
     "output_type": "stream",
     "text": [
      "+----------+------------+-------------+----------------+----------+\n|        Id|ActivityDate|ActiveMinutes|  ActiveDistance|      Type|\n+----------+------------+-------------+----------------+----------+\n|1503960366|  2016-04-12|         25.0|1.87999999523163|VeryActive|\n|1503960366|  2016-04-13|         21.0|1.57000005245209|VeryActive|\n|1503960366|  2016-04-14|         30.0|2.44000005722046|VeryActive|\n|1503960366|  2016-04-15|         29.0|2.14000010490417|VeryActive|\n|1503960366|  2016-04-16|         36.0|2.71000003814697|VeryActive|\n+----------+------------+-------------+----------------+----------+\nonly showing top 5 rows\n\n"
     ]
    }
   ],
   "source": [
    "df_activity.show(5)"
   ]
  },
  {
   "cell_type": "code",
   "execution_count": 0,
   "metadata": {
    "application/vnd.databricks.v1+cell": {
     "cellMetadata": {
      "byteLimit": 2048000,
      "rowLimit": 10000
     },
     "inputWidgets": {},
     "nuid": "c27414f9-7b6c-406b-8cb3-02b49167582c",
     "showTitle": false,
     "title": ""
    }
   },
   "outputs": [
    {
     "output_type": "stream",
     "name": "stdout",
     "output_type": "stream",
     "text": [
      "+----------+---------------------+-----------------------+------------------------+-----------+\n|        Id|avg_VeryActiveMinutes|avg_FairlyActiveMinutes|avg_LightlyActiveMinutes|  Type_user|\n+----------+---------------------+-----------------------+------------------------+-----------+\n|4388161847|   23.161290322580644|      20.35483870967742|       229.3548387096774| veryActive|\n|5553957443|   23.419354838709676|                   13.0|      206.19354838709677| veryActive|\n|2873212765|   14.096774193548388|      6.129032258064516|                   308.0|lightActive|\n|1503960366|                 40.0|                   19.8|      227.26666666666668| veryActive|\n|7007744171|    31.03846153846154|      16.26923076923077|       280.7307692307692| veryActive|\n+----------+---------------------+-----------------------+------------------------+-----------+\nonly showing top 5 rows\n\n"
     ]
    }
   ],
   "source": [
    "df_main.show(5)"
   ]
  },
  {
   "cell_type": "code",
   "execution_count": 0,
   "metadata": {
    "application/vnd.databricks.v1+cell": {
     "cellMetadata": {
      "byteLimit": 2048000,
      "rowLimit": 10000
     },
     "inputWidgets": {},
     "nuid": "9193ac3c-830c-4f2f-90f0-a962996fb101",
     "showTitle": false,
     "title": ""
    }
   },
   "outputs": [
    {
     "output_type": "display_data",
     "data": {
      "text/html": [
       "<style scoped>\n",
       "  .table-result-container {\n",
       "    max-height: 300px;\n",
       "    overflow: auto;\n",
       "  }\n",
       "  table, th, td {\n",
       "    border: 1px solid black;\n",
       "    border-collapse: collapse;\n",
       "  }\n",
       "  th, td {\n",
       "    padding: 5px;\n",
       "  }\n",
       "  th {\n",
       "    text-align: left;\n",
       "  }\n",
       "</style><div class='table-result-container'><table class='table-result'><thead style='background-color: white'><tr><th>Type</th><th>avg_ActiveMinutes</th><th>std_ActiveMinutes</th></tr></thead><tbody><tr><td>VeryActive</td><td>55.31718061674009</td><td>39.53989600500615</td></tr><tr><td>Fairly</td><td>21.489082969432314</td><td>14.593501123190402</td></tr><tr><td>Light</td><td>201.71052631578948</td><td>71.57544404797879</td></tr><tr><td>Sedentary</td><td>879.7280334728033</td><td>220.45519488167696</td></tr><tr><td>Gym</td><td>212.0</td><td>95.80187889597991</td></tr></tbody></table></div>"
      ]
     },
     "metadata": {
      "application/vnd.databricks.v1+output": {
       "addedWidgets": {},
       "aggData": [],
       "aggError": "",
       "aggOverflow": false,
       "aggSchema": [],
       "aggSeriesLimitReached": false,
       "aggType": "",
       "arguments": {},
       "columnCustomDisplayInfos": {},
       "data": [
        [
         "VeryActive",
         55.31718061674009,
         39.53989600500615
        ],
        [
         "Fairly",
         21.489082969432314,
         14.593501123190402
        ],
        [
         "Light",
         201.71052631578948,
         71.57544404797879
        ],
        [
         "Sedentary",
         879.7280334728033,
         220.45519488167696
        ],
        [
         "Gym",
         212.0,
         95.80187889597991
        ]
       ],
       "datasetInfos": [],
       "dbfsResultPath": null,
       "isJsonSchema": true,
       "metadata": {},
       "overflow": false,
       "plotOptions": {
        "customPlotOptions": {},
        "displayType": "table",
        "pivotAggregation": null,
        "pivotColumns": null,
        "xColumns": null,
        "yColumns": null
       },
       "removedWidgets": [],
       "schema": [
        {
         "metadata": "{}",
         "name": "Type",
         "type": "\"string\""
        },
        {
         "metadata": "{}",
         "name": "avg_ActiveMinutes",
         "type": "\"double\""
        },
        {
         "metadata": "{}",
         "name": "std_ActiveMinutes",
         "type": "\"double\""
        }
       ],
       "type": "table"
      }
     },
     "output_type": "display_data"
    }
   ],
   "source": [
    "display(\n",
    "df_activity.join(\n",
    "    df_main.filter('Type_user = \"veryActive\"'),\n",
    "    'Id'\n",
    "    ).groupBy('Type').agg(\n",
    "        functions.avg('ActiveMinutes').alias('avg_ActiveMinutes'),\n",
    "        functions.std('ActiveMinutes').alias('std_ActiveMinutes')\n",
    "    )\n",
    "\n",
    ")"
   ]
  },
  {
   "cell_type": "code",
   "execution_count": 0,
   "metadata": {
    "application/vnd.databricks.v1+cell": {
     "cellMetadata": {
      "byteLimit": 2048000,
      "rowLimit": 10000
     },
     "inputWidgets": {},
     "nuid": "2fb131aa-af13-492d-ad5c-7cfc86454a8f",
     "showTitle": false,
     "title": ""
    }
   },
   "outputs": [
    {
     "output_type": "stream",
     "name": "stdout",
     "output_type": "stream",
     "text": [
      "+-------+--------------------+------------------+\n|summary|                  Id|             Value|\n+-------+--------------------+------------------+\n|  count|             2483658|           2483658|\n|   mean| 5.513764629269958E9| 77.32842363964765|\n| stddev|1.9502237609635072E9|19.404499669443858|\n|    min|          2022484408|              36.0|\n|    max|          8877689391|             203.0|\n+-------+--------------------+------------------+\n\n"
     ]
    }
   ],
   "source": [
    "df_heartrate_seconds_merged.describe().show()"
   ]
  },
  {
   "cell_type": "code",
   "execution_count": 0,
   "metadata": {
    "application/vnd.databricks.v1+cell": {
     "cellMetadata": {
      "byteLimit": 2048000,
      "rowLimit": 10000
     },
     "inputWidgets": {},
     "nuid": "f4d0a8a1-f1d3-4e68-918c-c8161f7ff4e1",
     "showTitle": false,
     "title": ""
    }
   },
   "outputs": [],
   "source": [
    "\n",
    "x = df_heartrate_seconds_merged.join(\n",
    "    df_main.filter('Type_user = \"lightActive\"'),\n",
    "    'Id'\n",
    "    ).groupBy('Id','Time').agg(\n",
    "        functions.avg('Value').alias('avg_Value'),\n",
    "        functions.std('Value').alias('std_Value')\n",
    "    ).select('Id','Time','avg_Value','std_Value')\n",
    "\n",
    "\n",
    "y = df_users.withColumnRenamed('ActivityDate','Time')\n",
    "\n",
    "\n",
    "join_cond = [\n",
    "    y.Time == x.Time, \n",
    "    y.Id == x.Id]\n",
    "\n",
    "display(\n",
    "    x.join(y, ['Time' , 'Id'] ).sort(functions.asc('day_Category'))\n",
    "\n",
    ")"
   ]
  },
  {
   "cell_type": "code",
   "execution_count": 0,
   "metadata": {
    "application/vnd.databricks.v1+cell": {
     "cellMetadata": {
      "byteLimit": 2048000,
      "rowLimit": 10000
     },
     "inputWidgets": {},
     "nuid": "99aa217e-f579-4bed-965c-4229c6b29c08",
     "showTitle": false,
     "title": ""
    }
   },
   "outputs": [
    {
     "output_type": "display_data",
     "data": {
      "text/html": [
       "<style scoped>\n",
       "  .table-result-container {\n",
       "    max-height: 300px;\n",
       "    overflow: auto;\n",
       "  }\n",
       "  table, th, td {\n",
       "    border: 1px solid black;\n",
       "    border-collapse: collapse;\n",
       "  }\n",
       "  th, td {\n",
       "    padding: 5px;\n",
       "  }\n",
       "  th {\n",
       "    text-align: left;\n",
       "  }\n",
       "</style><div class='table-result-container'><table class='table-result'><thead style='background-color: white'><tr><th>Time</th><th>Id</th><th>avg_Value</th><th>std_Value</th><th>VeryActiveMinutes</th><th>FairlyActiveMinutes</th><th>LightlyActiveMinutes</th><th>Calories</th><th>TotalSteps</th><th>TotalDistance</th><th>day_Category</th></tr></thead><tbody><tr><td>2016-04-14</td><td>6775888955</td><td>79.26807673389081</td><td>15.151810199946667</td><td>14.0</td><td>24.0</td><td>105.0</td><td>2507.0</td><td>5162.0</td><td>3.70000004768372</td><td>fairlyActive</td></tr><tr><td>2016-04-15</td><td>2347167796</td><td>75.68525687977399</td><td>13.722963268782275</td><td>1.0</td><td>24.0</td><td>284.0</td><td>2133.0</td><td>10465.0</td><td>6.92000007629395</td><td>fairlyActive</td></tr><tr><td>2016-04-13</td><td>6775888955</td><td>82.71974376572867</td><td>16.012564332480675</td><td>17.0</td><td>18.0</td><td>85.0</td><td>2400.0</td><td>4053.0</td><td>2.91000008583069</td><td>fairlyActive</td></tr><tr><td>2016-04-24</td><td>6775888955</td><td>109.78962536023054</td><td>8.76963406597715</td><td>11.0</td><td>18.0</td><td>11.0</td><td>2053.0</td><td>2153.0</td><td>1.53999996185303</td><td>fairlyActive</td></tr><tr><td>2016-04-17</td><td>6775888955</td><td>102.36886993603412</td><td>6.890657849622816</td><td>5.0</td><td>24.0</td><td>19.0</td><td>2067.0</td><td>2497.0</td><td>1.78999996185303</td><td>fairlyActive</td></tr><tr><td>2016-04-20</td><td>2347167796</td><td>78.18208496366685</td><td>15.758510144349977</td><td>11.0</td><td>43.0</td><td>269.0</td><td>2198.0</td><td>10999.0</td><td>7.26999998092651</td><td>fairlyActive</td></tr><tr><td>2016-04-13</td><td>2347167796</td><td>73.81290461804058</td><td>13.014520601143056</td><td>19.0</td><td>32.0</td><td>195.0</td><td>2038.0</td><td>10352.0</td><td>7.01000022888184</td><td>fairlyActive</td></tr><tr><td>2016-04-14</td><td>2347167796</td><td>72.57948213700426</td><td>10.277766133677726</td><td>1.0</td><td>48.0</td><td>206.0</td><td>2010.0</td><td>10129.0</td><td>6.69999980926514</td><td>fairlyActive</td></tr><tr><td>2016-05-06</td><td>6775888955</td><td>98.85751072961374</td><td>12.125979150457706</td><td>12.0</td><td>35.0</td><td>75.0</td><td>2496.0</td><td>4697.0</td><td>3.36999988555908</td><td>fairlyActive</td></tr><tr><td>2016-05-01</td><td>6775888955</td><td>107.13917050691244</td><td>12.408706667349513</td><td>9.0</td><td>34.0</td><td>50.0</td><td>2319.0</td><td>2487.0</td><td>1.77999997138977</td><td>fairlyActive</td></tr><tr><td>2016-04-22</td><td>2347167796</td><td>71.99640209332752</td><td>11.746592344853816</td><td>9.0</td><td>27.0</td><td>206.0</td><td>1946.0</td><td>7804.0</td><td>5.15999984741211</td><td>fairlyActive</td></tr><tr><td>2016-04-18</td><td>2347167796</td><td>71.23214476924724</td><td>12.569569564902949</td><td>11.0</td><td>16.0</td><td>206.0</td><td>1944.0</td><td>8247.0</td><td>5.44999980926514</td><td>fairlyActive</td></tr><tr><td>2016-04-28</td><td>6775888955</td><td>104.70873786407768</td><td>18.933220512798577</td><td>2.0</td><td>13.0</td><td>15.0</td><td>1993.0</td><td>703.0</td><td>0.5</td><td>lightActive</td></tr><tr><td>2016-04-29</td><td>2347167796</td><td>62.86971235194586</td><td>4.291922330779086</td><td>0.0</td><td>0.0</td><td>4.0</td><td>403.0</td><td>42.0</td><td>0.0299999993294477</td><td>lightActive</td></tr><tr><td>2016-04-25</td><td>2347167796</td><td>73.86135600335852</td><td>12.902683977933032</td><td>15.0</td><td>11.0</td><td>277.0</td><td>2095.0</td><td>9482.0</td><td>6.38000011444092</td><td>lightActive</td></tr><tr><td>2016-05-07</td><td>6775888955</td><td>94.22182786157941</td><td>10.733512824050418</td><td>2.0</td><td>5.0</td><td>49.0</td><td>1032.0</td><td>1967.0</td><td>1.4099999666214</td><td>lightActive</td></tr><tr><td>2016-04-30</td><td>6775888955</td><td>96.10215350635008</td><td>9.991325010745392</td><td>3.0</td><td>9.0</td><td>84.0</td><td>2280.0</td><td>2503.0</td><td>1.78999996185303</td><td>lightActive</td></tr><tr><td>2016-04-28</td><td>2347167796</td><td>73.40854132002218</td><td>8.628068744476584</td><td>0.0</td><td>0.0</td><td>229.0</td><td>1854.0</td><td>5439.0</td><td>3.59999990463257</td><td>lightActive</td></tr><tr><td>2016-04-24</td><td>2347167796</td><td>77.57597373188406</td><td>12.725310686205724</td><td>0.0</td><td>0.0</td><td>360.0</td><td>2187.0</td><td>9471.0</td><td>6.26000022888184</td><td>lightActive</td></tr><tr><td>2016-04-22</td><td>6775888955</td><td>90.88823529411765</td><td>12.38203963130465</td><td>0.0</td><td>0.0</td><td>20.0</td><td>1922.0</td><td>637.0</td><td>0.46000000834465</td><td>lightActive</td></tr><tr><td>2016-04-26</td><td>2347167796</td><td>71.73179652000444</td><td>9.506563248577413</td><td>0.0</td><td>0.0</td><td>227.0</td><td>1861.0</td><td>5980.0</td><td>3.95000004768372</td><td>lightActive</td></tr><tr><td>2016-04-19</td><td>6775888955</td><td>99.46153846153847</td><td>43.709249153222274</td><td>0.0</td><td>0.0</td><td>0.0</td><td>1841.0</td><td>0.0</td><td>0.0</td><td>lightActive</td></tr><tr><td>2016-04-17</td><td>2347167796</td><td>75.36218020022247</td><td>9.51980178455105</td><td>1.0</td><td>7.0</td><td>249.0</td><td>1882.0</td><td>5472.0</td><td>3.61999988555908</td><td>lightActive</td></tr><tr><td>2016-04-15</td><td>6775888955</td><td>80.59450072358901</td><td>12.015538283945782</td><td>0.0</td><td>0.0</td><td>58.0</td><td>2127.0</td><td>1282.0</td><td>0.920000016689301</td><td>lightActive</td></tr><tr><td>2016-04-19</td><td>2347167796</td><td>81.30099693251533</td><td>18.328490084976544</td><td>0.0</td><td>7.0</td><td>382.0</td><td>2346.0</td><td>6711.0</td><td>4.44000005722046</td><td>lightActive</td></tr><tr><td>2016-04-29</td><td>6775888955</td><td>81.78947368421052</td><td>14.416730047523185</td><td>0.0</td><td>0.0</td><td>0.0</td><td>1841.0</td><td>0.0</td><td>0.0</td><td>lightActive</td></tr><tr><td>2016-04-20</td><td>6775888955</td><td>105.63590795169742</td><td>12.43662311702335</td><td>70.0</td><td>113.0</td><td>178.0</td><td>3727.0</td><td>10771.0</td><td>7.71999979019165</td><td>veryActive</td></tr><tr><td>2016-04-23</td><td>2347167796</td><td>83.43309231897726</td><td>18.443399481427733</td><td>32.0</td><td>35.0</td><td>360.0</td><td>2629.0</td><td>16901.0</td><td>11.3699998855591</td><td>veryActive</td></tr><tr><td>2016-04-26</td><td>6775888955</td><td>99.66020593579648</td><td>22.660663762109486</td><td>42.0</td><td>30.0</td><td>47.0</td><td>2584.0</td><td>7091.0</td><td>5.26999998092651</td><td>veryActive</td></tr><tr><td>2016-04-16</td><td>6775888955</td><td>108.616298811545</td><td>8.033865769545615</td><td>36.0</td><td>18.0</td><td>9.0</td><td>2225.0</td><td>4732.0</td><td>3.39000010490417</td><td>veryActive</td></tr><tr><td>2016-04-21</td><td>2347167796</td><td>73.41425341802132</td><td>13.50927183776035</td><td>23.0</td><td>26.0</td><td>208.0</td><td>2048.0</td><td>10080.0</td><td>6.75</td><td>veryActive</td></tr><tr><td>2016-04-27</td><td>2347167796</td><td>75.19362135263515</td><td>14.162094727549526</td><td>26.0</td><td>9.0</td><td>295.0</td><td>2194.0</td><td>11423.0</td><td>7.57999992370605</td><td>veryActive</td></tr><tr><td>2016-04-12</td><td>2347167796</td><td>86.08233377758033</td><td>16.843272448671108</td><td>28.0</td><td>13.0</td><td>320.0</td><td>2344.0</td><td>10113.0</td><td>6.82999992370605</td><td>veryActive</td></tr><tr><td>2016-04-16</td><td>2347167796</td><td>96.62390702822357</td><td>22.98409812124391</td><td>66.0</td><td>72.0</td><td>268.0</td><td>2670.0</td><td>22244.0</td><td>15.0799999237061</td><td>veryActive</td></tr><tr><td>2016-04-25</td><td>6775888955</td><td>94.66481994459834</td><td>15.33723307641898</td><td>33.0</td><td>13.0</td><td>92.0</td><td>2484.0</td><td>6474.0</td><td>4.6399998664856</td><td>veryActive</td></tr><tr><td>2016-04-18</td><td>6775888955</td><td>97.71949784229109</td><td>13.6032657358531</td><td>30.0</td><td>31.0</td><td>146.0</td><td>2798.0</td><td>8294.0</td><td>5.94999980926514</td><td>veryActive</td></tr></tbody></table></div>"
      ]
     },
     "metadata": {
      "application/vnd.databricks.v1+output": {
       "addedWidgets": {},
       "aggData": [],
       "aggError": "",
       "aggOverflow": false,
       "aggSchema": [],
       "aggSeriesLimitReached": false,
       "aggType": "",
       "arguments": {},
       "columnCustomDisplayInfos": {},
       "data": [
        [
         "2016-04-14",
         "6775888955",
         79.26807673389081,
         15.151810199946667,
         14.0,
         24.0,
         105.0,
         2507.0,
         5162.0,
         3.70000004768372,
         "fairlyActive"
        ],
        [
         "2016-04-15",
         "2347167796",
         75.68525687977399,
         13.722963268782275,
         1.0,
         24.0,
         284.0,
         2133.0,
         10465.0,
         6.92000007629395,
         "fairlyActive"
        ],
        [
         "2016-04-13",
         "6775888955",
         82.71974376572867,
         16.012564332480675,
         17.0,
         18.0,
         85.0,
         2400.0,
         4053.0,
         2.91000008583069,
         "fairlyActive"
        ],
        [
         "2016-04-24",
         "6775888955",
         109.78962536023054,
         8.76963406597715,
         11.0,
         18.0,
         11.0,
         2053.0,
         2153.0,
         1.53999996185303,
         "fairlyActive"
        ],
        [
         "2016-04-17",
         "6775888955",
         102.36886993603412,
         6.890657849622816,
         5.0,
         24.0,
         19.0,
         2067.0,
         2497.0,
         1.78999996185303,
         "fairlyActive"
        ],
        [
         "2016-04-20",
         "2347167796",
         78.18208496366685,
         15.758510144349977,
         11.0,
         43.0,
         269.0,
         2198.0,
         10999.0,
         7.26999998092651,
         "fairlyActive"
        ],
        [
         "2016-04-13",
         "2347167796",
         73.81290461804058,
         13.014520601143056,
         19.0,
         32.0,
         195.0,
         2038.0,
         10352.0,
         7.01000022888184,
         "fairlyActive"
        ],
        [
         "2016-04-14",
         "2347167796",
         72.57948213700426,
         10.277766133677726,
         1.0,
         48.0,
         206.0,
         2010.0,
         10129.0,
         6.69999980926514,
         "fairlyActive"
        ],
        [
         "2016-05-06",
         "6775888955",
         98.85751072961374,
         12.125979150457706,
         12.0,
         35.0,
         75.0,
         2496.0,
         4697.0,
         3.36999988555908,
         "fairlyActive"
        ],
        [
         "2016-05-01",
         "6775888955",
         107.13917050691244,
         12.408706667349513,
         9.0,
         34.0,
         50.0,
         2319.0,
         2487.0,
         1.77999997138977,
         "fairlyActive"
        ],
        [
         "2016-04-22",
         "2347167796",
         71.99640209332752,
         11.746592344853816,
         9.0,
         27.0,
         206.0,
         1946.0,
         7804.0,
         5.15999984741211,
         "fairlyActive"
        ],
        [
         "2016-04-18",
         "2347167796",
         71.23214476924724,
         12.569569564902949,
         11.0,
         16.0,
         206.0,
         1944.0,
         8247.0,
         5.44999980926514,
         "fairlyActive"
        ],
        [
         "2016-04-28",
         "6775888955",
         104.70873786407768,
         18.933220512798577,
         2.0,
         13.0,
         15.0,
         1993.0,
         703.0,
         0.5,
         "lightActive"
        ],
        [
         "2016-04-29",
         "2347167796",
         62.86971235194586,
         4.291922330779086,
         0.0,
         0.0,
         4.0,
         403.0,
         42.0,
         0.0299999993294477,
         "lightActive"
        ],
        [
         "2016-04-25",
         "2347167796",
         73.86135600335852,
         12.902683977933032,
         15.0,
         11.0,
         277.0,
         2095.0,
         9482.0,
         6.38000011444092,
         "lightActive"
        ],
        [
         "2016-05-07",
         "6775888955",
         94.22182786157941,
         10.733512824050418,
         2.0,
         5.0,
         49.0,
         1032.0,
         1967.0,
         1.4099999666214,
         "lightActive"
        ],
        [
         "2016-04-30",
         "6775888955",
         96.10215350635008,
         9.991325010745392,
         3.0,
         9.0,
         84.0,
         2280.0,
         2503.0,
         1.78999996185303,
         "lightActive"
        ],
        [
         "2016-04-28",
         "2347167796",
         73.40854132002218,
         8.628068744476584,
         0.0,
         0.0,
         229.0,
         1854.0,
         5439.0,
         3.59999990463257,
         "lightActive"
        ],
        [
         "2016-04-24",
         "2347167796",
         77.57597373188406,
         12.725310686205724,
         0.0,
         0.0,
         360.0,
         2187.0,
         9471.0,
         6.26000022888184,
         "lightActive"
        ],
        [
         "2016-04-22",
         "6775888955",
         90.88823529411765,
         12.38203963130465,
         0.0,
         0.0,
         20.0,
         1922.0,
         637.0,
         0.46000000834465,
         "lightActive"
        ],
        [
         "2016-04-26",
         "2347167796",
         71.73179652000444,
         9.506563248577413,
         0.0,
         0.0,
         227.0,
         1861.0,
         5980.0,
         3.95000004768372,
         "lightActive"
        ],
        [
         "2016-04-19",
         "6775888955",
         99.46153846153847,
         43.709249153222274,
         0.0,
         0.0,
         0.0,
         1841.0,
         0.0,
         0.0,
         "lightActive"
        ],
        [
         "2016-04-17",
         "2347167796",
         75.36218020022247,
         9.51980178455105,
         1.0,
         7.0,
         249.0,
         1882.0,
         5472.0,
         3.61999988555908,
         "lightActive"
        ],
        [
         "2016-04-15",
         "6775888955",
         80.59450072358901,
         12.015538283945782,
         0.0,
         0.0,
         58.0,
         2127.0,
         1282.0,
         0.920000016689301,
         "lightActive"
        ],
        [
         "2016-04-19",
         "2347167796",
         81.30099693251533,
         18.328490084976544,
         0.0,
         7.0,
         382.0,
         2346.0,
         6711.0,
         4.44000005722046,
         "lightActive"
        ],
        [
         "2016-04-29",
         "6775888955",
         81.78947368421052,
         14.416730047523185,
         0.0,
         0.0,
         0.0,
         1841.0,
         0.0,
         0.0,
         "lightActive"
        ],
        [
         "2016-04-20",
         "6775888955",
         105.63590795169742,
         12.43662311702335,
         70.0,
         113.0,
         178.0,
         3727.0,
         10771.0,
         7.71999979019165,
         "veryActive"
        ],
        [
         "2016-04-23",
         "2347167796",
         83.43309231897726,
         18.443399481427733,
         32.0,
         35.0,
         360.0,
         2629.0,
         16901.0,
         11.3699998855591,
         "veryActive"
        ],
        [
         "2016-04-26",
         "6775888955",
         99.66020593579648,
         22.660663762109486,
         42.0,
         30.0,
         47.0,
         2584.0,
         7091.0,
         5.26999998092651,
         "veryActive"
        ],
        [
         "2016-04-16",
         "6775888955",
         108.616298811545,
         8.033865769545615,
         36.0,
         18.0,
         9.0,
         2225.0,
         4732.0,
         3.39000010490417,
         "veryActive"
        ],
        [
         "2016-04-21",
         "2347167796",
         73.41425341802132,
         13.50927183776035,
         23.0,
         26.0,
         208.0,
         2048.0,
         10080.0,
         6.75,
         "veryActive"
        ],
        [
         "2016-04-27",
         "2347167796",
         75.19362135263515,
         14.162094727549526,
         26.0,
         9.0,
         295.0,
         2194.0,
         11423.0,
         7.57999992370605,
         "veryActive"
        ],
        [
         "2016-04-12",
         "2347167796",
         86.08233377758033,
         16.843272448671108,
         28.0,
         13.0,
         320.0,
         2344.0,
         10113.0,
         6.82999992370605,
         "veryActive"
        ],
        [
         "2016-04-16",
         "2347167796",
         96.62390702822357,
         22.98409812124391,
         66.0,
         72.0,
         268.0,
         2670.0,
         22244.0,
         15.0799999237061,
         "veryActive"
        ],
        [
         "2016-04-25",
         "6775888955",
         94.66481994459834,
         15.33723307641898,
         33.0,
         13.0,
         92.0,
         2484.0,
         6474.0,
         4.6399998664856,
         "veryActive"
        ],
        [
         "2016-04-18",
         "6775888955",
         97.71949784229109,
         13.6032657358531,
         30.0,
         31.0,
         146.0,
         2798.0,
         8294.0,
         5.94999980926514,
         "veryActive"
        ]
       ],
       "datasetInfos": [],
       "dbfsResultPath": null,
       "isJsonSchema": true,
       "metadata": {},
       "overflow": false,
       "plotOptions": {
        "customPlotOptions": {},
        "displayType": "table",
        "pivotAggregation": null,
        "pivotColumns": null,
        "xColumns": null,
        "yColumns": null
       },
       "removedWidgets": [],
       "schema": [
        {
         "metadata": "{}",
         "name": "Time",
         "type": "\"date\""
        },
        {
         "metadata": "{}",
         "name": "Id",
         "type": "\"string\""
        },
        {
         "metadata": "{}",
         "name": "avg_Value",
         "type": "\"double\""
        },
        {
         "metadata": "{}",
         "name": "std_Value",
         "type": "\"double\""
        },
        {
         "metadata": "{}",
         "name": "VeryActiveMinutes",
         "type": "\"double\""
        },
        {
         "metadata": "{}",
         "name": "FairlyActiveMinutes",
         "type": "\"double\""
        },
        {
         "metadata": "{}",
         "name": "LightlyActiveMinutes",
         "type": "\"double\""
        },
        {
         "metadata": "{}",
         "name": "Calories",
         "type": "\"double\""
        },
        {
         "metadata": "{}",
         "name": "TotalSteps",
         "type": "\"double\""
        },
        {
         "metadata": "{}",
         "name": "TotalDistance",
         "type": "\"double\""
        },
        {
         "metadata": "{}",
         "name": "day_Category",
         "type": "\"string\""
        }
       ],
       "type": "table"
      }
     },
     "output_type": "display_data"
    },
    {
     "output_type": "display_data",
     "data": {
      "text/plain": [
       "Databricks visualization. Run in Databricks to view."
      ]
     },
     "metadata": {
      "application/vnd.databricks.v1.subcommand+json": {
       "baseErrorDetails": null,
       "bindings": {},
       "collapsed": false,
       "command": "%python\n__backend_agg_display_orig = display\n__backend_agg_dfs = []\ndef __backend_agg_display_new(df):\n    __backend_agg_df_modules = [\"pandas.core.frame\", \"databricks.koalas.frame\", \"pyspark.sql.dataframe\", \"pyspark.pandas.frame\", \"pyspark.sql.connect.dataframe\"]\n    if (type(df).__module__ in __backend_agg_df_modules and type(df).__name__ == 'DataFrame') or isinstance(df, list):\n        __backend_agg_dfs.append(df)\n\ndisplay = __backend_agg_display_new\n\ndef __backend_agg_user_code_fn():\n    import base64\n    exec(base64.standard_b64decode(\"CnggPSBkZl9oZWFydHJhdGVfc2Vjb25kc19tZXJnZWQuam9pbigKICAgIGRmX21haW4uZmlsdGVyKCdUeXBlX3VzZXIgPSAiZmFpcmx5QWN0aXZlIicpLAogICAgJ0lkJwogICAgKS5ncm91cEJ5KCdJZCcsJ1RpbWUnKS5hZ2coCiAgICAgICAgZnVuY3Rpb25zLmF2ZygnVmFsdWUnKS5hbGlhcygnYXZnX1ZhbHVlJyksCiAgICAgICAgZnVuY3Rpb25zLnN0ZCgnVmFsdWUnKS5hbGlhcygnc3RkX1ZhbHVlJykKICAgICkuc2VsZWN0KCdJZCcsJ1RpbWUnLCdhdmdfVmFsdWUnLCdzdGRfVmFsdWUnKQoKCnkgPSBkZl91c2Vycy53aXRoQ29sdW1uUmVuYW1lZCgnQWN0aXZpdHlEYXRlJywnVGltZScpCgoKam9pbl9jb25kID0gWwogICAgeS5UaW1lID09IHguVGltZSwgCiAgICB5LklkID09IHguSWRdCgpkaXNwbGF5KAogICAgeC5qb2luKHksIFsnVGltZScgLCAnSWQnXSApLnNvcnQoZnVuY3Rpb25zLmFzYygnZGF5X0NhdGVnb3J5JykpCgop\").decode())\n\ntry:\n    # run user code\n    __backend_agg_user_code_fn()\n\n    #reset display function\n    display = __backend_agg_display_orig\n\n    if len(__backend_agg_dfs) > 0:\n        # create a temp view\n        if type(__backend_agg_dfs[0]).__module__ == \"databricks.koalas.frame\":\n            # koalas dataframe\n            __backend_agg_dfs[0].to_spark().createOrReplaceTempView(\"DatabricksView31baec7\")\n        elif type(__backend_agg_dfs[0]).__module__ == \"pandas.core.frame\" or isinstance(__backend_agg_dfs[0], list):\n            # pandas dataframe\n            spark.createDataFrame(__backend_agg_dfs[0]).createOrReplaceTempView(\"DatabricksView31baec7\")\n        else:\n            __backend_agg_dfs[0].createOrReplaceTempView(\"DatabricksView31baec7\")\n        #run backend agg\n        display(spark.sql(\"\"\"WITH q AS (select * from DatabricksView31baec7) SELECT `day_Category`,`avg_Value` FROM q\"\"\"))\n    else:\n        displayHTML(\"dataframe no longer exists. If you're using dataframe.display(), use display(dataframe) instead.\")\n\n\nfinally:\n    spark.sql(\"drop view if exists DatabricksView31baec7\")\n    display = __backend_agg_display_orig\n    del __backend_agg_display_new\n    del __backend_agg_display_orig\n    del __backend_agg_dfs\n    del __backend_agg_user_code_fn\n\n",
       "commandTitle": "Visualization 1",
       "commandType": "auto",
       "commandVersion": 0,
       "commentThread": [],
       "commentsVisible": false,
       "contentSha256Hex": null,
       "customPlotOptions": {
        "redashChart": [
         {
          "key": "type",
          "value": "CHART"
         },
         {
          "key": "options",
          "value": {
           "alignYAxesAtZero": true,
           "coefficient": 1,
           "columnConfigurationMap": {
            "x": {
             "column": "day_Category",
             "id": "column_6472a81550"
            },
            "y": [
             {
              "column": "avg_Value",
              "id": "column_6472a81551"
             }
            ]
           },
           "dateTimeFormat": "DD/MM/YYYY HH:mm",
           "direction": {
            "type": "counterclockwise"
           },
           "error_y": {
            "type": "data",
            "visible": true
           },
           "globalSeriesType": "box",
           "hideXAxis": false,
           "hideYAxes": false,
           "legend": {
            "traceorder": "normal"
           },
           "missingValuesAsZero": false,
           "numberFormat": "0,0.[00000]",
           "percentFormat": "0[.]00%",
           "reverseX": false,
           "series": {
            "error_y": {
             "type": "data",
             "visible": true
            },
            "stacking": null
           },
           "seriesOptions": {
            "avg_Value": {
             "type": "box",
             "yAxis": 0
            }
           },
           "showDataLabels": false,
           "sizemode": "diameter",
           "sortX": false,
           "sortY": true,
           "swappedAxes": false,
           "textFormat": "",
           "useAggregationsUi": true,
           "valuesOptions": {},
           "version": 2,
           "xAxis": {
            "labels": {
             "enabled": true
            },
            "type": "-"
           },
           "yAxis": [
            {
             "type": "-"
            },
            {
             "opposite": true,
             "type": "-"
            }
           ]
          }
         }
        ]
       },
       "datasetPreviewNameToCmdIdMap": {},
       "diffDeletes": [],
       "diffInserts": [],
       "displayType": "redashChart",
       "error": null,
       "errorDetails": null,
       "errorSummary": null,
       "errorTraceType": null,
       "finishTime": 0,
       "globalVars": {},
       "guid": "",
       "height": "auto",
       "hideCommandCode": false,
       "hideCommandResult": false,
       "iPythonMetadata": null,
       "inputWidgets": {},
       "isLockedInExamMode": false,
       "latestUser": "a user",
       "latestUserId": null,
       "listResultMetadata": null,
       "metadata": {},
       "nuid": "9df098b5-03f3-4343-8f04-f09505ebdcec",
       "origId": 0,
       "parentHierarchy": [],
       "pivotAggregation": null,
       "pivotColumns": null,
       "position": 33.859375,
       "resultDbfsErrorMessage": null,
       "resultDbfsStatus": "INLINED_IN_TREE",
       "results": null,
       "showCommandTitle": false,
       "startTime": 0,
       "state": "input",
       "streamStates": {},
       "subcommandOptions": {
        "queryPlan": {
         "selects": [
          {
           "column": "day_Category",
           "type": "column"
          },
          {
           "column": "avg_Value",
           "type": "column"
          }
         ]
        }
       },
       "submitTime": 0,
       "subtype": "tableResultSubCmd.visualization",
       "tableResultIndex": 0,
       "useConsistentColors": false,
       "version": "CommandV1",
       "width": "auto",
       "workflows": [],
       "xColumns": null,
       "yColumns": null
      }
     },
     "output_type": "display_data"
    }
   ],
   "source": [
    "\n",
    "x = df_heartrate_seconds_merged.join(\n",
    "    df_main.filter('Type_user = \"fairlyActive\"'),\n",
    "    'Id'\n",
    "    ).groupBy('Id','Time').agg(\n",
    "        functions.avg('Value').alias('avg_Value'),\n",
    "        functions.std('Value').alias('std_Value')\n",
    "    ).select('Id','Time','avg_Value','std_Value')\n",
    "\n",
    "\n",
    "y = df_users.withColumnRenamed('ActivityDate','Time')\n",
    "\n",
    "\n",
    "join_cond = [\n",
    "    y.Time == x.Time, \n",
    "    y.Id == x.Id]\n",
    "\n",
    "display(\n",
    "    x.join(y, ['Time' , 'Id'] ).sort(functions.asc('day_Category'))\n",
    "\n",
    ")"
   ]
  },
  {
   "cell_type": "code",
   "execution_count": 0,
   "metadata": {
    "application/vnd.databricks.v1+cell": {
     "cellMetadata": {
      "byteLimit": 2048000,
      "rowLimit": 10000
     },
     "inputWidgets": {},
     "nuid": "82cc2d37-c0e4-464c-9a95-fc0b566066ff",
     "showTitle": false,
     "title": ""
    }
   },
   "outputs": [],
   "source": [
    "\n",
    "x = df_heartrate_seconds_merged.join(\n",
    "    df_main.filter('Type_user = \"veryActive\"'),\n",
    "    'Id'\n",
    "    ).groupBy('Id','Time').agg(\n",
    "        functions.avg('Value').alias('avg_Value'),\n",
    "        functions.std('Value').alias('std_Value')\n",
    "    ).select('Id','Time','avg_Value','std_Value')\n",
    "\n",
    "\n",
    "y = df_users.withColumnRenamed('ActivityDate','Time')\n",
    "\n",
    "\n",
    "join_cond = [\n",
    "    y.Time == x.Time, \n",
    "    y.Id == x.Id]\n",
    "\n",
    "display(\n",
    "    x.join(y, ['Time' , 'Id'] ).sort(functions.asc('day_Category'))\n",
    "\n",
    ")"
   ]
  },
  {
   "cell_type": "code",
   "execution_count": 0,
   "metadata": {
    "application/vnd.databricks.v1+cell": {
     "cellMetadata": {
      "byteLimit": 2048000,
      "rowLimit": 10000
     },
     "inputWidgets": {},
     "nuid": "761db058-6d7c-490c-aac8-fd89d01e5731",
     "showTitle": false,
     "title": ""
    }
   },
   "outputs": [],
   "source": [
    "\n",
    "x_1= df_activity.join(\n",
    "    df_main.filter('Type_user = \"veryActive\"'),\n",
    "    'Id'\n",
    "    ).groupBy('Type').agg(\n",
    "        functions.avg('ActiveMinutes').alias('avg_ActiveMinutes'),\n",
    "        functions.std('ActiveMinutes').alias('std_ActiveMinutes')\n",
    "    ).filter(\"Type != 'Sedentary'\")\n",
    "\n",
    "y = np.array(\n",
    "    x_1\\\n",
    "    .select('avg_ActiveMinutes')\\\n",
    "    .rdd.flatMap(lambda x: x)\\\n",
    "    .collect()\n",
    ")\n",
    "\n",
    "\n",
    "x = np.array(\n",
    "    x_1\\\n",
    "    .select('Type')\\\n",
    "    .rdd.flatMap(lambda x: x)\\\n",
    "    .collect()\n",
    ")\n",
    "\n",
    "c = np.array(\n",
    "    x_1\\\n",
    "    .select('std_ActiveMinutes')\\\n",
    "    .rdd.flatMap(lambda x: x)\\\n",
    "    .collect()\n",
    ") \n",
    "\n",
    "plt.bar(x, y)\n",
    "plt.errorbar(x, y, yerr=c, fmt=\"o\", color=\"r\")\n",
    "\n",
    "\n",
    "plt.xlabel('ActiveDistance')\n",
    "plt.ylabel('ActiveMinutes')\n",
    "plt.ylim(0,400)\n",
    "\n",
    "plt.show()\n"
   ]
  },
  {
   "cell_type": "code",
   "execution_count": 0,
   "metadata": {
    "application/vnd.databricks.v1+cell": {
     "cellMetadata": {
      "byteLimit": 2048000,
      "rowLimit": 10000
     },
     "inputWidgets": {},
     "nuid": "29c00365-51f3-4611-8b28-d01c6fa1943f",
     "showTitle": false,
     "title": ""
    }
   },
   "outputs": [],
   "source": [
    "def _prct_veryactive(x):\n",
    "    return x / 12\n",
    "\n",
    "_prct_veryactive = udf(_prct_veryactive, DoubleType())\n",
    "\n",
    "def _prct_veryactive_2(x):\n",
    "    return x / 12\n",
    "\n",
    "_prct_veryactive_2 = udf(_prct_veryactive_2, DoubleType())"
   ]
  },
  {
   "cell_type": "code",
   "execution_count": 0,
   "metadata": {
    "application/vnd.databricks.v1+cell": {
     "cellMetadata": {
      "byteLimit": 2048000,
      "rowLimit": 10000
     },
     "inputWidgets": {},
     "nuid": "347032d0-b4e7-43f0-976a-d4b8f22cda20",
     "showTitle": false,
     "title": ""
    }
   },
   "outputs": [
    {
     "output_type": "display_data",
     "data": {
      "text/html": [
       "<style scoped>\n",
       "  .table-result-container {\n",
       "    max-height: 300px;\n",
       "    overflow: auto;\n",
       "  }\n",
       "  table, th, td {\n",
       "    border: 1px solid black;\n",
       "    border-collapse: collapse;\n",
       "  }\n",
       "  th, td {\n",
       "    padding: 5px;\n",
       "  }\n",
       "  th {\n",
       "    text-align: left;\n",
       "  }\n",
       "</style><div class='table-result-container'><table class='table-result'><thead style='background-color: white'><tr><th>Type</th><th>workout by person</th><th>Active Mins by person</th></tr></thead><tbody><tr><td>Sedentary</td><td>19.666666666666668</td><td>73.38735875706215</td></tr><tr><td>Gym</td><td>0.4166666666666667</td><td>17.666666666666668</td></tr></tbody></table></div>"
      ]
     },
     "metadata": {
      "application/vnd.databricks.v1+output": {
       "addedWidgets": {},
       "aggData": [],
       "aggError": "",
       "aggOverflow": false,
       "aggSchema": [],
       "aggSeriesLimitReached": false,
       "aggType": "",
       "arguments": {},
       "columnCustomDisplayInfos": {},
       "data": [
        [
         "Sedentary",
         19.666666666666668,
         73.38735875706215
        ],
        [
         "Gym",
         0.4166666666666667,
         17.666666666666668
        ]
       ],
       "datasetInfos": [],
       "dbfsResultPath": null,
       "isJsonSchema": true,
       "metadata": {},
       "overflow": false,
       "plotOptions": {
        "customPlotOptions": {},
        "displayType": "table",
        "pivotAggregation": null,
        "pivotColumns": null,
        "xColumns": null,
        "yColumns": null
       },
       "removedWidgets": [],
       "schema": [
        {
         "metadata": "{}",
         "name": "Type",
         "type": "\"string\""
        },
        {
         "metadata": "{}",
         "name": "workout by person",
         "type": "\"double\""
        },
        {
         "metadata": "{}",
         "name": "Active Mins by person",
         "type": "\"double\""
        }
       ],
       "type": "table"
      }
     },
     "output_type": "display_data"
    }
   ],
   "source": [
    "display( \n",
    "    \n",
    "    df_main.filter('Type_user = \"veryActive\"').join(\n",
    "        df_activity.filter(\"ActiveDistance == 0\"), 'Id').groupBy('Type').agg(\n",
    "        functions.avg('ActiveMinutes').alias('avg_active_minutes'),\n",
    "        functions.count('*').alias('count')\n",
    "    ).select('Type', _prct_veryactive('count'), _prct_veryactive_2('avg_active_minutes')\n",
    "             \n",
    "             ).withColumnRenamed('_prct_veryactive(count)', 'workout by person')\\\n",
    "                .withColumnRenamed('_prct_veryactive_2(avg_active_minutes)', 'Active Mins by person')\n",
    ")"
   ]
  },
  {
   "cell_type": "code",
   "execution_count": 0,
   "metadata": {
    "application/vnd.databricks.v1+cell": {
     "cellMetadata": {
      "byteLimit": 2048000,
      "rowLimit": 10000
     },
     "inputWidgets": {},
     "nuid": "43a20b70-db4e-4416-b04f-2f7f4582135a",
     "showTitle": false,
     "title": ""
    }
   },
   "outputs": [
    {
     "output_type": "display_data",
     "data": {
      "text/html": [
       "<style scoped>\n",
       "  .table-result-container {\n",
       "    max-height: 300px;\n",
       "    overflow: auto;\n",
       "  }\n",
       "  table, th, td {\n",
       "    border: 1px solid black;\n",
       "    border-collapse: collapse;\n",
       "  }\n",
       "  th, td {\n",
       "    padding: 5px;\n",
       "  }\n",
       "  th {\n",
       "    text-align: left;\n",
       "  }\n",
       "</style><div class='table-result-container'><table class='table-result'><thead style='background-color: white'><tr><th>Type</th><th>count</th><th>workout by person</th><th>Active Mins by person</th></tr></thead><tbody><tr><td>VeryActive</td><td>227</td><td>18.916666666666668</td><td>4.609765051395008</td></tr><tr><td>Fairly</td><td>229</td><td>19.083333333333332</td><td>1.7907569141193596</td></tr><tr><td>Light</td><td>266</td><td>22.166666666666668</td><td>16.80921052631579</td></tr><tr><td>Sedentary</td><td>3</td><td>0.25</td><td>67.27777777777779</td></tr></tbody></table></div>"
      ]
     },
     "metadata": {
      "application/vnd.databricks.v1+output": {
       "addedWidgets": {},
       "aggData": [],
       "aggError": "",
       "aggOverflow": false,
       "aggSchema": [],
       "aggSeriesLimitReached": false,
       "aggType": "",
       "arguments": {},
       "columnCustomDisplayInfos": {},
       "data": [
        [
         "VeryActive",
         227,
         18.916666666666668,
         4.609765051395008
        ],
        [
         "Fairly",
         229,
         19.083333333333332,
         1.7907569141193596
        ],
        [
         "Light",
         266,
         22.166666666666668,
         16.80921052631579
        ],
        [
         "Sedentary",
         3,
         0.25,
         67.27777777777779
        ]
       ],
       "datasetInfos": [],
       "dbfsResultPath": null,
       "isJsonSchema": true,
       "metadata": {},
       "overflow": false,
       "plotOptions": {
        "customPlotOptions": {},
        "displayType": "table",
        "pivotAggregation": null,
        "pivotColumns": null,
        "xColumns": null,
        "yColumns": null
       },
       "removedWidgets": [],
       "schema": [
        {
         "metadata": "{}",
         "name": "Type",
         "type": "\"string\""
        },
        {
         "metadata": "{}",
         "name": "count",
         "type": "\"long\""
        },
        {
         "metadata": "{}",
         "name": "workout by person",
         "type": "\"double\""
        },
        {
         "metadata": "{}",
         "name": "Active Mins by person",
         "type": "\"double\""
        }
       ],
       "type": "table"
      }
     },
     "output_type": "display_data"
    }
   ],
   "source": [
    "display( \n",
    "    \n",
    "    df_main.filter('Type_user = \"veryActive\"').join(\n",
    "        df_activity.filter(\"ActiveDistance > 0\"), 'Id').groupBy('Type').agg(\n",
    "        functions.avg('ActiveMinutes').alias('avg_active_minutes'),\n",
    "        functions.count('*').alias('count')\n",
    "    ).select('Type','count', _prct_veryactive('count'), _prct_veryactive_2('avg_active_minutes')\n",
    "             \n",
    "             ).withColumnRenamed('_prct_veryactive(count)', 'workout by person')\\\n",
    "                .withColumnRenamed('_prct_veryactive_2(avg_active_minutes)', 'Active Mins by person')\n",
    ")"
   ]
  },
  {
   "cell_type": "code",
   "execution_count": 0,
   "metadata": {
    "application/vnd.databricks.v1+cell": {
     "cellMetadata": {
      "byteLimit": 2048000,
      "rowLimit": 10000
     },
     "inputWidgets": {},
     "nuid": "99742dcd-5796-4a5e-b9fe-459f80e130aa",
     "showTitle": false,
     "title": ""
    }
   },
   "outputs": [],
   "source": [
    "\n",
    "x_1= df_activity.join(\n",
    "    df_main.filter('Type_user = \"fairlyActive\"'),\n",
    "    'Id'\n",
    "    ).groupBy('Type').agg(\n",
    "        functions.avg('ActiveMinutes').alias('avg_ActiveMinutes'),\n",
    "        functions.std('ActiveMinutes').alias('std_ActiveMinutes')\n",
    "    ).filter(\"Type != 'Sedentary'\")\n",
    "\n",
    "y = np.array(\n",
    "    x_1\\\n",
    "    .select('avg_ActiveMinutes')\\\n",
    "    .rdd.flatMap(lambda x: x)\\\n",
    "    .collect()\n",
    ")\n",
    "\n",
    "\n",
    "x = np.array(\n",
    "    x_1\\\n",
    "    .select('Type')\\\n",
    "    .rdd.flatMap(lambda x: x)\\\n",
    "    .collect()\n",
    ")\n",
    "\n",
    "\n",
    "plt.bar(x, y)\n",
    "#plt.errorbar(x, y, yerr=c, fmt=\"o\", color=\"r\")\n",
    "\n",
    "plt.xlabel('ActiveDistance')\n",
    "plt.ylabel('ActiveMinutes')\n",
    "plt.ylim(0,400)\n",
    "\n",
    "plt.show()\n"
   ]
  },
  {
   "cell_type": "code",
   "execution_count": 0,
   "metadata": {
    "application/vnd.databricks.v1+cell": {
     "cellMetadata": {
      "byteLimit": 2048000,
      "rowLimit": 10000
     },
     "inputWidgets": {},
     "nuid": "f05bae40-2679-44af-9c53-435faf086f01",
     "showTitle": false,
     "title": ""
    }
   },
   "outputs": [],
   "source": [
    "def _prct_fairlyActive(x):\n",
    "    return x / 5\n",
    "\n",
    "def _prct_fairlyActive_2(x):\n",
    "    return x / 5\n",
    "\n",
    "_prct_fairlyActive = udf(_prct_fairlyActive, DoubleType())\n",
    "_prct_fairlyActive_2 = udf(_prct_fairlyActive_2, DoubleType())"
   ]
  },
  {
   "cell_type": "code",
   "execution_count": 0,
   "metadata": {
    "application/vnd.databricks.v1+cell": {
     "cellMetadata": {
      "byteLimit": 2048000,
      "rowLimit": 10000
     },
     "inputWidgets": {},
     "nuid": "8f978a4f-bc17-412e-980e-47dd007ad9b5",
     "showTitle": false,
     "title": ""
    }
   },
   "outputs": [
    {
     "output_type": "display_data",
     "data": {
      "text/html": [
       "<style scoped>\n",
       "  .table-result-container {\n",
       "    max-height: 300px;\n",
       "    overflow: auto;\n",
       "  }\n",
       "  table, th, td {\n",
       "    border: 1px solid black;\n",
       "    border-collapse: collapse;\n",
       "  }\n",
       "  th, td {\n",
       "    padding: 5px;\n",
       "  }\n",
       "  th {\n",
       "    text-align: left;\n",
       "  }\n",
       "</style><div class='table-result-container'><table class='table-result'><thead style='background-color: white'><tr><th>Type</th><th>workout by person</th><th>Active Mins by person</th></tr></thead><tbody><tr><td>VeryActive</td><td>19.2</td><td>3.2125</td></tr><tr><td>Fairly</td><td>20.0</td><td>8.068000000000001</td></tr><tr><td>Light</td><td>25.0</td><td>37.6768</td></tr><tr><td>Sedentary</td><td>2.0</td><td>241.18</td></tr></tbody></table></div>"
      ]
     },
     "metadata": {
      "application/vnd.databricks.v1+output": {
       "addedWidgets": {},
       "aggData": [],
       "aggError": "",
       "aggOverflow": false,
       "aggSchema": [],
       "aggSeriesLimitReached": false,
       "aggType": "",
       "arguments": {},
       "columnCustomDisplayInfos": {},
       "data": [
        [
         "VeryActive",
         19.2,
         3.2125
        ],
        [
         "Fairly",
         20.0,
         8.068000000000001
        ],
        [
         "Light",
         25.0,
         37.6768
        ],
        [
         "Sedentary",
         2.0,
         241.18
        ]
       ],
       "datasetInfos": [],
       "dbfsResultPath": null,
       "isJsonSchema": true,
       "metadata": {},
       "overflow": false,
       "plotOptions": {
        "customPlotOptions": {},
        "displayType": "table",
        "pivotAggregation": null,
        "pivotColumns": null,
        "xColumns": null,
        "yColumns": null
       },
       "removedWidgets": [],
       "schema": [
        {
         "metadata": "{}",
         "name": "Type",
         "type": "\"string\""
        },
        {
         "metadata": "{}",
         "name": "workout by person",
         "type": "\"double\""
        },
        {
         "metadata": "{}",
         "name": "Active Mins by person",
         "type": "\"double\""
        }
       ],
       "type": "table"
      }
     },
     "output_type": "display_data"
    }
   ],
   "source": [
    "display( \n",
    "    \n",
    "    df_main.filter('Type_user = \"fairlyActive\"').join(\n",
    "        df_activity.filter(\"ActiveDistance > 0\"), 'Id').groupBy('Type').agg(\n",
    "        functions.avg('ActiveMinutes').alias('avg_active_minutes'),\n",
    "        functions.count('*').alias('count')\n",
    "    ).select('Type', _prct_fairlyActive('count'), _prct_fairlyActive_2('avg_active_minutes')\n",
    "             \n",
    "             ).withColumnRenamed('_prct_fairlyActive(count)', 'workout by person')\\\n",
    "                .withColumnRenamed('_prct_fairlyActive_2(avg_active_minutes)', 'Active Mins by person')\n",
    ")"
   ]
  },
  {
   "cell_type": "code",
   "execution_count": 0,
   "metadata": {
    "application/vnd.databricks.v1+cell": {
     "cellMetadata": {
      "byteLimit": 2048000,
      "rowLimit": 10000
     },
     "inputWidgets": {},
     "nuid": "d35e7044-b704-44ba-badf-1b5c1b150872",
     "showTitle": false,
     "title": ""
    }
   },
   "outputs": [
    {
     "output_type": "display_data",
     "data": {
      "text/html": [
       "<style scoped>\n",
       "  .table-result-container {\n",
       "    max-height: 300px;\n",
       "    overflow: auto;\n",
       "  }\n",
       "  table, th, td {\n",
       "    border: 1px solid black;\n",
       "    border-collapse: collapse;\n",
       "  }\n",
       "  th, td {\n",
       "    padding: 5px;\n",
       "  }\n",
       "  th {\n",
       "    text-align: left;\n",
       "  }\n",
       "</style><div class='table-result-container'><table class='table-result'><thead style='background-color: white'><tr><th>Type</th><th>workout by person</th><th>Active Mins by person</th></tr></thead><tbody><tr><td>Sedentary</td><td>22.6</td><td>190.59469026548672</td></tr><tr><td>Gym</td><td>0.2</td><td>48.2</td></tr></tbody></table></div>"
      ]
     },
     "metadata": {
      "application/vnd.databricks.v1+output": {
       "addedWidgets": {},
       "aggData": [],
       "aggError": "",
       "aggOverflow": false,
       "aggSchema": [],
       "aggSeriesLimitReached": false,
       "aggType": "",
       "arguments": {},
       "columnCustomDisplayInfos": {},
       "data": [
        [
         "Sedentary",
         22.6,
         190.59469026548672
        ],
        [
         "Gym",
         0.2,
         48.2
        ]
       ],
       "datasetInfos": [],
       "dbfsResultPath": null,
       "isJsonSchema": true,
       "metadata": {},
       "overflow": false,
       "plotOptions": {
        "customPlotOptions": {},
        "displayType": "table",
        "pivotAggregation": null,
        "pivotColumns": null,
        "xColumns": null,
        "yColumns": null
       },
       "removedWidgets": [],
       "schema": [
        {
         "metadata": "{}",
         "name": "Type",
         "type": "\"string\""
        },
        {
         "metadata": "{}",
         "name": "workout by person",
         "type": "\"double\""
        },
        {
         "metadata": "{}",
         "name": "Active Mins by person",
         "type": "\"double\""
        }
       ],
       "type": "table"
      }
     },
     "output_type": "display_data"
    }
   ],
   "source": [
    "display( \n",
    "    \n",
    "    df_main.filter('Type_user = \"fairlyActive\"').join(\n",
    "        df_activity.filter(\"ActiveDistance == 0\"), 'Id').groupBy('Type').agg(\n",
    "        functions.avg('ActiveMinutes').alias('avg_active_minutes'),\n",
    "        functions.count('*').alias('count')\n",
    "    ).select('Type', _prct_fairlyActive('count'), _prct_fairlyActive_2('avg_active_minutes')\n",
    "             \n",
    "             ).withColumnRenamed('_prct_fairlyActive(count)', 'workout by person')\\\n",
    "                .withColumnRenamed('_prct_fairlyActive_2(avg_active_minutes)', 'Active Mins by person')\n",
    ")"
   ]
  },
  {
   "cell_type": "code",
   "execution_count": 0,
   "metadata": {
    "application/vnd.databricks.v1+cell": {
     "cellMetadata": {
      "byteLimit": 2048000,
      "rowLimit": 10000
     },
     "inputWidgets": {},
     "nuid": "507c2771-287e-4a52-a137-e75da0e1d62f",
     "showTitle": false,
     "title": ""
    }
   },
   "outputs": [],
   "source": [
    "\n",
    "x_1= df_activity.join(\n",
    "    df_main.filter('Type_user = \"lightActive\"'),\n",
    "    'Id'\n",
    "    ).groupBy('Type').agg(\n",
    "        functions.avg('ActiveMinutes').alias('avg_ActiveMinutes'),\n",
    "        functions.std('ActiveMinutes').alias('std_ActiveMinutes')\n",
    "    ).filter(\"Type != 'Sedentary'\")\n",
    "\n",
    "y = np.array(\n",
    "    x_1\\\n",
    "    .select('avg_ActiveMinutes')\\\n",
    "    .rdd.flatMap(lambda x: x)\\\n",
    "    .collect()\n",
    ")\n",
    "\n",
    "\n",
    "x = np.array(\n",
    "    x_1\\\n",
    "    .select('Type')\\\n",
    "    .rdd.flatMap(lambda x: x)\\\n",
    "    .collect()\n",
    ")\n",
    "\n",
    "c = np.array(\n",
    "    x_1\\\n",
    "    .select('std_ActiveMinutes')\\\n",
    "    .rdd.flatMap(lambda x: x)\\\n",
    "    .collect()\n",
    ") \n",
    "\n",
    "plt.bar(x, y)\n",
    "plt.errorbar(x, y, yerr=c, fmt=\"o\", color=\"r\")\n",
    "\n",
    "\n",
    "plt.xlabel('ActiveDistance')\n",
    "plt.ylabel('ActiveMinutes')\n",
    "plt.ylim(0,400)\n",
    "plt.legend()\n",
    "\n",
    "plt.show()\n"
   ]
  },
  {
   "cell_type": "code",
   "execution_count": 0,
   "metadata": {
    "application/vnd.databricks.v1+cell": {
     "cellMetadata": {
      "byteLimit": 2048000,
      "rowLimit": 10000
     },
     "inputWidgets": {},
     "nuid": "140936bf-e0d5-434f-a50b-962566046b99",
     "showTitle": false,
     "title": ""
    }
   },
   "outputs": [],
   "source": [
    "def _prct_lightActive(x):\n",
    "    return x / 15\n",
    "\n",
    "def _prct_lightActive_2(x):\n",
    "    return x / 15\n",
    "\n",
    "_prct_lightActive = udf(_prct_lightActive, DoubleType())\n",
    "_prct_lightActive_2 = udf(_prct_lightActive_2, DoubleType())"
   ]
  },
  {
   "cell_type": "code",
   "execution_count": 0,
   "metadata": {
    "application/vnd.databricks.v1+cell": {
     "cellMetadata": {
      "byteLimit": 2048000,
      "rowLimit": 10000
     },
     "inputWidgets": {},
     "nuid": "7b1f4497-d0ea-4fd8-9744-95139963f36b",
     "showTitle": false,
     "title": ""
    }
   },
   "outputs": [
    {
     "output_type": "display_data",
     "data": {
      "text/html": [
       "<style scoped>\n",
       "  .table-result-container {\n",
       "    max-height: 300px;\n",
       "    overflow: auto;\n",
       "  }\n",
       "  table, th, td {\n",
       "    border: 1px solid black;\n",
       "    border-collapse: collapse;\n",
       "  }\n",
       "  th, td {\n",
       "    padding: 5px;\n",
       "  }\n",
       "  th {\n",
       "    text-align: left;\n",
       "  }\n",
       "</style><div class='table-result-container'><table class='table-result'><thead style='background-color: white'><tr><th>Type</th><th>workout by person</th><th>Active Mins by person</th></tr></thead><tbody><tr><td>Sedentary</td><td>17.6</td><td>73.09671717171717</td></tr><tr><td>Gym</td><td>0.26666666666666666</td><td>17.55</td></tr></tbody></table></div>"
      ]
     },
     "metadata": {
      "application/vnd.databricks.v1+output": {
       "addedWidgets": {},
       "aggData": [],
       "aggError": "",
       "aggOverflow": false,
       "aggSchema": [],
       "aggSeriesLimitReached": false,
       "aggType": "",
       "arguments": {},
       "columnCustomDisplayInfos": {},
       "data": [
        [
         "Sedentary",
         17.6,
         73.09671717171717
        ],
        [
         "Gym",
         0.26666666666666666,
         17.55
        ]
       ],
       "datasetInfos": [],
       "dbfsResultPath": null,
       "isJsonSchema": true,
       "metadata": {},
       "overflow": false,
       "plotOptions": {
        "customPlotOptions": {},
        "displayType": "table",
        "pivotAggregation": null,
        "pivotColumns": null,
        "xColumns": null,
        "yColumns": null
       },
       "removedWidgets": [],
       "schema": [
        {
         "metadata": "{}",
         "name": "Type",
         "type": "\"string\""
        },
        {
         "metadata": "{}",
         "name": "workout by person",
         "type": "\"double\""
        },
        {
         "metadata": "{}",
         "name": "Active Mins by person",
         "type": "\"double\""
        }
       ],
       "type": "table"
      }
     },
     "output_type": "display_data"
    }
   ],
   "source": [
    "display( \n",
    "    \n",
    "    df_main.filter('Type_user = \"lightActive\"').join(\n",
    "        df_activity.filter(\"ActiveDistance == 0\"), 'Id').groupBy('Type').agg(\n",
    "        functions.avg('ActiveMinutes').alias('avg_active_minutes'),\n",
    "        functions.count('*').alias('count')\n",
    "    ).select('Type', _prct_lightActive('count'), _prct_lightActive_2('avg_active_minutes')\n",
    "             \n",
    "             ).withColumnRenamed('_prct_lightActive(count)', 'workout by person')\\\n",
    "                .withColumnRenamed('_prct_lightActive_2(avg_active_minutes)', 'Active Mins by person')\n",
    ")"
   ]
  },
  {
   "cell_type": "code",
   "execution_count": 0,
   "metadata": {
    "application/vnd.databricks.v1+cell": {
     "cellMetadata": {
      "byteLimit": 2048000,
      "rowLimit": 10000
     },
     "inputWidgets": {},
     "nuid": "c730d199-8a20-4561-a40c-5eeb93578bf7",
     "showTitle": false,
     "title": ""
    }
   },
   "outputs": [
    {
     "output_type": "display_data",
     "data": {
      "text/html": [
       "<style scoped>\n",
       "  .table-result-container {\n",
       "    max-height: 300px;\n",
       "    overflow: auto;\n",
       "  }\n",
       "  table, th, td {\n",
       "    border: 1px solid black;\n",
       "    border-collapse: collapse;\n",
       "  }\n",
       "  th, td {\n",
       "    padding: 5px;\n",
       "  }\n",
       "  th {\n",
       "    text-align: left;\n",
       "  }\n",
       "</style><div class='table-result-container'><table class='table-result'><thead style='background-color: white'><tr><th>Type</th><th>workout by person</th><th>Active Mins by person</th></tr></thead><tbody><tr><td>VeryActive</td><td>5.0</td><td>0.8542222222222222</td></tr><tr><td>Fairly</td><td>5.933333333333334</td><td>1.0134831460674156</td></tr><tr><td>Light</td><td>16.666666666666668</td><td>14.507466666666666</td></tr><tr><td>Sedentary</td><td>0.26666666666666666</td><td>58.25</td></tr></tbody></table></div>"
      ]
     },
     "metadata": {
      "application/vnd.databricks.v1+output": {
       "addedWidgets": {},
       "aggData": [],
       "aggError": "",
       "aggOverflow": false,
       "aggSchema": [],
       "aggSeriesLimitReached": false,
       "aggType": "",
       "arguments": {},
       "columnCustomDisplayInfos": {},
       "data": [
        [
         "VeryActive",
         5.0,
         0.8542222222222222
        ],
        [
         "Fairly",
         5.933333333333334,
         1.0134831460674156
        ],
        [
         "Light",
         16.666666666666668,
         14.507466666666666
        ],
        [
         "Sedentary",
         0.26666666666666666,
         58.25
        ]
       ],
       "datasetInfos": [],
       "dbfsResultPath": null,
       "isJsonSchema": true,
       "metadata": {},
       "overflow": false,
       "plotOptions": {
        "customPlotOptions": {},
        "displayType": "table",
        "pivotAggregation": null,
        "pivotColumns": null,
        "xColumns": null,
        "yColumns": null
       },
       "removedWidgets": [],
       "schema": [
        {
         "metadata": "{}",
         "name": "Type",
         "type": "\"string\""
        },
        {
         "metadata": "{}",
         "name": "workout by person",
         "type": "\"double\""
        },
        {
         "metadata": "{}",
         "name": "Active Mins by person",
         "type": "\"double\""
        }
       ],
       "type": "table"
      }
     },
     "output_type": "display_data"
    }
   ],
   "source": [
    "display( \n",
    "    \n",
    "    df_main.filter('Type_user = \"lightActive\"').join(\n",
    "        df_activity.filter(\"ActiveDistance > 0\"), 'Id').groupBy('Type').agg(\n",
    "        functions.avg('ActiveMinutes').alias('avg_active_minutes'),\n",
    "        functions.count('*').alias('count')\n",
    "    ).select('Type', _prct_lightActive('count'), _prct_lightActive_2('avg_active_minutes')\n",
    "             \n",
    "             ).withColumnRenamed('_prct_lightActive(count)', 'workout by person')\\\n",
    "                .withColumnRenamed('_prct_lightActive_2(avg_active_minutes)', 'Active Mins by person')\n",
    ")"
   ]
  },
  {
   "cell_type": "markdown",
   "metadata": {
    "application/vnd.databricks.v1+cell": {
     "cellMetadata": {},
     "inputWidgets": {},
     "nuid": "2333a86b-159b-41e7-8932-15354cb8667b",
     "showTitle": false,
     "title": ""
    }
   },
   "source": [
    "Lets create an additional views relating Hearthrate and sleep"
   ]
  },
  {
   "cell_type": "code",
   "execution_count": 0,
   "metadata": {
    "application/vnd.databricks.v1+cell": {
     "cellMetadata": {
      "byteLimit": 2048000,
      "rowLimit": 10000
     },
     "inputWidgets": {},
     "nuid": "0f399d00-047a-4f6c-b5c6-2966d55f49c2",
     "showTitle": false,
     "title": ""
    }
   },
   "outputs": [
    {
     "output_type": "display_data",
     "data": {
      "text/plain": [
       "\u001B[0;31m---------------------------------------------------------------------------\u001B[0m\n",
       "\u001B[0;31mNameError\u001B[0m                                 Traceback (most recent call last)\n",
       "File \u001B[0;32m<command-581308150446167>, line 3\u001B[0m\n",
       "\u001B[1;32m      1\u001B[0m display( \n",
       "\u001B[1;32m      2\u001B[0m     \n",
       "\u001B[0;32m----> 3\u001B[0m     \u001B[43mdf_main\u001B[49m\u001B[38;5;241m.\u001B[39mfilter(\u001B[38;5;124m'\u001B[39m\u001B[38;5;124mType_user = \u001B[39m\u001B[38;5;124m\"\u001B[39m\u001B[38;5;124mlightActive\u001B[39m\u001B[38;5;124m\"\u001B[39m\u001B[38;5;124m'\u001B[39m)\u001B[38;5;241m.\u001B[39mjoin(\n",
       "\u001B[1;32m      4\u001B[0m         df_heartrate_seconds_merged, \u001B[38;5;124m'\u001B[39m\u001B[38;5;124mId\u001B[39m\u001B[38;5;124m'\u001B[39m)\u001B[38;5;241m.\u001B[39mdescribe()\u001B[38;5;241m.\u001B[39mselect(\u001B[38;5;124m'\u001B[39m\u001B[38;5;124mSummary\u001B[39m\u001B[38;5;124m'\u001B[39m,\u001B[38;5;124m'\u001B[39m\u001B[38;5;124mValue\u001B[39m\u001B[38;5;124m'\u001B[39m)\u001B[38;5;241m.\u001B[39mwithColumnRenamed(\u001B[38;5;124m'\u001B[39m\u001B[38;5;124mValue\u001B[39m\u001B[38;5;124m'\u001B[39m,\u001B[38;5;124m'\u001B[39m\u001B[38;5;124mlightActive\u001B[39m\u001B[38;5;124m'\u001B[39m)\u001B[38;5;241m.\u001B[39mjoin(\n",
       "\u001B[1;32m      5\u001B[0m             df_main\u001B[38;5;241m.\u001B[39mfilter(\u001B[38;5;124m'\u001B[39m\u001B[38;5;124mType_user = \u001B[39m\u001B[38;5;124m\"\u001B[39m\u001B[38;5;124mfairlyActive\u001B[39m\u001B[38;5;124m\"\u001B[39m\u001B[38;5;124m'\u001B[39m)\u001B[38;5;241m.\u001B[39mjoin(\n",
       "\u001B[1;32m      6\u001B[0m                 df_heartrate_seconds_merged, \u001B[38;5;124m'\u001B[39m\u001B[38;5;124mId\u001B[39m\u001B[38;5;124m'\u001B[39m)\u001B[38;5;241m.\u001B[39mdescribe()\u001B[38;5;241m.\u001B[39mselect(\u001B[38;5;124m'\u001B[39m\u001B[38;5;124mSummary\u001B[39m\u001B[38;5;124m'\u001B[39m,\u001B[38;5;124m'\u001B[39m\u001B[38;5;124mValue\u001B[39m\u001B[38;5;124m'\u001B[39m)\u001B[38;5;241m.\u001B[39mwithColumnRenamed(\u001B[38;5;124m'\u001B[39m\u001B[38;5;124mValue\u001B[39m\u001B[38;5;124m'\u001B[39m,\u001B[38;5;124m'\u001B[39m\u001B[38;5;124mfairlyActive\u001B[39m\u001B[38;5;124m'\u001B[39m)\u001B[38;5;241m.\u001B[39mjoin(\n",
       "\u001B[1;32m      7\u001B[0m                     df_main\u001B[38;5;241m.\u001B[39mfilter(\u001B[38;5;124m'\u001B[39m\u001B[38;5;124mType_user = \u001B[39m\u001B[38;5;124m\"\u001B[39m\u001B[38;5;124mveryActive\u001B[39m\u001B[38;5;124m\"\u001B[39m\u001B[38;5;124m'\u001B[39m)\u001B[38;5;241m.\u001B[39mjoin(\n",
       "\u001B[1;32m      8\u001B[0m                         df_heartrate_seconds_merged, \u001B[38;5;124m'\u001B[39m\u001B[38;5;124mId\u001B[39m\u001B[38;5;124m'\u001B[39m)\u001B[38;5;241m.\u001B[39mdescribe()\u001B[38;5;241m.\u001B[39mselect(\u001B[38;5;124m'\u001B[39m\u001B[38;5;124mSummary\u001B[39m\u001B[38;5;124m'\u001B[39m,\u001B[38;5;124m'\u001B[39m\u001B[38;5;124mValue\u001B[39m\u001B[38;5;124m'\u001B[39m)\u001B[38;5;241m.\u001B[39mwithColumnRenamed(\u001B[38;5;124m'\u001B[39m\u001B[38;5;124mValue\u001B[39m\u001B[38;5;124m'\u001B[39m,\u001B[38;5;124m'\u001B[39m\u001B[38;5;124mveryActive\u001B[39m\u001B[38;5;124m'\u001B[39m),\u001B[38;5;124m\"\u001B[39m\u001B[38;5;124mSummary\u001B[39m\u001B[38;5;124m\"\u001B[39m\n",
       "\u001B[1;32m      9\u001B[0m         ),\u001B[38;5;124m\"\u001B[39m\u001B[38;5;124mSummary\u001B[39m\u001B[38;5;124m\"\u001B[39m\n",
       "\u001B[1;32m     10\u001B[0m     )\n",
       "\u001B[1;32m     11\u001B[0m )\n",
       "\n",
       "\u001B[0;31mNameError\u001B[0m: name 'df_main' is not defined"
      ]
     },
     "metadata": {
      "application/vnd.databricks.v1+output": {
       "arguments": {},
       "data": "\u001B[0;31m---------------------------------------------------------------------------\u001B[0m\n\u001B[0;31mNameError\u001B[0m                                 Traceback (most recent call last)\nFile \u001B[0;32m<command-581308150446167>, line 3\u001B[0m\n\u001B[1;32m      1\u001B[0m display( \n\u001B[1;32m      2\u001B[0m     \n\u001B[0;32m----> 3\u001B[0m     \u001B[43mdf_main\u001B[49m\u001B[38;5;241m.\u001B[39mfilter(\u001B[38;5;124m'\u001B[39m\u001B[38;5;124mType_user = \u001B[39m\u001B[38;5;124m\"\u001B[39m\u001B[38;5;124mlightActive\u001B[39m\u001B[38;5;124m\"\u001B[39m\u001B[38;5;124m'\u001B[39m)\u001B[38;5;241m.\u001B[39mjoin(\n\u001B[1;32m      4\u001B[0m         df_heartrate_seconds_merged, \u001B[38;5;124m'\u001B[39m\u001B[38;5;124mId\u001B[39m\u001B[38;5;124m'\u001B[39m)\u001B[38;5;241m.\u001B[39mdescribe()\u001B[38;5;241m.\u001B[39mselect(\u001B[38;5;124m'\u001B[39m\u001B[38;5;124mSummary\u001B[39m\u001B[38;5;124m'\u001B[39m,\u001B[38;5;124m'\u001B[39m\u001B[38;5;124mValue\u001B[39m\u001B[38;5;124m'\u001B[39m)\u001B[38;5;241m.\u001B[39mwithColumnRenamed(\u001B[38;5;124m'\u001B[39m\u001B[38;5;124mValue\u001B[39m\u001B[38;5;124m'\u001B[39m,\u001B[38;5;124m'\u001B[39m\u001B[38;5;124mlightActive\u001B[39m\u001B[38;5;124m'\u001B[39m)\u001B[38;5;241m.\u001B[39mjoin(\n\u001B[1;32m      5\u001B[0m             df_main\u001B[38;5;241m.\u001B[39mfilter(\u001B[38;5;124m'\u001B[39m\u001B[38;5;124mType_user = \u001B[39m\u001B[38;5;124m\"\u001B[39m\u001B[38;5;124mfairlyActive\u001B[39m\u001B[38;5;124m\"\u001B[39m\u001B[38;5;124m'\u001B[39m)\u001B[38;5;241m.\u001B[39mjoin(\n\u001B[1;32m      6\u001B[0m                 df_heartrate_seconds_merged, \u001B[38;5;124m'\u001B[39m\u001B[38;5;124mId\u001B[39m\u001B[38;5;124m'\u001B[39m)\u001B[38;5;241m.\u001B[39mdescribe()\u001B[38;5;241m.\u001B[39mselect(\u001B[38;5;124m'\u001B[39m\u001B[38;5;124mSummary\u001B[39m\u001B[38;5;124m'\u001B[39m,\u001B[38;5;124m'\u001B[39m\u001B[38;5;124mValue\u001B[39m\u001B[38;5;124m'\u001B[39m)\u001B[38;5;241m.\u001B[39mwithColumnRenamed(\u001B[38;5;124m'\u001B[39m\u001B[38;5;124mValue\u001B[39m\u001B[38;5;124m'\u001B[39m,\u001B[38;5;124m'\u001B[39m\u001B[38;5;124mfairlyActive\u001B[39m\u001B[38;5;124m'\u001B[39m)\u001B[38;5;241m.\u001B[39mjoin(\n\u001B[1;32m      7\u001B[0m                     df_main\u001B[38;5;241m.\u001B[39mfilter(\u001B[38;5;124m'\u001B[39m\u001B[38;5;124mType_user = \u001B[39m\u001B[38;5;124m\"\u001B[39m\u001B[38;5;124mveryActive\u001B[39m\u001B[38;5;124m\"\u001B[39m\u001B[38;5;124m'\u001B[39m)\u001B[38;5;241m.\u001B[39mjoin(\n\u001B[1;32m      8\u001B[0m                         df_heartrate_seconds_merged, \u001B[38;5;124m'\u001B[39m\u001B[38;5;124mId\u001B[39m\u001B[38;5;124m'\u001B[39m)\u001B[38;5;241m.\u001B[39mdescribe()\u001B[38;5;241m.\u001B[39mselect(\u001B[38;5;124m'\u001B[39m\u001B[38;5;124mSummary\u001B[39m\u001B[38;5;124m'\u001B[39m,\u001B[38;5;124m'\u001B[39m\u001B[38;5;124mValue\u001B[39m\u001B[38;5;124m'\u001B[39m)\u001B[38;5;241m.\u001B[39mwithColumnRenamed(\u001B[38;5;124m'\u001B[39m\u001B[38;5;124mValue\u001B[39m\u001B[38;5;124m'\u001B[39m,\u001B[38;5;124m'\u001B[39m\u001B[38;5;124mveryActive\u001B[39m\u001B[38;5;124m'\u001B[39m),\u001B[38;5;124m\"\u001B[39m\u001B[38;5;124mSummary\u001B[39m\u001B[38;5;124m\"\u001B[39m\n\u001B[1;32m      9\u001B[0m         ),\u001B[38;5;124m\"\u001B[39m\u001B[38;5;124mSummary\u001B[39m\u001B[38;5;124m\"\u001B[39m\n\u001B[1;32m     10\u001B[0m     )\n\u001B[1;32m     11\u001B[0m )\n\n\u001B[0;31mNameError\u001B[0m: name 'df_main' is not defined",
       "errorSummary": "<span class='ansi-red-fg'>NameError</span>: name 'df_main' is not defined",
       "errorTraceType": "ansi",
       "metadata": {},
       "type": "ipynbError"
      }
     },
     "output_type": "display_data"
    }
   ],
   "source": [
    "display( \n",
    "    \n",
    "    df_main.filter('Type_user = \"lightActive\"').join(\n",
    "        df_heartrate_seconds_merged, 'Id').describe().select('Summary','Value').withColumnRenamed('Value','lightActive').join(\n",
    "            df_main.filter('Type_user = \"fairlyActive\"').join(\n",
    "                df_heartrate_seconds_merged, 'Id').describe().select('Summary','Value').withColumnRenamed('Value','fairlyActive').join(\n",
    "                    df_main.filter('Type_user = \"veryActive\"').join(\n",
    "                        df_heartrate_seconds_merged, 'Id').describe().select('Summary','Value').withColumnRenamed('Value','veryActive'),\"Summary\"\n",
    "        ),\"Summary\"\n",
    "    )\n",
    ")\n",
    "    \n"
   ]
  },
  {
   "cell_type": "code",
   "execution_count": 0,
   "metadata": {
    "application/vnd.databricks.v1+cell": {
     "cellMetadata": {
      "byteLimit": 2048000,
      "rowLimit": 10000
     },
     "inputWidgets": {},
     "nuid": "3fcd7ec1-aa98-4831-b546-d66289037754",
     "showTitle": false,
     "title": ""
    }
   },
   "outputs": [
    {
     "output_type": "stream",
     "name": "stdout",
     "output_type": "stream",
     "text": [
      "+-------+--------------------+------------------+------------------+------------------+\n|summary|                  Id| TotalSleepRecords|TotalMinutesAsleep|    TotalTimeInBed|\n+-------+--------------------+------------------+------------------+------------------+\n|  count|                 413|               413|               413|               413|\n|   mean| 5.000979403213075E9|  1.11864406779661|419.46731234866826| 458.6392251815981|\n| stddev|2.0603601737440448E9|0.3455207153736887|118.34467933943277|127.10160720753305|\n|    min|          1503960366|               1.0|              58.0|              61.0|\n|    max|          8792009665|               3.0|             796.0|             961.0|\n+-------+--------------------+------------------+------------------+------------------+\n\n"
     ]
    }
   ],
   "source": [
    "df_sleepDay_merged.describe().show()"
   ]
  },
  {
   "cell_type": "code",
   "execution_count": 0,
   "metadata": {
    "application/vnd.databricks.v1+cell": {
     "cellMetadata": {
      "byteLimit": 2048000,
      "rowLimit": 10000
     },
     "inputWidgets": {},
     "nuid": "d4f58834-370d-46d8-8991-1d97a1ff5f4f",
     "showTitle": false,
     "title": ""
    }
   },
   "outputs": [],
   "source": [
    "def mins_to_hour(x):\n",
    "    return x/60\n",
    "\n",
    "mins_to_hour = udf(mins_to_hour, DoubleType())"
   ]
  },
  {
   "cell_type": "code",
   "execution_count": 0,
   "metadata": {
    "application/vnd.databricks.v1+cell": {
     "cellMetadata": {
      "byteLimit": 2048000,
      "rowLimit": 10000
     },
     "inputWidgets": {},
     "nuid": "9a181a59-a3a9-4184-a765-4e03ac536902",
     "showTitle": false,
     "title": ""
    }
   },
   "outputs": [
    {
     "output_type": "display_data",
     "data": {
      "text/html": [
       "<style scoped>\n",
       "  .table-result-container {\n",
       "    max-height: 300px;\n",
       "    overflow: auto;\n",
       "  }\n",
       "  table, th, td {\n",
       "    border: 1px solid black;\n",
       "    border-collapse: collapse;\n",
       "  }\n",
       "  th, td {\n",
       "    padding: 5px;\n",
       "  }\n",
       "  th {\n",
       "    text-align: left;\n",
       "  }\n",
       "</style><div class='table-result-container'><table class='table-result'><thead style='background-color: white'><tr><th>summary</th><th>Id</th><th>avg_VeryActiveMinutes</th><th>avg_FairlyActiveMinutes</th><th>avg_LightlyActiveMinutes</th><th>Type_user</th><th>TotalSleepRecords</th><th>TotalMinutesAsleep</th><th>TotalTimeInBed</th></tr></thead><tbody><tr><td>count</td><td>137</td><td>137</td><td>137</td><td>137</td><td>137</td><td>137</td><td>137</td><td>137</td></tr><tr><td>mean</td><td>4.4376694881605835E9</td><td>3.106386310359909</td><td>4.344940676757051</td><td>206.81753680662402</td><td>null</td><td>1.1386861313868613</td><td>438.24087591240874</td><td>471.86131386861314</td></tr><tr><td>stddev</td><td>2.0219240952261038E9</td><td>2.7922802426002216</td><td>4.658198398921412</td><td>73.38767031835002</td><td>null</td><td>0.3674731233034123</td><td>128.5782850083859</td><td>149.6436542984382</td></tr><tr><td>min</td><td>1844505072</td><td>0.0967741935483871</td><td>0.25806451612903225</td><td>38.58064516129032</td><td>lightActive</td><td>1.0</td><td>59.0</td><td>65.0</td></tr><tr><td>max</td><td>8792009665</td><td>10.387096774193548</td><td>13.709677419354838</td><td>288.35714285714283</td><td>lightActive</td><td>3.0</td><td>750.0</td><td>961.0</td></tr></tbody></table></div>"
      ]
     },
     "metadata": {
      "application/vnd.databricks.v1+output": {
       "addedWidgets": {},
       "aggData": [],
       "aggError": "",
       "aggOverflow": false,
       "aggSchema": [],
       "aggSeriesLimitReached": false,
       "aggType": "",
       "arguments": {},
       "columnCustomDisplayInfos": {},
       "data": [
        [
         "count",
         "137",
         "137",
         "137",
         "137",
         "137",
         "137",
         "137",
         "137"
        ],
        [
         "mean",
         "4.4376694881605835E9",
         "3.106386310359909",
         "4.344940676757051",
         "206.81753680662402",
         null,
         "1.1386861313868613",
         "438.24087591240874",
         "471.86131386861314"
        ],
        [
         "stddev",
         "2.0219240952261038E9",
         "2.7922802426002216",
         "4.658198398921412",
         "73.38767031835002",
         null,
         "0.3674731233034123",
         "128.5782850083859",
         "149.6436542984382"
        ],
        [
         "min",
         "1844505072",
         "0.0967741935483871",
         "0.25806451612903225",
         "38.58064516129032",
         "lightActive",
         "1.0",
         "59.0",
         "65.0"
        ],
        [
         "max",
         "8792009665",
         "10.387096774193548",
         "13.709677419354838",
         "288.35714285714283",
         "lightActive",
         "3.0",
         "750.0",
         "961.0"
        ]
       ],
       "datasetInfos": [],
       "dbfsResultPath": null,
       "isJsonSchema": true,
       "metadata": {},
       "overflow": false,
       "plotOptions": {
        "customPlotOptions": {},
        "displayType": "table",
        "pivotAggregation": null,
        "pivotColumns": null,
        "xColumns": null,
        "yColumns": null
       },
       "removedWidgets": [],
       "schema": [
        {
         "metadata": "{}",
         "name": "summary",
         "type": "\"string\""
        },
        {
         "metadata": "{}",
         "name": "Id",
         "type": "\"string\""
        },
        {
         "metadata": "{}",
         "name": "avg_VeryActiveMinutes",
         "type": "\"string\""
        },
        {
         "metadata": "{}",
         "name": "avg_FairlyActiveMinutes",
         "type": "\"string\""
        },
        {
         "metadata": "{}",
         "name": "avg_LightlyActiveMinutes",
         "type": "\"string\""
        },
        {
         "metadata": "{}",
         "name": "Type_user",
         "type": "\"string\""
        },
        {
         "metadata": "{}",
         "name": "TotalSleepRecords",
         "type": "\"string\""
        },
        {
         "metadata": "{}",
         "name": "TotalMinutesAsleep",
         "type": "\"string\""
        },
        {
         "metadata": "{}",
         "name": "TotalTimeInBed",
         "type": "\"string\""
        }
       ],
       "type": "table"
      }
     },
     "output_type": "display_data"
    }
   ],
   "source": [
    "display(\n",
    "    df_main.filter('Type_user = \"lightActive\"').join(\n",
    "        df_sleepDay_merged, 'Id').describe()\n",
    ")"
   ]
  },
  {
   "cell_type": "code",
   "execution_count": 0,
   "metadata": {
    "application/vnd.databricks.v1+cell": {
     "cellMetadata": {
      "byteLimit": 2048000,
      "rowLimit": 10000
     },
     "inputWidgets": {},
     "nuid": "6e2b6460-532a-4df8-a381-a2998b30c09c",
     "showTitle": false,
     "title": ""
    }
   },
   "outputs": [
    {
     "output_type": "display_data",
     "data": {
      "text/html": [
       "<style scoped>\n",
       "  .table-result-container {\n",
       "    max-height: 300px;\n",
       "    overflow: auto;\n",
       "  }\n",
       "  table, th, td {\n",
       "    border: 1px solid black;\n",
       "    border-collapse: collapse;\n",
       "  }\n",
       "  th, td {\n",
       "    padding: 5px;\n",
       "  }\n",
       "  th {\n",
       "    text-align: left;\n",
       "  }\n",
       "</style><div class='table-result-container'><table class='table-result'><thead style='background-color: white'><tr><th>Summary</th><th>lightActive</th><th>fairlyActive</th><th>fairlyActive</th></tr></thead><tbody><tr><td>count</td><td>137</td><td>78</td><td>198</td></tr><tr><td>mean</td><td>7.304014598540147</td><td>6.183974358974359</td><td>7.0925925925925855</td></tr><tr><td>stddev</td><td>2.142971416806432</td><td>1.8676934450087903</td><td>1.807241999510688</td></tr><tr><td>min</td><td>0.9833333333333333</td><td>1.9833333333333334</td><td>0.9666666666666667</td></tr><tr><td>max</td><td>12.5</td><td>13.266666666666667</td><td>12.916666666666666</td></tr></tbody></table></div>"
      ]
     },
     "metadata": {
      "application/vnd.databricks.v1+output": {
       "addedWidgets": {},
       "aggData": [],
       "aggError": "",
       "aggOverflow": false,
       "aggSchema": [],
       "aggSeriesLimitReached": false,
       "aggType": "",
       "arguments": {},
       "columnCustomDisplayInfos": {},
       "data": [
        [
         "count",
         "137",
         "78",
         "198"
        ],
        [
         "mean",
         "7.304014598540147",
         "6.183974358974359",
         "7.0925925925925855"
        ],
        [
         "stddev",
         "2.142971416806432",
         "1.8676934450087903",
         "1.807241999510688"
        ],
        [
         "min",
         "0.9833333333333333",
         "1.9833333333333334",
         "0.9666666666666667"
        ],
        [
         "max",
         "12.5",
         "13.266666666666667",
         "12.916666666666666"
        ]
       ],
       "datasetInfos": [],
       "dbfsResultPath": null,
       "isJsonSchema": true,
       "metadata": {},
       "overflow": false,
       "plotOptions": {
        "customPlotOptions": {},
        "displayType": "table",
        "pivotAggregation": null,
        "pivotColumns": null,
        "xColumns": null,
        "yColumns": null
       },
       "removedWidgets": [],
       "schema": [
        {
         "metadata": "{}",
         "name": "Summary",
         "type": "\"string\""
        },
        {
         "metadata": "{}",
         "name": "lightActive",
         "type": "\"string\""
        },
        {
         "metadata": "{}",
         "name": "fairlyActive",
         "type": "\"string\""
        },
        {
         "metadata": "{}",
         "name": "fairlyActive",
         "type": "\"string\""
        }
       ],
       "type": "table"
      }
     },
     "output_type": "display_data"
    }
   ],
   "source": [
    "display(\n",
    "    df_main.filter('Type_user = \"lightActive\"').join(\n",
    "        df_sleepDay_merged.select('Id',mins_to_hour('TotalMinutesAsleep')), 'Id')\\\n",
    "            .withColumnRenamed('mins_to_hour(TotalMinutesAsleep)','lightActive').describe().select('Summary','lightActive').join(\n",
    "\n",
    "            df_main.filter('Type_user = \"fairlyActive\"').join(\n",
    "                df_sleepDay_merged.select('Id',mins_to_hour('TotalMinutesAsleep')), 'Id')\\\n",
    "                .withColumnRenamed('mins_to_hour(TotalMinutesAsleep)','fairlyActive').describe().select('Summary','fairlyActive').join(\n",
    "\n",
    "                df_main.filter('Type_user = \"veryActive\"').join(\n",
    "                    df_sleepDay_merged.select('Id',mins_to_hour('TotalMinutesAsleep')), 'Id')\\\n",
    "                    .withColumnRenamed('mins_to_hour(TotalMinutesAsleep)','fairlyActive').describe().select('Summary','fairlyActive'),\"Summary\" ),\n",
    "\n",
    "                \"Summary\"\n",
    "            )\n",
    ")"
   ]
  },
  {
   "cell_type": "code",
   "execution_count": 0,
   "metadata": {
    "application/vnd.databricks.v1+cell": {
     "cellMetadata": {},
     "inputWidgets": {},
     "nuid": "8ff3ad83-c338-4726-955f-d4eac1d3b3fa",
     "showTitle": false,
     "title": ""
    }
   },
   "outputs": [],
   "source": []
  }
 ],
 "metadata": {
  "application/vnd.databricks.v1+notebook": {
   "dashboards": [],
   "language": "python",
   "notebookMetadata": {
    "pythonIndentUnit": 4
   },
   "notebookName": "Project: Data-Driven Wellness",
   "widgets": {}
  }
 },
 "nbformat": 4,
 "nbformat_minor": 0
}
